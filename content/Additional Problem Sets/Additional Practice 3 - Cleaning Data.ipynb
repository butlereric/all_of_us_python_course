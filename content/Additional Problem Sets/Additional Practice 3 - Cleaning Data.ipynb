{
 "cells": [
  {
   "cell_type": "markdown",
   "id": "f75faded",
   "metadata": {},
   "source": [
    "The block below will import pandas and your dataframe (naming it `df`), as well as showing you the first five rows. (This replicates what you'll get in All of Us, where all of this will be added to the notebook automatically.) Run this block or you can't do any of the other exercises.\n",
    "\n",
    "The dataframe you will get is one where a drug has been used to treat a variety of conditions. Questions are arising as to whether it causes issues with intraocular pressure. You will have the patient's intraocular pressure, the number of days they were treated with the drug, the per-day dosage, and the condition they were treated for as both a name and a numeric code.\n",
    "\n",
    "This time the dataframe will have missing data and duplicated rows."
   ]
  },
  {
   "cell_type": "code",
   "execution_count": 5,
   "id": "cb6125ff",
   "metadata": {},
   "outputs": [
    {
     "data": {
      "text/html": [
       "<div>\n",
       "<style scoped>\n",
       "    .dataframe tbody tr th:only-of-type {\n",
       "        vertical-align: middle;\n",
       "    }\n",
       "\n",
       "    .dataframe tbody tr th {\n",
       "        vertical-align: top;\n",
       "    }\n",
       "\n",
       "    .dataframe thead th {\n",
       "        text-align: right;\n",
       "    }\n",
       "</style>\n",
       "<table border=\"1\" class=\"dataframe\">\n",
       "  <thead>\n",
       "    <tr style=\"text-align: right;\">\n",
       "      <th></th>\n",
       "      <th>Intraocular Pressure</th>\n",
       "      <th>Days of Treatment</th>\n",
       "      <th>Dosage (mg)</th>\n",
       "      <th>Condition Treated</th>\n",
       "      <th>Condition Treated Code</th>\n",
       "    </tr>\n",
       "  </thead>\n",
       "  <tbody>\n",
       "    <tr>\n",
       "      <th>0</th>\n",
       "      <td>11.5</td>\n",
       "      <td>4.0</td>\n",
       "      <td>9.0</td>\n",
       "      <td>Corneal abrasion</td>\n",
       "      <td>0.0</td>\n",
       "    </tr>\n",
       "    <tr>\n",
       "      <th>1</th>\n",
       "      <td>11.5</td>\n",
       "      <td>4.0</td>\n",
       "      <td>9.0</td>\n",
       "      <td>Corneal abrasion</td>\n",
       "      <td>0.0</td>\n",
       "    </tr>\n",
       "    <tr>\n",
       "      <th>2</th>\n",
       "      <td>NaN</td>\n",
       "      <td>7.0</td>\n",
       "      <td>10.0</td>\n",
       "      <td>Acid reflux</td>\n",
       "      <td>1.0</td>\n",
       "    </tr>\n",
       "    <tr>\n",
       "      <th>3</th>\n",
       "      <td>NaN</td>\n",
       "      <td>7.0</td>\n",
       "      <td>10.0</td>\n",
       "      <td>Acid reflux</td>\n",
       "      <td>1.0</td>\n",
       "    </tr>\n",
       "    <tr>\n",
       "      <th>4</th>\n",
       "      <td>NaN</td>\n",
       "      <td>0.0</td>\n",
       "      <td>NaN</td>\n",
       "      <td>Animal bite</td>\n",
       "      <td>3.0</td>\n",
       "    </tr>\n",
       "    <tr>\n",
       "      <th>5</th>\n",
       "      <td>NaN</td>\n",
       "      <td>NaN</td>\n",
       "      <td>NaN</td>\n",
       "      <td>NaN</td>\n",
       "      <td>NaN</td>\n",
       "    </tr>\n",
       "    <tr>\n",
       "      <th>6</th>\n",
       "      <td>7.3</td>\n",
       "      <td>3.0</td>\n",
       "      <td>11.0</td>\n",
       "      <td>Anemia</td>\n",
       "      <td>4.0</td>\n",
       "    </tr>\n",
       "    <tr>\n",
       "      <th>7</th>\n",
       "      <td>10.4</td>\n",
       "      <td>0.0</td>\n",
       "      <td>14.0</td>\n",
       "      <td>Anemia</td>\n",
       "      <td>4.0</td>\n",
       "    </tr>\n",
       "    <tr>\n",
       "      <th>8</th>\n",
       "      <td>12.3</td>\n",
       "      <td>2.0</td>\n",
       "      <td>14.0</td>\n",
       "      <td>Corneal abrasion</td>\n",
       "      <td>0.0</td>\n",
       "    </tr>\n",
       "    <tr>\n",
       "      <th>9</th>\n",
       "      <td>12.3</td>\n",
       "      <td>2.0</td>\n",
       "      <td>14.0</td>\n",
       "      <td>Corneal abrasion</td>\n",
       "      <td>0.0</td>\n",
       "    </tr>\n",
       "  </tbody>\n",
       "</table>\n",
       "</div>"
      ],
      "text/plain": [
       "   Intraocular Pressure  Days of Treatment  Dosage (mg) Condition Treated  \\\n",
       "0                  11.5                4.0          9.0  Corneal abrasion   \n",
       "1                  11.5                4.0          9.0  Corneal abrasion   \n",
       "2                   NaN                7.0         10.0       Acid reflux   \n",
       "3                   NaN                7.0         10.0       Acid reflux   \n",
       "4                   NaN                0.0          NaN       Animal bite   \n",
       "5                   NaN                NaN          NaN               NaN   \n",
       "6                   7.3                3.0         11.0            Anemia   \n",
       "7                  10.4                0.0         14.0            Anemia   \n",
       "8                  12.3                2.0         14.0  Corneal abrasion   \n",
       "9                  12.3                2.0         14.0  Corneal abrasion   \n",
       "\n",
       "   Condition Treated Code  \n",
       "0                     0.0  \n",
       "1                     0.0  \n",
       "2                     1.0  \n",
       "3                     1.0  \n",
       "4                     3.0  \n",
       "5                     NaN  \n",
       "6                     4.0  \n",
       "7                     4.0  \n",
       "8                     0.0  \n",
       "9                     0.0  "
      ]
     },
     "execution_count": 5,
     "metadata": {},
     "output_type": "execute_result"
    }
   ],
   "source": [
    "import random\n",
    "import numpy as np\n",
    "import pandas as pd\n",
    "\n",
    "drug_data = {'Intraocular Pressure': [], 'Days of Treatment': [], 'Dosage (mg)': [], 'Condition Treated': [],\n",
    "             'Condition Treated Code': []}\n",
    "for x in range(0, 1000):\n",
    "    # introcular pressure should be 10-20 mmHg\n",
    "    chooser = random.randint(0, 6)\n",
    "    iop = round(random.gauss(12, 2), 1)\n",
    "    days = int(random.gauss(6, 1) - chooser)\n",
    "    if days < 0:\n",
    "        days = 0\n",
    "    dosage = int(random.gauss(10 + chooser, 2))\n",
    "    condition = random.choice(['Corneal abrasion', 'Acid reflux', 'Animal bite', 'Anemia'])\n",
    "    condition_code = 0\n",
    "    if condition == 'Acid reflux':\n",
    "        condition_code = 1\n",
    "    elif condition == 'Animal bite':\n",
    "        condition_code = random.randint(2, 3)\n",
    "    elif condition == 'Anemia':\n",
    "        condition_code = 4\n",
    "    row = [iop, days, dosage, condition, condition_code]\n",
    "    if x == 1 or random.randint(0, 3) == 0:\n",
    "        i = random.randint(0, 4)\n",
    "        row.pop(i)\n",
    "        row.insert(i, np.nan)\n",
    "        additional_blank = random.randint(0, 3)\n",
    "        while additional_blank == 0:\n",
    "            i = random.randint(0, 4)\n",
    "            row.pop(i)\n",
    "            row.insert(i, np.nan)\n",
    "            additional_blank = random.randint(0, 3)\n",
    "    elif random.randint(0, 50) == 0 or x == 3:\n",
    "        row = [np.nan, np.nan, np.nan, np.nan, np.nan, np.nan]\n",
    "    num_times = random.choice([1, 1, 1, 1, 2])\n",
    "    if x == 1:\n",
    "        num_times = 2\n",
    "    for n in range(0, num_times):\n",
    "        num_times = 1\n",
    "        drug_data['Intraocular Pressure'].append(row[0])\n",
    "        drug_data['Days of Treatment'].append(row[1])\n",
    "        drug_data['Dosage (mg)'].append(row[2])\n",
    "        drug_data['Condition Treated'].append(row[3])\n",
    "        drug_data['Condition Treated Code'].append(row[4])\n",
    "    \n",
    "df = pd.DataFrame(drug_data)\n",
    "df.head(10)"
   ]
  },
  {
   "cell_type": "markdown",
   "id": "fb9c8470",
   "metadata": {},
   "source": [
    "### Dropping Blank Cells"
   ]
  },
  {
   "cell_type": "markdown",
   "id": "c6fb1de8",
   "metadata": {},
   "source": [
    "Drop all rows with any blanks. DON'T do this in-place!"
   ]
  },
  {
   "cell_type": "code",
   "execution_count": null,
   "id": "d01ac41f",
   "metadata": {},
   "outputs": [],
   "source": [
    "# your code goes here\n"
   ]
  },
  {
   "cell_type": "markdown",
   "id": "fd8c90e5",
   "metadata": {},
   "source": [
    "Drop all rows that are entirely blank and save this as a new frame. You can use `head(10)` to check, since there will always be at least one all=`NaN` row visible in the first ten rows."
   ]
  },
  {
   "cell_type": "code",
   "execution_count": null,
   "id": "4a98b5c0",
   "metadata": {},
   "outputs": [],
   "source": [
    "# your code goes here\n"
   ]
  },
  {
   "cell_type": "markdown",
   "id": "307fd9b0",
   "metadata": {},
   "source": [
    "Pick a column with visible `NaN`s in the first five rows. Drop only rows where that column has blanks."
   ]
  },
  {
   "cell_type": "code",
   "execution_count": null,
   "id": "df23c174",
   "metadata": {},
   "outputs": [],
   "source": [
    "# your code goes here\n"
   ]
  },
  {
   "cell_type": "markdown",
   "id": "15af657e",
   "metadata": {},
   "source": [
    "### Filling Blank Cells"
   ]
  },
  {
   "cell_type": "markdown",
   "id": "d9ee2aad",
   "metadata": {},
   "source": [
    "Fill all blank cells with the number 1. DON'T do this in-place!"
   ]
  },
  {
   "cell_type": "code",
   "execution_count": 6,
   "id": "f948912a",
   "metadata": {},
   "outputs": [],
   "source": [
    "# your code goes here\n"
   ]
  },
  {
   "cell_type": "markdown",
   "id": "1407f520",
   "metadata": {},
   "source": [
    "Fill blanks in dosage with 10 and blanks in the number of days with 1."
   ]
  },
  {
   "cell_type": "code",
   "execution_count": null,
   "id": "3731ea79",
   "metadata": {},
   "outputs": [],
   "source": [
    "# your code goes here\n"
   ]
  },
  {
   "cell_type": "markdown",
   "id": "991fec51",
   "metadata": {},
   "source": [
    "Fill in blanks in Days of Treatment with half the dosage for that row."
   ]
  },
  {
   "cell_type": "code",
   "execution_count": null,
   "id": "dc95dadf",
   "metadata": {},
   "outputs": [],
   "source": [
    "# your code goes here\n"
   ]
  },
  {
   "cell_type": "markdown",
   "id": "84076dac",
   "metadata": {},
   "source": [
    "### Dropping Duplicates"
   ]
  },
  {
   "cell_type": "markdown",
   "id": "2d41f188",
   "metadata": {},
   "source": [
    "Drop ALL duplicated rows in the dataframe. Don't do this in-place!"
   ]
  },
  {
   "cell_type": "code",
   "execution_count": null,
   "id": "1852e2d0",
   "metadata": {},
   "outputs": [],
   "source": [
    "# your code goes here\n"
   ]
  },
  {
   "cell_type": "markdown",
   "id": "1927f2b3",
   "metadata": {},
   "source": [
    "Drop only rows that have duplicates in Condition Treated Code. This will produce a very short dataframe."
   ]
  },
  {
   "cell_type": "code",
   "execution_count": null,
   "id": "16396de1",
   "metadata": {},
   "outputs": [],
   "source": [
    "# your code goes here\n"
   ]
  },
  {
   "cell_type": "markdown",
   "id": "16186232",
   "metadata": {},
   "source": [
    "### Fixing Incorrect Data Types"
   ]
  },
  {
   "cell_type": "markdown",
   "id": "9ed77f5a",
   "metadata": {},
   "source": [
    "Determine the data types of all columns in this dataframe."
   ]
  },
  {
   "cell_type": "code",
   "execution_count": null,
   "id": "30110a2d",
   "metadata": {},
   "outputs": [],
   "source": [
    "# your code goes here\n"
   ]
  },
  {
   "cell_type": "markdown",
   "id": "c1dcdf13",
   "metadata": {},
   "source": [
    "Convert Condition Treated Code to a text variable, in-place."
   ]
  },
  {
   "cell_type": "code",
   "execution_count": null,
   "id": "43d81f9e",
   "metadata": {},
   "outputs": [],
   "source": [
    "# your code goes here\n"
   ]
  },
  {
   "cell_type": "markdown",
   "id": "19b0ab82",
   "metadata": {},
   "source": [
    "Make a new column that is Condition Treated Code as a number again."
   ]
  },
  {
   "cell_type": "code",
   "execution_count": null,
   "id": "ba154898",
   "metadata": {},
   "outputs": [],
   "source": [
    "# your code goes here\n"
   ]
  }
 ],
 "metadata": {
  "kernelspec": {
   "display_name": "Python 3 (ipykernel)",
   "language": "python",
   "name": "python3"
  },
  "language_info": {
   "codemirror_mode": {
    "name": "ipython",
    "version": 3
   },
   "file_extension": ".py",
   "mimetype": "text/x-python",
   "name": "python",
   "nbconvert_exporter": "python",
   "pygments_lexer": "ipython3",
   "version": "3.11.2"
  }
 },
 "nbformat": 4,
 "nbformat_minor": 5
}
