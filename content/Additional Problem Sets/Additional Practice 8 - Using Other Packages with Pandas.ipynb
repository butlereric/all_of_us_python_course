{
 "cells": [
  {
   "cell_type": "markdown",
   "id": "efc39d1d",
   "metadata": {},
   "source": [
    "The block below will import pandas and your dataframe (naming it df), as well as showing you the first five rows. (This replicates what you'll get in All of Us, where all of this will be added to the notebook automatically.) Run this block or you can't do any of the other exercises.\n",
    "\n",
    "The dataframe you will get is one where a drug has been used to treat a variety of conditions. Questions are arising as to whether it causes issues with intraocular pressure. You will have the patient's intraocular pressure, the number of days they were treated with the drug, the per-day dosage, and the condition they were treated for as both a name and a numeric code."
   ]
  },
  {
   "cell_type": "code",
   "execution_count": null,
   "id": "fb09caf6",
   "metadata": {},
   "outputs": [],
   "source": [
    "import random\n",
    "import pandas as pd\n",
    "\n",
    "drug_data = {'Intraocular Pressure': [], 'Days of Treatment': [], 'Dosage (mg)': [], 'Condition Treated': [],\n",
    "             'Condition Treated Code': []}\n",
    "for x in range(0, 1000):\n",
    "    # introcular pressure should be 10-20 mmHg\n",
    "    chooser = random.randint(0, 6)\n",
    "    iop = round(random.gauss(12, 2), 1)\n",
    "    days = int(random.gauss(6, 1) - chooser)\n",
    "    if days < 0:\n",
    "        days = 0\n",
    "    dosage = int(random.gauss(10 + chooser, 2))\n",
    "    condition = random.choice(['Corneal abrasion', 'Acid reflux', 'Animal bite', 'Anemia'])\n",
    "    condition_code = 0\n",
    "    if condition == 'Acid reflux':\n",
    "        condition_code = 1\n",
    "    elif condition == 'Animal bite':\n",
    "        condition_code = random.randint(2, 3)\n",
    "    elif condition == 'Anemia':\n",
    "        condition_code = 4\n",
    "    row = [iop, days, dosage, condition, condition_code]\n",
    "    num_times = 1\n",
    "    drug_data['Intraocular Pressure'].append(row[0])\n",
    "    drug_data['Days of Treatment'].append(row[1])\n",
    "    drug_data['Dosage (mg)'].append(row[2])\n",
    "    drug_data['Condition Treated'].append(row[3])\n",
    "    drug_data['Condition Treated Code'].append(row[4])\n",
    "    \n",
    "df = pd.DataFrame(drug_data)\n",
    "df.head()"
   ]
  },
  {
   "cell_type": "markdown",
   "id": "89e6eff3",
   "metadata": {},
   "source": [
    "The exercises here will all be fairly high-level, but will differ in the number of hints I give you up front.\n",
    "\n",
    "First, use `scipy.stats.ttest_ind` to test whether dosage is different for Acid reflux and Anemia. You'll want to pass the scipy function filtered datasets. You can either do this on three lines (save the filtered dataset as a variable, do that again for the other condition, then run the test) or on one (pass the filtering expressions as arguments to the function). The first option tends to be easier to troubleshoot.\n",
    "\n",
    "The page for that function is [here](https://docs.scipy.org/doc/scipy/reference/generated/scipy.stats.ttest_ind.html#scipy.stats.ttest_ind)."
   ]
  },
  {
   "cell_type": "code",
   "execution_count": null,
   "id": "f1c65045",
   "metadata": {},
   "outputs": [],
   "source": [
    "# your code goes here\n"
   ]
  },
  {
   "cell_type": "markdown",
   "id": "4c511739",
   "metadata": {},
   "source": [
    "Now, repeat this in a nonparametric context by running a Mann-Whitney U test. This test is very much like the t-test we just did, but now it's on you to find the appropriate function. (Hint: it's in the same category as the t-test on the scipy.stats page."
   ]
  },
  {
   "cell_type": "code",
   "execution_count": null,
   "id": "a33ecc76",
   "metadata": {},
   "outputs": [],
   "source": [
    "# your code goes here\n"
   ]
  },
  {
   "cell_type": "markdown",
   "id": "1c1c80fc",
   "metadata": {},
   "source": [
    "Perform a one-way analysis of variance using the scipy.stats package to determine whether dosage varies between any of the treatments.\n",
    "\n",
    "If you really want to push yourself perform a follow-up Tukey HSD test."
   ]
  },
  {
   "cell_type": "code",
   "execution_count": null,
   "id": "02278a66",
   "metadata": {},
   "outputs": [],
   "source": [
    "# your code goes here\n"
   ]
  },
  {
   "cell_type": "markdown",
   "id": "1b25861a",
   "metadata": {},
   "source": [
    "Use matplotlib to make histograms for each true numeric column in the dataframe (not the condition code)."
   ]
  },
  {
   "cell_type": "code",
   "execution_count": null,
   "id": "ec83bf80",
   "metadata": {},
   "outputs": [],
   "source": [
    "# your code goes here\n"
   ]
  },
  {
   "cell_type": "markdown",
   "id": "c3d5493e",
   "metadata": {},
   "source": [
    "Matplotlib supports subplots, where multiple figures are placed in a grid of plots. Place your three histograms (above) as subplots of one larger plot,"
   ]
  },
  {
   "cell_type": "code",
   "execution_count": null,
   "id": "f746f353",
   "metadata": {},
   "outputs": [],
   "source": [
    "# your code goes here\n"
   ]
  }
 ],
 "metadata": {
  "kernelspec": {
   "display_name": "Python 3 (ipykernel)",
   "language": "python",
   "name": "python3"
  },
  "language_info": {
   "codemirror_mode": {
    "name": "ipython",
    "version": 3
   },
   "file_extension": ".py",
   "mimetype": "text/x-python",
   "name": "python",
   "nbconvert_exporter": "python",
   "pygments_lexer": "ipython3",
   "version": "3.11.2"
  }
 },
 "nbformat": 4,
 "nbformat_minor": 5
}
