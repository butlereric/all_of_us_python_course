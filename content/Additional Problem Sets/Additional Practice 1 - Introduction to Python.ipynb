{
 "cells": [
  {
   "cell_type": "markdown",
   "id": "ad54c88c",
   "metadata": {},
   "source": [
    "These are additional exercises for Module 1 concepts."
   ]
  },
  {
   "cell_type": "markdown",
   "id": "f0aa1c13",
   "metadata": {},
   "source": [
    "### Functions and Variables\n",
    "The function`str()` turns its argument into a `str` (text) type. `len()` measures the length of an iterable (like an `str` or a list) passes as an argument to it."
   ]
  },
  {
   "cell_type": "markdown",
   "id": "3a64904d",
   "metadata": {},
   "source": [
    "Turn 1 and 2 into `str`s and add them together. You should get '12'."
   ]
  },
  {
   "cell_type": "code",
   "execution_count": null,
   "id": "4ef28531",
   "metadata": {},
   "outputs": [],
   "source": [
    "# your code goes here\n"
   ]
  },
  {
   "cell_type": "markdown",
   "id": "b1bdd61e",
   "metadata": {},
   "source": [
    "Turn 1 and 2 into `str`s, add them together, and measure the length of the result. You should get 2."
   ]
  },
  {
   "cell_type": "code",
   "execution_count": null,
   "id": "74fffa76",
   "metadata": {},
   "outputs": [],
   "source": [
    "# your code goes here\n"
   ]
  },
  {
   "cell_type": "markdown",
   "id": "b163fda0",
   "metadata": {},
   "source": [
    "Turn 4 into an `str` and multiply it by then length of the word \"go\", and add 3. You should get 47."
   ]
  },
  {
   "cell_type": "code",
   "execution_count": null,
   "id": "b8bd079f",
   "metadata": {},
   "outputs": [],
   "source": [
    "# your code goes here\n"
   ]
  },
  {
   "cell_type": "markdown",
   "id": "f80cffd8",
   "metadata": {},
   "source": [
    "Write a function that returns the length of its argument plus one."
   ]
  },
  {
   "cell_type": "code",
   "execution_count": null,
   "id": "613e0114",
   "metadata": {},
   "outputs": [],
   "source": [
    "# your code goes here\n"
   ]
  },
  {
   "cell_type": "markdown",
   "id": "4ad43471",
   "metadata": {},
   "source": [
    "Write a function that returns the length of its argument plus a second argument that defaults to one, but can be set differently as a keyword argument."
   ]
  },
  {
   "cell_type": "code",
   "execution_count": null,
   "id": "e9f209db",
   "metadata": {},
   "outputs": [],
   "source": [
    "# your code goes here\n"
   ]
  },
  {
   "cell_type": "markdown",
   "id": "b79638a1",
   "metadata": {},
   "source": [
    "### Scope"
   ]
  },
  {
   "cell_type": "markdown",
   "id": "f11f6e2d",
   "metadata": {},
   "source": [
    "Write two functions. The first should alter a global variable by doubling it. The second should print the same variable plus one, but not alter the variable."
   ]
  },
  {
   "cell_type": "code",
   "execution_count": null,
   "id": "81dde415",
   "metadata": {},
   "outputs": [],
   "source": [
    "# your code goes here\n"
   ]
  },
  {
   "cell_type": "markdown",
   "id": "9b5cb14a",
   "metadata": {},
   "source": [
    "### Lists"
   ]
  },
  {
   "cell_type": "markdown",
   "id": "f0003202",
   "metadata": {},
   "source": [
    "The top line of this code uses some tricks we haven't discussed to make a list of even numbers, starting from 0. Write the line of code that retrieves the number 10 from it."
   ]
  },
  {
   "cell_type": "code",
   "execution_count": null,
   "id": "45968e0c",
   "metadata": {},
   "outputs": [],
   "source": [
    "even_nums = [*range(0, 105)]\n",
    "\n",
    "# your code goes here\n"
   ]
  },
  {
   "cell_type": "markdown",
   "id": "10644a6b",
   "metadata": {},
   "source": [
    "Write code that retrieves the third-from-last number in `even_nums`. (If you skipped the code above you'll need to run it.)"
   ]
  },
  {
   "cell_type": "code",
   "execution_count": null,
   "id": "d2ab853d",
   "metadata": {},
   "outputs": [],
   "source": [
    "# your code goes here\n"
   ]
  },
  {
   "cell_type": "markdown",
   "id": "8e802b74",
   "metadata": {},
   "source": [
    "Add the numbers 128, 135, and 140 to the end of `even_nums`."
   ]
  },
  {
   "cell_type": "code",
   "execution_count": null,
   "id": "23e5ad01",
   "metadata": {},
   "outputs": [],
   "source": [
    "# your code goes here\n"
   ]
  },
  {
   "cell_type": "markdown",
   "id": "a972c13d",
   "metadata": {},
   "source": [
    "Remove the number 22 from `even_nums`."
   ]
  },
  {
   "cell_type": "code",
   "execution_count": null,
   "id": "38f55804",
   "metadata": {},
   "outputs": [],
   "source": [
    "# your code goes here\n"
   ]
  },
  {
   "cell_type": "markdown",
   "id": "40902446",
   "metadata": {},
   "source": [
    "### Dictionaries"
   ]
  },
  {
   "cell_type": "markdown",
   "id": "5ed4b9f4",
   "metadata": {},
   "source": [
    "Make a dictionary keyed by foods where the value is a two-item list where the first item is what meal you think it should be eaten at and the second is how much you like it on a 1-5 scale."
   ]
  },
  {
   "cell_type": "code",
   "execution_count": null,
   "id": "e592d48e",
   "metadata": {},
   "outputs": [],
   "source": [
    "# your code goes here\n"
   ]
  },
  {
   "cell_type": "markdown",
   "id": "b6878802",
   "metadata": {},
   "source": [
    "Modify one of the values in your dictionary."
   ]
  },
  {
   "cell_type": "code",
   "execution_count": null,
   "id": "4aaf2545",
   "metadata": {},
   "outputs": [],
   "source": [
    "# your code goes here\n"
   ]
  },
  {
   "cell_type": "markdown",
   "id": "e9162975",
   "metadata": {},
   "source": [
    "Add another value to your dictionary."
   ]
  },
  {
   "cell_type": "code",
   "execution_count": null,
   "id": "4202c042",
   "metadata": {},
   "outputs": [],
   "source": [
    "# your code goes here\n"
   ]
  },
  {
   "cell_type": "markdown",
   "id": "ee948365",
   "metadata": {},
   "source": [
    "### For Loops"
   ]
  },
  {
   "cell_type": "markdown",
   "id": "2d7eaea5",
   "metadata": {},
   "source": [
    "Write a for-loop that takes every value in the list `[2, 4, 6]` and divides it by two."
   ]
  },
  {
   "cell_type": "code",
   "execution_count": null,
   "id": "be9251b6",
   "metadata": {},
   "outputs": [],
   "source": [
    "# your code goes here\n"
   ]
  },
  {
   "cell_type": "markdown",
   "id": "14245a98",
   "metadata": {},
   "source": [
    "Take the loop above and make it save its results in a new list."
   ]
  },
  {
   "cell_type": "code",
   "execution_count": null,
   "id": "2cd162eb",
   "metadata": {},
   "outputs": [],
   "source": [
    "# your code goes here\n"
   ]
  },
  {
   "cell_type": "markdown",
   "id": "bb707e55",
   "metadata": {},
   "source": [
    "Use `range` to write a loop that takes each number out of the list `[1, 2, 3, 4, 5, 6]` and adds its own index to it. (E.g., 1 + 0, 2 + 1, 3 + 2)"
   ]
  },
  {
   "cell_type": "code",
   "execution_count": null,
   "id": "3fb46082",
   "metadata": {},
   "outputs": [],
   "source": [
    "# your code goes here\n"
   ]
  },
  {
   "cell_type": "markdown",
   "id": "b765f9b9",
   "metadata": {},
   "source": [
    "Use range to write a loop that takes each number out of the list `[1, 2, 3, 4, 5, 6]` and prints it itself-times. (E.g., 1 is printed once, 2 twice, 3 three times.)"
   ]
  },
  {
   "cell_type": "code",
   "execution_count": null,
   "id": "bbb1fa82",
   "metadata": {},
   "outputs": [],
   "source": [
    "# your code goes here\n"
   ]
  },
  {
   "cell_type": "markdown",
   "id": "9f18dfad",
   "metadata": {},
   "source": [
    "Write a function that takes one of the dictionaries you or I have written previously and makes a new dictionary that is \"flipped\" (key becomes value, value becomes key)."
   ]
  },
  {
   "cell_type": "code",
   "execution_count": null,
   "id": "22ada24c",
   "metadata": {},
   "outputs": [],
   "source": [
    "# your code goes here\n"
   ]
  },
  {
   "cell_type": "markdown",
   "id": "91d0a28b",
   "metadata": {},
   "source": [
    "**High difficulty!**\n",
    "Write a for-loop that is given a starting list `[1, 1]` and then adds numbers to it following the Fibonacci series. You should use a `range` statement to control how many numbers get added and the function should calculate the new number itself."
   ]
  },
  {
   "cell_type": "code",
   "execution_count": null,
   "id": "efa00ae9",
   "metadata": {},
   "outputs": [],
   "source": [
    "# your code goes here\n"
   ]
  },
  {
   "cell_type": "markdown",
   "id": "8c5a55a4",
   "metadata": {},
   "source": [
    "### If Statements"
   ]
  },
  {
   "cell_type": "markdown",
   "id": "96d257e6",
   "metadata": {},
   "source": [
    "The percentage sign (%) gives the remainder of division. E.g., 16 % 5 equals 1, because 5 goes into 15 three times and then there is 1 left over. This can be used to test for eveness in a number. If `num % 2` is zero the number is even.\n",
    "\n",
    "Below, write a for-loop that evaluates a range of numbers between 0 and 20 and prints 'even' if the number is even."
   ]
  },
  {
   "cell_type": "code",
   "execution_count": null,
   "id": "a8b8dca0",
   "metadata": {},
   "outputs": [],
   "source": [
    "# your code goes here\n"
   ]
  },
  {
   "cell_type": "markdown",
   "id": "870ee497",
   "metadata": {},
   "source": [
    "Copy the code above and modify it so that it also prints 'odd' if the number is odd."
   ]
  },
  {
   "cell_type": "code",
   "execution_count": null,
   "id": "808d10f1",
   "metadata": {},
   "outputs": [],
   "source": [
    "# your code goes here\n"
   ]
  },
  {
   "cell_type": "markdown",
   "id": "369091f8",
   "metadata": {},
   "source": [
    "Copy the code above and modify it so that it prints 'even' for even numbers and for odd numbers it either prints 'divisible by three' if the number is divisible by three and 'not divisible by three' if it isn't divisible by three or even."
   ]
  },
  {
   "cell_type": "code",
   "execution_count": null,
   "id": "9f14c941",
   "metadata": {},
   "outputs": [],
   "source": [
    "# your code goes here\n"
   ]
  },
  {
   "cell_type": "markdown",
   "id": "e91daf5d",
   "metadata": {},
   "source": [
    "**Difficult!**\n",
    "Write a function that takes a three-item list as an argument and evaluates whether the third item is the sum of the first two and returns that answer."
   ]
  },
  {
   "cell_type": "code",
   "execution_count": null,
   "id": "85ced908",
   "metadata": {},
   "outputs": [],
   "source": [
    "# your code goes here\n"
   ]
  },
  {
   "cell_type": "markdown",
   "id": "228a1591",
   "metadata": {},
   "source": [
    "### Errors"
   ]
  },
  {
   "cell_type": "markdown",
   "id": "ca5496b7",
   "metadata": {},
   "source": [
    "The code below is supposed to be a simple demonstration that n squared is the same as n plus itself, n times. It doesn't work. Fix it (there are two copies, so you can fix one and look at the other).\n",
    "\n",
    "Two mathematical operations appear here that may be unfamiliar: `**` means \"to the power of\" and `+=` means \"add this to yourself\". (E.g., `x += 1` means that x is now equal to x + 1.)"
   ]
  },
  {
   "cell_type": "code",
   "execution_count": null,
   "id": "bf27d807",
   "metadata": {},
   "outputs": [],
   "source": [
    "for n in range(0, 11):\n",
    "    n_sum = 0\n",
    "    n_squared = n ** 2\n",
    "    for x in range(0, n):\n",
    "        n_sum += n\n",
    "    print('Sum is:', n_sum, 'Square is:', n_square)"
   ]
  },
  {
   "cell_type": "code",
   "execution_count": null,
   "id": "a10ddcf3",
   "metadata": {},
   "outputs": [],
   "source": [
    "for n in range(0, 11):\n",
    "    n_sum = 0\n",
    "    n_squared = n ** 2\n",
    "    for x in range(0, n):\n",
    "        n_sum += n\n",
    "    print('Sum is:', n_sum, 'Square is:', n_square)"
   ]
  },
  {
   "cell_type": "markdown",
   "id": "118a9bf5",
   "metadata": {},
   "source": [
    "The code below should go through a list of sequentially-issued IDs and look up the next item in a dictionary, and then print the last field for that value, which will be the item price. It does not work. Again, there are two copies, fix one."
   ]
  },
  {
   "cell_type": "code",
   "execution_count": null,
   "id": "dca3b2c3",
   "metadata": {},
   "outputs": [],
   "source": [
    "ids = [28901, 28902, 28903, 28904, 28905, 28906]\n",
    "item_dict = {28901: [14, '$1.99'], \n",
    "             28902: [2, '$2096.15'],\n",
    "             28903: [4, '$5.50'],\n",
    "             28904: [4, '$128.01'],\n",
    "             28905: [5, '$15.37'],\n",
    "             28906: [72, '$0.12']}\n",
    "\n",
    "for num in ids:\n",
    "    item = item_dict[num + 1]\n",
    "    print(item[2])"
   ]
  },
  {
   "cell_type": "code",
   "execution_count": null,
   "id": "1f3e3930",
   "metadata": {},
   "outputs": [],
   "source": [
    "ids = [28901, 28902, 28903, 28904, 28905, 28906]\n",
    "item_dict = {28901: [14, '$1.99'], \n",
    "             28902: [2, '$2096.15'],\n",
    "             28903: [4, '$5.50'],\n",
    "             28904: [4, '$128.01'],\n",
    "             28905: [5, '$15.37'],\n",
    "             28906: [72, '$0.12']}\n",
    "\n",
    "for num in ids:\n",
    "    item = item_dict[num + 1]\n",
    "    print(item[2])"
   ]
  }
 ],
 "metadata": {
  "kernelspec": {
   "display_name": "Python 3 (ipykernel)",
   "language": "python",
   "name": "python3"
  },
  "language_info": {
   "codemirror_mode": {
    "name": "ipython",
    "version": 3
   },
   "file_extension": ".py",
   "mimetype": "text/x-python",
   "name": "python",
   "nbconvert_exporter": "python",
   "pygments_lexer": "ipython3",
   "version": "3.11.2"
  }
 },
 "nbformat": 4,
 "nbformat_minor": 5
}
