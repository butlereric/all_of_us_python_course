{
 "cells": [
  {
   "cell_type": "markdown",
   "id": "551eed9d",
   "metadata": {},
   "source": [
    "The block below will import pandas and your dataframe (naming it df), as well as showing you the first five rows. (This replicates what you'll get in All of Us, where all of this will be added to the notebook automatically.) Run this block or you can't do any of the other exercises.\n",
    "\n",
    "The dataframe you will get is one with a lot of dates and times. They represent four points along some sort of time series."
   ]
  },
  {
   "cell_type": "code",
   "execution_count": null,
   "id": "4072ba64",
   "metadata": {},
   "outputs": [],
   "source": [
    "import datetime as dt\n",
    "import pandas as pd\n",
    "import random\n",
    "\n",
    "time_frame = {'First Point': [], 'Second Point': [], 'Third Point': [], \n",
    "              'Fourth Year': [], 'Fourth Month': [], 'Fourth Day': []}\n",
    "\n",
    "def make_time():\n",
    "    day = random.randint(120, 730)\n",
    "    hour = random.randint(0, 23)\n",
    "    minute = random.randint(0, 59)\n",
    "    return dt.timedelta(days=day, hours=hour, minutes=minute)\n",
    "\n",
    "for x in range(0, 500):\n",
    "    first = dt.datetime(year=random.randint(1980, 2014), month=random.randint(1, 12), day=random.randint(1, 28),\n",
    "                       hour=random.randint(1, 23), minute=random.randint(0, 59), second=random.randint(0, 59))\n",
    "    second = first + make_time()\n",
    "    third = second + make_time()\n",
    "    fourth = third + make_time()\n",
    "    time_frame['First Point'].append(first)\n",
    "    time_frame['Second Point'].append(second)\n",
    "    time_frame['Third Point'].append(str(third))\n",
    "    time_frame['Fourth Year'].append(fourth.year)\n",
    "    time_frame['Fourth Month'].append(fourth.month)\n",
    "    time_frame['Fourth Day'].append(fourth.day)\n",
    "    \n",
    "df = pd.DataFrame(time_frame)\n",
    "df.head(10)"
   ]
  },
  {
   "cell_type": "markdown",
   "id": "f6697c3e",
   "metadata": {},
   "source": [
    "### Datetime Library"
   ]
  },
  {
   "cell_type": "markdown",
   "id": "f20f3dac",
   "metadata": {},
   "source": [
    "Make a variable that grabs the current time."
   ]
  },
  {
   "cell_type": "code",
   "execution_count": null,
   "id": "441da6db",
   "metadata": {},
   "outputs": [],
   "source": [
    "# your code goes here\n"
   ]
  },
  {
   "cell_type": "markdown",
   "id": "03202217",
   "metadata": {},
   "source": [
    "Make a variable that holds a datetime object that represents the time November 17th, 1993."
   ]
  },
  {
   "cell_type": "code",
   "execution_count": null,
   "id": "694e047f",
   "metadata": {},
   "outputs": [],
   "source": [
    "# your code goes here\n"
   ]
  },
  {
   "cell_type": "markdown",
   "id": "57ffcd02",
   "metadata": {},
   "source": [
    "Make a variable, time_diff, that holds the difference in times between the other two variables you made."
   ]
  },
  {
   "cell_type": "code",
   "execution_count": null,
   "id": "da218995",
   "metadata": {},
   "outputs": [],
   "source": [
    "# your code goes here\n"
   ]
  },
  {
   "cell_type": "markdown",
   "id": "c924339e",
   "metadata": {},
   "source": [
    "Print the number of days in time_diff."
   ]
  },
  {
   "cell_type": "code",
   "execution_count": null,
   "id": "3f57169b",
   "metadata": {},
   "outputs": [],
   "source": [
    "# your code goes here\n"
   ]
  },
  {
   "cell_type": "markdown",
   "id": "b815930c",
   "metadata": {},
   "source": [
    "Run a calculation to print the total number of seconds, including the seconds in the days, in time_diff."
   ]
  },
  {
   "cell_type": "code",
   "execution_count": null,
   "id": "1a1a7ba1",
   "metadata": {},
   "outputs": [],
   "source": [
    "# your code goes here\n"
   ]
  },
  {
   "cell_type": "markdown",
   "id": "64559638",
   "metadata": {},
   "source": [
    "### Datetimes in Pandas"
   ]
  },
  {
   "cell_type": "markdown",
   "id": "2a2042e4",
   "metadata": {},
   "source": [
    "Make a new column that is just the year for First Point."
   ]
  },
  {
   "cell_type": "code",
   "execution_count": null,
   "id": "7ba85428",
   "metadata": {},
   "outputs": [],
   "source": [
    "# your code goes here\n"
   ]
  },
  {
   "cell_type": "markdown",
   "id": "f3a37d60",
   "metadata": {},
   "source": [
    "Make a new column that show the difference in days between First Point and Second Point."
   ]
  },
  {
   "cell_type": "code",
   "execution_count": null,
   "id": "74a6a71c",
   "metadata": {},
   "outputs": [],
   "source": [
    "# your code goes here\n"
   ]
  },
  {
   "cell_type": "markdown",
   "id": "a4785e93",
   "metadata": {},
   "source": [
    "Third Point is, unfortunately, text and not a proper datetime. Fix this in a new column."
   ]
  },
  {
   "cell_type": "code",
   "execution_count": null,
   "id": "851800c5",
   "metadata": {},
   "outputs": [],
   "source": [
    "# your code goes here\n"
   ]
  },
  {
   "cell_type": "markdown",
   "id": "d6a1a9b7",
   "metadata": {},
   "source": [
    "Calculate the number of years between First Point and your corrected Third Point."
   ]
  },
  {
   "cell_type": "code",
   "execution_count": null,
   "id": "23bc99e9",
   "metadata": {},
   "outputs": [],
   "source": [
    "# your code goes here\n"
   ]
  },
  {
   "cell_type": "markdown",
   "id": "3ec8c65b",
   "metadata": {},
   "source": [
    "Fourth Point is represented by integers for its parts. Unify these into a datetime object and make a new column to hold it."
   ]
  },
  {
   "cell_type": "code",
   "execution_count": null,
   "id": "2fe8082d",
   "metadata": {},
   "outputs": [],
   "source": [
    "# your code goes here\n"
   ]
  }
 ],
 "metadata": {
  "kernelspec": {
   "display_name": "Python 3 (ipykernel)",
   "language": "python",
   "name": "python3"
  },
  "language_info": {
   "codemirror_mode": {
    "name": "ipython",
    "version": 3
   },
   "file_extension": ".py",
   "mimetype": "text/x-python",
   "name": "python",
   "nbconvert_exporter": "python",
   "pygments_lexer": "ipython3",
   "version": "3.11.2"
  }
 },
 "nbformat": 4,
 "nbformat_minor": 5
}
