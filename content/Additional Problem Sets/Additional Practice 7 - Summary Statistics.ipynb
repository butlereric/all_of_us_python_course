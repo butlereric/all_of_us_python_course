{
 "cells": [
  {
   "cell_type": "markdown",
   "id": "30570567",
   "metadata": {},
   "source": [
    "The block below will import pandas and your dataframe (naming it df), as well as showing you the first five rows. (This replicates what you'll get in All of Us, where all of this will be added to the notebook automatically.) Run this block or you can't do any of the other exercises.\n",
    "\n",
    "The dataframe you will get is one where a drug has been used to treat a variety of conditions. Questions are arising as to whether it causes issues with intraocular pressure. You will have the patient's intraocular pressure, the number of days they were treated with the drug, the per-day dosage, and the condition they were treated for as both a name and a numeric code."
   ]
  },
  {
   "cell_type": "code",
   "execution_count": null,
   "id": "d2314c8f",
   "metadata": {},
   "outputs": [],
   "source": [
    "import random\n",
    "import pandas as pd\n",
    "\n",
    "drug_data = {'Intraocular Pressure': [], 'Days of Treatment': [], 'Dosage (mg)': [], 'Condition Treated': [],\n",
    "             'Condition Treated Code': []}\n",
    "for x in range(0, 1000):\n",
    "    # introcular pressure should be 10-20 mmHg\n",
    "    chooser = random.randint(0, 6)\n",
    "    iop = round(random.gauss(12, 2), 1)\n",
    "    days = int(random.gauss(6, 1) - chooser)\n",
    "    if days < 0:\n",
    "        days = 0\n",
    "    dosage = int(random.gauss(10 + chooser, 2))\n",
    "    condition = random.choice(['Corneal abrasion', 'Acid reflux', 'Animal bite', 'Anemia'])\n",
    "    condition_code = 0\n",
    "    if condition == 'Acid reflux':\n",
    "        condition_code = 1\n",
    "    elif condition == 'Animal bite':\n",
    "        condition_code = random.randint(2, 3)\n",
    "    elif condition == 'Anemia':\n",
    "        condition_code = 4\n",
    "    row = [iop, days, dosage, condition, condition_code]\n",
    "    num_times = 1\n",
    "    drug_data['Intraocular Pressure'].append(row[0])\n",
    "    drug_data['Days of Treatment'].append(row[1])\n",
    "    drug_data['Dosage (mg)'].append(row[2])\n",
    "    drug_data['Condition Treated'].append(row[3])\n",
    "    drug_data['Condition Treated Code'].append(row[4])\n",
    "    \n",
    "df = pd.DataFrame(drug_data)\n",
    "df.head()"
   ]
  },
  {
   "cell_type": "markdown",
   "id": "5d74a7f8",
   "metadata": {},
   "source": [
    "### Averages"
   ]
  },
  {
   "cell_type": "markdown",
   "id": "5a21f852",
   "metadata": {},
   "source": [
    "Calculate the mean average of the intraocular pressure."
   ]
  },
  {
   "cell_type": "code",
   "execution_count": null,
   "id": "e7ebf4ed",
   "metadata": {},
   "outputs": [],
   "source": [
    "# your code goes here\n"
   ]
  },
  {
   "cell_type": "markdown",
   "id": "918af953",
   "metadata": {},
   "source": [
    "Calculate the median days of treatment."
   ]
  },
  {
   "cell_type": "code",
   "execution_count": null,
   "id": "747761c4",
   "metadata": {},
   "outputs": [],
   "source": [
    "# your code goes here\n"
   ]
  },
  {
   "cell_type": "markdown",
   "id": "c26135c7",
   "metadata": {},
   "source": [
    "Calculate the modal average dosage."
   ]
  },
  {
   "cell_type": "code",
   "execution_count": null,
   "id": "e6070872",
   "metadata": {},
   "outputs": [],
   "source": [
    "# your code goes here\n"
   ]
  },
  {
   "cell_type": "markdown",
   "id": "73f19a37",
   "metadata": {},
   "source": [
    "Calculate the mean for all numeric columns in the dataframe."
   ]
  },
  {
   "cell_type": "code",
   "execution_count": null,
   "id": "12e2697b",
   "metadata": {},
   "outputs": [],
   "source": [
    "# your code goes here\n"
   ]
  },
  {
   "cell_type": "markdown",
   "id": "030e695f",
   "metadata": {},
   "source": [
    "### Groupby"
   ]
  },
  {
   "cell_type": "markdown",
   "id": "11126dc3",
   "metadata": {},
   "source": [
    "Find the mean of intraocular pressure for each condition treated category."
   ]
  },
  {
   "cell_type": "code",
   "execution_count": null,
   "id": "6df56533",
   "metadata": {},
   "outputs": [],
   "source": [
    "# your code goes here\n"
   ]
  },
  {
   "cell_type": "markdown",
   "id": "982d4fa5",
   "metadata": {},
   "source": [
    "Find the mean of dosage after grouping by condition treated and days of treatment."
   ]
  },
  {
   "cell_type": "code",
   "execution_count": null,
   "id": "3b2bf6e7",
   "metadata": {},
   "outputs": [],
   "source": [
    "# your code goes here\n"
   ]
  },
  {
   "cell_type": "markdown",
   "id": "18d805a9",
   "metadata": {},
   "source": [
    "Group by dosage > 15 and then take the median average for days of treatment."
   ]
  },
  {
   "cell_type": "code",
   "execution_count": null,
   "id": "dfe3d219",
   "metadata": {},
   "outputs": [],
   "source": [
    "# your code goes here\n"
   ]
  },
  {
   "cell_type": "markdown",
   "id": "67cec54d",
   "metadata": {},
   "source": [
    "### Count"
   ]
  },
  {
   "cell_type": "markdown",
   "id": "8f732966",
   "metadata": {},
   "source": [
    "Count the number of rows in each condition treated category."
   ]
  },
  {
   "cell_type": "code",
   "execution_count": null,
   "id": "ce2c62e6",
   "metadata": {},
   "outputs": [],
   "source": [
    "# your code goes here\n"
   ]
  },
  {
   "cell_type": "markdown",
   "id": "e81ace29",
   "metadata": {},
   "source": [
    "Count the number of complete rows in the dataframe here. (It should be all of them.)"
   ]
  },
  {
   "cell_type": "code",
   "execution_count": null,
   "id": "53a424c3",
   "metadata": {},
   "outputs": [],
   "source": [
    "# your code goes here\n"
   ]
  },
  {
   "cell_type": "markdown",
   "id": "12f59e16",
   "metadata": {},
   "source": [
    "### Sum, Min, Max, Std, and Describe"
   ]
  },
  {
   "cell_type": "markdown",
   "id": "9f707659",
   "metadata": {},
   "source": [
    "Sum the total dosage everyone in the data frame recieved in a day."
   ]
  },
  {
   "cell_type": "code",
   "execution_count": null,
   "id": "4943c828",
   "metadata": {},
   "outputs": [],
   "source": [
    "# your code goes here\n"
   ]
  },
  {
   "cell_type": "markdown",
   "id": "85d1c076",
   "metadata": {},
   "source": [
    "Create a True/False column that shows whether the dosage was over 10 mg and then use `sum` to count how many patients recieved that higher dose. For extra challenge, do this all on the same line. (It's fine if the column is temporary.)"
   ]
  },
  {
   "cell_type": "code",
   "execution_count": null,
   "id": "ce3466f8",
   "metadata": {},
   "outputs": [],
   "source": [
    "# your code goes here\n"
   ]
  },
  {
   "cell_type": "markdown",
   "id": "6170d1d5",
   "metadata": {},
   "source": [
    "Find the minimum of intraocular pressure."
   ]
  },
  {
   "cell_type": "code",
   "execution_count": null,
   "id": "ad974883",
   "metadata": {},
   "outputs": [],
   "source": [
    "# your code goes here\n"
   ]
  },
  {
   "cell_type": "markdown",
   "id": "16195851",
   "metadata": {},
   "source": [
    "Find the maximum of intraocular pressure."
   ]
  },
  {
   "cell_type": "code",
   "execution_count": null,
   "id": "3ec09095",
   "metadata": {},
   "outputs": [],
   "source": [
    "# your code goes here\n"
   ]
  },
  {
   "cell_type": "markdown",
   "id": "de3f1468",
   "metadata": {},
   "source": [
    "Determine the range for dosage."
   ]
  },
  {
   "cell_type": "code",
   "execution_count": null,
   "id": "e23b1931",
   "metadata": {},
   "outputs": [],
   "source": [
    "# your code goes here\n"
   ]
  },
  {
   "cell_type": "markdown",
   "id": "f74c0619",
   "metadata": {},
   "source": [
    "What is the standard deviation of the days column?"
   ]
  },
  {
   "cell_type": "code",
   "execution_count": null,
   "id": "003d30b8",
   "metadata": {},
   "outputs": [],
   "source": [
    "# your code goes here\n"
   ]
  },
  {
   "cell_type": "markdown",
   "id": "1edad151",
   "metadata": {},
   "source": [
    "What is the standard deviation of every numeric column in the dataframe?"
   ]
  },
  {
   "cell_type": "code",
   "execution_count": null,
   "id": "553d9b15",
   "metadata": {},
   "outputs": [],
   "source": [
    "# your code goes here\n"
   ]
  },
  {
   "cell_type": "markdown",
   "id": "a154993b",
   "metadata": {},
   "source": [
    "Use `describe` to summarize all numeric columns in the dataframe."
   ]
  },
  {
   "cell_type": "code",
   "execution_count": null,
   "id": "37069fdd",
   "metadata": {},
   "outputs": [],
   "source": [
    "# your code goes here\n"
   ]
  },
  {
   "cell_type": "markdown",
   "id": "a90e8a76",
   "metadata": {},
   "source": [
    "### Agg"
   ]
  },
  {
   "cell_type": "markdown",
   "id": "e33afd1e",
   "metadata": {},
   "source": [
    "Use `agg` to get the minimum and maximum of the intraocular pressure and days of treatment columns."
   ]
  },
  {
   "cell_type": "code",
   "execution_count": null,
   "id": "9459b5cd",
   "metadata": {},
   "outputs": [],
   "source": [
    "# your code goes here\n"
   ]
  },
  {
   "cell_type": "markdown",
   "id": "a15ecad6",
   "metadata": {},
   "source": [
    "Group your data above by condition treated and get the minimum and maximum again."
   ]
  },
  {
   "cell_type": "code",
   "execution_count": null,
   "id": "759d7d5f",
   "metadata": {},
   "outputs": [],
   "source": [
    "# your code goes here\n"
   ]
  },
  {
   "cell_type": "markdown",
   "id": "8d71b649",
   "metadata": {},
   "source": [
    "From your data above, calculate the range for both columns, by treatment group."
   ]
  },
  {
   "cell_type": "code",
   "execution_count": null,
   "id": "654c9ef8",
   "metadata": {},
   "outputs": [],
   "source": [
    "# your code goes here\n"
   ]
  },
  {
   "cell_type": "markdown",
   "id": "02d560c8",
   "metadata": {},
   "source": [
    "### Graphs"
   ]
  },
  {
   "cell_type": "markdown",
   "id": "79b720ab",
   "metadata": {},
   "source": [
    "Make a histogram of intraocular pressure."
   ]
  },
  {
   "cell_type": "code",
   "execution_count": null,
   "id": "603214c1",
   "metadata": {},
   "outputs": [],
   "source": [
    "# your code goes here\n"
   ]
  },
  {
   "cell_type": "markdown",
   "id": "27ead412",
   "metadata": {},
   "source": [
    "Add dosage to your histogram above. Make it so that both histograms are visible clearly."
   ]
  },
  {
   "cell_type": "code",
   "execution_count": null,
   "id": "60df4a92",
   "metadata": {},
   "outputs": [],
   "source": [
    "# your code goes here\n"
   ]
  },
  {
   "cell_type": "markdown",
   "id": "b4713fb0",
   "metadata": {},
   "source": [
    "Make a density plot of days of treatment."
   ]
  },
  {
   "cell_type": "code",
   "execution_count": null,
   "id": "09a8e164",
   "metadata": {},
   "outputs": [],
   "source": [
    "# your code goes here\n"
   ]
  },
  {
   "cell_type": "markdown",
   "id": "23d566d4",
   "metadata": {},
   "source": [
    "Make a boxplot of intraocular pressure grouped by condition treated."
   ]
  },
  {
   "cell_type": "code",
   "execution_count": null,
   "id": "dc2c97ce",
   "metadata": {},
   "outputs": [],
   "source": [
    "# your code goes here\n"
   ]
  },
  {
   "cell_type": "markdown",
   "id": "5a128fa1",
   "metadata": {},
   "source": [
    "Make a scatterplot of intraocular pressure vs. dosage."
   ]
  },
  {
   "cell_type": "code",
   "execution_count": null,
   "id": "575ef085",
   "metadata": {},
   "outputs": [],
   "source": [
    "# your code goes here\n"
   ]
  },
  {
   "cell_type": "markdown",
   "id": "b1d5ba5e",
   "metadata": {},
   "source": [
    "Make a bar chart of the mean intraocular pressure by condition treated."
   ]
  },
  {
   "cell_type": "code",
   "execution_count": null,
   "id": "4078022f",
   "metadata": {},
   "outputs": [],
   "source": [
    "# your code goes here\n"
   ]
  },
  {
   "cell_type": "markdown",
   "id": "ee5c32e6",
   "metadata": {},
   "source": [
    "Add dosage to the graph above."
   ]
  },
  {
   "cell_type": "code",
   "execution_count": null,
   "id": "ac41e11b",
   "metadata": {},
   "outputs": [],
   "source": [
    "# your code goes here\n"
   ]
  }
 ],
 "metadata": {
  "kernelspec": {
   "display_name": "Python 3 (ipykernel)",
   "language": "python",
   "name": "python3"
  },
  "language_info": {
   "codemirror_mode": {
    "name": "ipython",
    "version": 3
   },
   "file_extension": ".py",
   "mimetype": "text/x-python",
   "name": "python",
   "nbconvert_exporter": "python",
   "pygments_lexer": "ipython3",
   "version": "3.11.2"
  }
 },
 "nbformat": 4,
 "nbformat_minor": 5
}
