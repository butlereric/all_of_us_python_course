{
 "cells": [
  {
   "cell_type": "markdown",
   "id": "a379e077",
   "metadata": {},
   "source": [
    "The block below will import pandas and your dataframe (naming it df), as well as showing you the first five rows. (This replicates what you'll get in All of Us, where all of this will be added to the notebook automatically.) Run this block or you can't do any of the other exercises.\n",
    "\n",
    "The dataframe you will get is one where a drug has been used to treat a variety of conditions. Questions are arising as to whether it causes issues with intraocular pressure. You will have the patient's intraocular pressure, the number of days they were treated with the drug, the per-day dosage, and the condition they were treated for as both a name and a numeric code."
   ]
  },
  {
   "cell_type": "code",
   "execution_count": null,
   "id": "0744af71",
   "metadata": {},
   "outputs": [],
   "source": [
    "import random\n",
    "import pandas as pd\n",
    "\n",
    "drug_data = {'Intraocular Pressure': [], 'Days of Treatment': [], 'Dosage (mg)': [], 'Condition Treated': [],\n",
    "             'Condition Treated Code': []}\n",
    "for x in range(0, 1000):\n",
    "    # introcular pressure should be 10-20 mmHg\n",
    "    chooser = random.randint(0, 6)\n",
    "    iop = round(random.gauss(12, 2), 1)\n",
    "    days = int(random.gauss(6, 1) - chooser)\n",
    "    if days < 0:\n",
    "        days = 0\n",
    "    dosage = int(random.gauss(10 + chooser, 2))\n",
    "    condition = random.choice(['Corneal abrasion', 'Acid reflux', 'Animal bite', 'Anemia'])\n",
    "    condition_code = 0\n",
    "    if condition == 'Acid reflux':\n",
    "        condition_code = 1\n",
    "    elif condition == 'Animal bite':\n",
    "        condition_code = random.randint(2, 3)\n",
    "    elif condition == 'Anemia':\n",
    "        condition_code = 4\n",
    "    row = [iop, days, dosage, condition, condition_code]\n",
    "    num_times = 1\n",
    "    drug_data['Intraocular Pressure'].append(row[0])\n",
    "    drug_data['Days of Treatment'].append(row[1])\n",
    "    drug_data['Dosage (mg)'].append(row[2])\n",
    "    drug_data['Condition Treated'].append(row[3])\n",
    "    drug_data['Condition Treated Code'].append(row[4])\n",
    "    \n",
    "df = pd.DataFrame(drug_data)\n",
    "df.head()"
   ]
  },
  {
   "cell_type": "markdown",
   "id": "03403f7e",
   "metadata": {},
   "source": [
    "### Making New Data Labels"
   ]
  },
  {
   "cell_type": "markdown",
   "id": "89293b72",
   "metadata": {},
   "source": [
    "Make a True/False column that is True if the patient's intraocular pressure is greater than 10."
   ]
  },
  {
   "cell_type": "code",
   "execution_count": null,
   "id": "bbdadba1",
   "metadata": {},
   "outputs": [],
   "source": [
    "# your code goes here\n"
   ]
  },
  {
   "cell_type": "markdown",
   "id": "7cce172f",
   "metadata": {},
   "source": [
    "Write a line of code that takes every row and passes it to a function that prints half of the days of treatment."
   ]
  },
  {
   "cell_type": "code",
   "execution_count": null,
   "id": "ec389c63",
   "metadata": {},
   "outputs": [],
   "source": [
    "# your code goes here\n"
   ]
  },
  {
   "cell_type": "markdown",
   "id": "5c4f77e9",
   "metadata": {},
   "source": [
    "Write a line of code that uses `apply` to add a new column to the dataframe that calculates the total dosage the patient recieved (dosage times days of treatment)."
   ]
  },
  {
   "cell_type": "code",
   "execution_count": null,
   "id": "0b5e790f",
   "metadata": {},
   "outputs": [],
   "source": [
    "# your code goes here\n"
   ]
  },
  {
   "cell_type": "markdown",
   "id": "567f8709",
   "metadata": {},
   "source": [
    "Make a new column, using `apply`, to classify the days of treatment as Short (less than or equal to 2 days), Medium (3-4 days), or Long (more than 4 days)."
   ]
  },
  {
   "cell_type": "code",
   "execution_count": null,
   "id": "46c944ae",
   "metadata": {},
   "outputs": [],
   "source": [
    "# your code goes here\n"
   ]
  },
  {
   "cell_type": "markdown",
   "id": "237be7e9",
   "metadata": {},
   "source": [
    "Make a new column that re-creates the Condition Treated column from Condition Treated Code. (In other words, send the function the Condition Treated Code, and have it correctly deduce the Condition Treated. 0 is Corneal abrasion, 1 is Acid reflux, 2 is Animal bite, and 3 is Anemia.) "
   ]
  },
  {
   "cell_type": "code",
   "execution_count": null,
   "id": "87e86702",
   "metadata": {},
   "outputs": [],
   "source": [
    "# your code goes here\n"
   ]
  },
  {
   "cell_type": "markdown",
   "id": "63e811cb",
   "metadata": {},
   "source": [
    "Use a lambda function in an `apply` to make a column that is True or False based on whether the intraocular pressure is > 11."
   ]
  },
  {
   "cell_type": "code",
   "execution_count": null,
   "id": "54dce941",
   "metadata": {},
   "outputs": [],
   "source": [
    "# your code goes here\n"
   ]
  },
  {
   "cell_type": "markdown",
   "id": "d67cd4fb",
   "metadata": {},
   "source": [
    "Imagine that current recommendations are not to give a person more than 50 mg total. Furthermore, it's recommended that anemia patients not recieve more than 30 mg, acid reflux patients not recieve more than 20 mg, and animal bite patients not recieve more than 15 mg. Corneal abrasion patients may recieve the full 50 mg.\n",
    "\n",
    "Write a function that creates a new column based on these recommendations, first totalling the dosage recieved over the course of treatment and then checking it against these recommendations. Your function should return either \"Safe\", \"Over Recommendation\", or \"Over Total Recommendation\" if the total is over 50 mg. Obviously, if the total is over the total recommendation it is also over the specific recommendations, so make sure your code does not overwrite \"Over Total Recommendation\" with \"Over Recommendation\"."
   ]
  },
  {
   "cell_type": "code",
   "execution_count": null,
   "id": "6c4173f1",
   "metadata": {},
   "outputs": [],
   "source": [
    "# your code goes here\n"
   ]
  }
 ],
 "metadata": {
  "kernelspec": {
   "display_name": "Python 3 (ipykernel)",
   "language": "python",
   "name": "python3"
  },
  "language_info": {
   "codemirror_mode": {
    "name": "ipython",
    "version": 3
   },
   "file_extension": ".py",
   "mimetype": "text/x-python",
   "name": "python",
   "nbconvert_exporter": "python",
   "pygments_lexer": "ipython3",
   "version": "3.11.2"
  }
 },
 "nbformat": 4,
 "nbformat_minor": 5
}
