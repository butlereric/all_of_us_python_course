{
 "cells": [
  {
   "cell_type": "markdown",
   "id": "f323b900",
   "metadata": {},
   "source": [
    "The block below will import pandas and your dataframe (naming it `df`), as well as showing you the first five rows. (This replicates what you'll get in All of Us, where all of this will be added to the notebook automatically.) Run this block or you can't do any of the other exercises.\n",
    "\n",
    "The dataframe you will get is one where a drug has been used to treat a variety of conditions. Questions are arising as to whether it causes issues with intraocular pressure. You will have the patient's intraocular pressure, the number of days they were treated with the drug, the per-day dosage, and the condition they were treated for as both a name and a numeric code."
   ]
  },
  {
   "cell_type": "code",
   "execution_count": null,
   "id": "722af63e",
   "metadata": {},
   "outputs": [],
   "source": [
    "import random\n",
    "import pandas as pd\n",
    "\n",
    "drug_data = {'Intraocular Pressure': [], 'Days of Treatment': [], 'Dosage (mg)': [], 'Condition Treated': [],\n",
    "             'Condition Treated Code': []}\n",
    "for x in range(0, 1000):\n",
    "    # introcular pressure should be 10-20 mmHg\n",
    "    chooser = random.randint(0, 6)\n",
    "    iop = round(random.gauss(12, 2), 1)\n",
    "    days = int(random.gauss(6, 1) - chooser)\n",
    "    if days < 0:\n",
    "        days = 0\n",
    "    dosage = int(random.gauss(10 + chooser, 2))\n",
    "    condition = random.choice(['Corneal abrasion', 'Acid reflux', 'Animal bite', 'Anemia'])\n",
    "    condition_code = 0\n",
    "    if condition == 'Acid reflux':\n",
    "        condition_code = 1\n",
    "    elif condition == 'Animal bite':\n",
    "        condition_code = random.randint(2, 3)\n",
    "    elif condition == 'Anemia':\n",
    "        condition_code = 4\n",
    "    row = [iop, days, dosage, condition, condition_code]\n",
    "    num_times = 1\n",
    "    drug_data['Intraocular Pressure'].append(row[0])\n",
    "    drug_data['Days of Treatment'].append(row[1])\n",
    "    drug_data['Dosage (mg)'].append(row[2])\n",
    "    drug_data['Condition Treated'].append(row[3])\n",
    "    drug_data['Condition Treated Code'].append(row[4])\n",
    "    \n",
    "df = pd.DataFrame(drug_data)\n",
    "df.head()"
   ]
  },
  {
   "cell_type": "markdown",
   "id": "f707218b",
   "metadata": {},
   "source": [
    "### Columns"
   ]
  },
  {
   "cell_type": "markdown",
   "id": "87cd09d8",
   "metadata": {},
   "source": [
    "Print the names of all the columns."
   ]
  },
  {
   "cell_type": "code",
   "execution_count": null,
   "id": "63ab19c2",
   "metadata": {},
   "outputs": [],
   "source": [
    "# your code goes here\n"
   ]
  },
  {
   "cell_type": "markdown",
   "id": "c93fee5b",
   "metadata": {},
   "source": [
    "Write a line of code that returns the Dosage column."
   ]
  },
  {
   "cell_type": "code",
   "execution_count": null,
   "id": "dd8c5bc0",
   "metadata": {},
   "outputs": [],
   "source": [
    "# your code goes here\n"
   ]
  },
  {
   "cell_type": "markdown",
   "id": "4c0ac010",
   "metadata": {},
   "source": [
    "Write a line of code that returns the days of treatment and the condition treated columns."
   ]
  },
  {
   "cell_type": "code",
   "execution_count": null,
   "id": "5748e8b9",
   "metadata": {},
   "outputs": [],
   "source": [
    "# your code goes here\n"
   ]
  },
  {
   "cell_type": "markdown",
   "id": "c9229d5a",
   "metadata": {},
   "source": [
    "Rename the column Dosage (mg) to just be Dosage. DON'T use `inplace=True`."
   ]
  },
  {
   "cell_type": "code",
   "execution_count": null,
   "id": "461644c5",
   "metadata": {},
   "outputs": [],
   "source": [
    "# your code goes here\n"
   ]
  },
  {
   "cell_type": "markdown",
   "id": "5a248fbd",
   "metadata": {},
   "source": [
    "Rename the columns Condition Treated and Condition Treated Code to Condition and Condition Code in a single line."
   ]
  },
  {
   "cell_type": "code",
   "execution_count": null,
   "id": "fb9ffeba",
   "metadata": {},
   "outputs": [],
   "source": [
    "# your code goes here\n"
   ]
  },
  {
   "cell_type": "markdown",
   "id": "50bfdba2",
   "metadata": {},
   "source": [
    "### Rows and Cells"
   ]
  },
  {
   "cell_type": "markdown",
   "id": "aa8a7b75",
   "metadata": {},
   "source": [
    "Print the first row of the dataframe."
   ]
  },
  {
   "cell_type": "code",
   "execution_count": null,
   "id": "4210a189",
   "metadata": {},
   "outputs": [],
   "source": [
    "# your code goes here\n"
   ]
  },
  {
   "cell_type": "markdown",
   "id": "c2b99bc7",
   "metadata": {},
   "source": [
    "Print rows 1-4 of the dataframe."
   ]
  },
  {
   "cell_type": "code",
   "execution_count": null,
   "id": "7974fab1",
   "metadata": {},
   "outputs": [],
   "source": [
    "# your code goes here\n"
   ]
  },
  {
   "cell_type": "markdown",
   "id": "07319cb7",
   "metadata": {},
   "source": [
    "Print rows 1-4 of column Days of Treatment."
   ]
  },
  {
   "cell_type": "code",
   "execution_count": null,
   "id": "3225327f",
   "metadata": {},
   "outputs": [],
   "source": [
    "# your code goes here\n"
   ]
  },
  {
   "cell_type": "markdown",
   "id": "21ddead9",
   "metadata": {},
   "source": [
    "Print the cell in the first row for Dosage (mg)."
   ]
  },
  {
   "cell_type": "code",
   "execution_count": null,
   "id": "99a800d1",
   "metadata": {},
   "outputs": [],
   "source": [
    "# your code goes here\n"
   ]
  },
  {
   "cell_type": "markdown",
   "id": "68cb0db1",
   "metadata": {},
   "source": [
    "Print the first three rows for columns Intraocular Pressure, Days of Treatement, and Dosage (mg)."
   ]
  },
  {
   "cell_type": "code",
   "execution_count": null,
   "id": "bbaf1d7c",
   "metadata": {},
   "outputs": [],
   "source": [
    "# your code goes here\n"
   ]
  },
  {
   "cell_type": "markdown",
   "id": "3acf09c7",
   "metadata": {},
   "source": [
    "### Modifying Dataframes"
   ]
  },
  {
   "cell_type": "markdown",
   "id": "a44c0b2a",
   "metadata": {},
   "source": [
    "Make a new column called Test that simply contains the text \"This is a test\" in every row."
   ]
  },
  {
   "cell_type": "code",
   "execution_count": null,
   "id": "88b7faa0",
   "metadata": {},
   "outputs": [],
   "source": [
    "# your code goes here\n"
   ]
  },
  {
   "cell_type": "markdown",
   "id": "42beb100",
   "metadata": {},
   "source": [
    "Make a new column that calculates the total mg the patient has recieved (dosage times days)."
   ]
  },
  {
   "cell_type": "code",
   "execution_count": null,
   "id": "3bb77c5f",
   "metadata": {},
   "outputs": [],
   "source": [
    "# your code goes here\n"
   ]
  },
  {
   "cell_type": "markdown",
   "id": "b9090f26",
   "metadata": {},
   "source": [
    "Drop your Test column and your calculated column in-place. Check that with `df.head()`!"
   ]
  },
  {
   "cell_type": "code",
   "execution_count": null,
   "id": "a65aa995",
   "metadata": {},
   "outputs": [],
   "source": [
    "# your code goes here\n"
   ]
  },
  {
   "cell_type": "markdown",
   "id": "f9e87c6d",
   "metadata": {},
   "source": [
    "### Creating Dataframes"
   ]
  },
  {
   "cell_type": "markdown",
   "id": "a2b0e23b",
   "metadata": {},
   "source": [
    "Create a small dictionary with two keys and three values (in a list) for each key. Turn it into a dataframe and view it with `head`."
   ]
  },
  {
   "cell_type": "code",
   "execution_count": null,
   "id": "1cd1f696",
   "metadata": {},
   "outputs": [],
   "source": [
    "# your code goes here\n"
   ]
  },
  {
   "cell_type": "markdown",
   "id": "e2f63a4e",
   "metadata": {},
   "source": [
    "### Combining Dataframes"
   ]
  },
  {
   "cell_type": "markdown",
   "id": "2ff33766",
   "metadata": {},
   "source": [
    "Run the cell below to make some small practice dataframes to combine for the rest of these exercises."
   ]
  },
  {
   "cell_type": "code",
   "execution_count": null,
   "id": "71c7e042",
   "metadata": {},
   "outputs": [],
   "source": [
    "frame_1_part_1 = {'ID': [12, 67, 119, 42], 'Days of Treatment': [1, 1, 2, 3]}\n",
    "frame_1_part_2 = {'ID': [56, 1, 47, 88], 'Days of Treatment': [2, 1, 2, 1]}\n",
    "frame_2 = {'ID': [56, 1, 47, 88], 'Dose': [12, 13, 14, 11]}\n",
    "frame_3 = {'Identification': [56, 1, 47, 88], 'Dose': [12, 13, 14, 11]}\n",
    "\n",
    "df_1_1 = pd.DataFrame(frame_1_part_1)\n",
    "df_1_2 = pd.DataFrame(frame_1_part_2)\n",
    "df_2 = pd.DataFrame(frame_2)\n",
    "df_3 = pd.DataFrame(frame_3)"
   ]
  },
  {
   "cell_type": "markdown",
   "id": "3afd21df",
   "metadata": {},
   "source": [
    "Concatenate df_1_1 and df_1_2. This should work fine, since they really are just separate rows from identical frames. Store the result as df_1."
   ]
  },
  {
   "cell_type": "code",
   "execution_count": null,
   "id": "ce73b9cc",
   "metadata": {},
   "outputs": [],
   "source": [
    "# your code goes here\n"
   ]
  },
  {
   "cell_type": "markdown",
   "id": "ffcde8cd",
   "metadata": {},
   "source": [
    "Merge df_1_1 with df_2."
   ]
  },
  {
   "cell_type": "code",
   "execution_count": null,
   "id": "09787c56",
   "metadata": {},
   "outputs": [],
   "source": [
    "# your code goes here\n"
   ]
  },
  {
   "cell_type": "markdown",
   "id": "76adc095",
   "metadata": {},
   "source": [
    "Merge df_1_1 with df_3. You'll need to specify the shared column."
   ]
  },
  {
   "cell_type": "code",
   "execution_count": null,
   "id": "0aec2a5a",
   "metadata": {},
   "outputs": [],
   "source": [
    "# your code goes here\n"
   ]
  },
  {
   "cell_type": "markdown",
   "id": "439d54d8",
   "metadata": {},
   "source": [
    "Merge df_1 (that you created in the first line of this subsection) with df_2 so that we only retain rows that are present in both dataframes."
   ]
  },
  {
   "cell_type": "code",
   "execution_count": null,
   "id": "83db769a",
   "metadata": {},
   "outputs": [],
   "source": [
    "# your code goes here\n"
   ]
  },
  {
   "cell_type": "markdown",
   "id": "a6c167e4",
   "metadata": {},
   "source": [
    "Merge df_1 (that you created in the first line of this subsection) with df_2 so that we retain all rows."
   ]
  },
  {
   "cell_type": "code",
   "execution_count": null,
   "id": "008532a5",
   "metadata": {},
   "outputs": [],
   "source": [
    "# your code goes here\n"
   ]
  }
 ],
 "metadata": {
  "kernelspec": {
   "display_name": "Python 3 (ipykernel)",
   "language": "python",
   "name": "python3"
  },
  "language_info": {
   "codemirror_mode": {
    "name": "ipython",
    "version": 3
   },
   "file_extension": ".py",
   "mimetype": "text/x-python",
   "name": "python",
   "nbconvert_exporter": "python",
   "pygments_lexer": "ipython3",
   "version": "3.11.2"
  }
 },
 "nbformat": 4,
 "nbformat_minor": 5
}
