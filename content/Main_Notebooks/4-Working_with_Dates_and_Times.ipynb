{
 "cells": [
  {
   "cell_type": "markdown",
   "id": "a4319c69-2812-4daf-9499-0d8d6c31709c",
   "metadata": {},
   "source": [
    "# Working with Dates and Times"
   ]
  },
  {
   "cell_type": "markdown",
   "id": "768f80fa-2b0a-4e45-bdf8-aed431611d14",
   "metadata": {},
   "source": [
    "If you need to work with dates and times you can rapidly run into issues. 4 - 3 is 1, but how many days are there between Jan 7, 2012 and March 23, 2017? Thankfully, computers are good at these sorts of calculations, and Python provide a library for working with dates and times that makes these sorts of calculations very straightforward. If you don't intend to work with date and time information in this way this section is something you can safely skip, but if you do this will save you a lot of time and frustration."
   ]
  },
  {
   "cell_type": "markdown",
   "id": "7d5bd31e",
   "metadata": {},
   "source": [
    "### The Datetime Library\n",
    "Python provides a library for handling dates and time called \"datetime\". We'll start here, because it will help to understand datetimes in pandas, but also because you may want to use datetime alongside pandas.\n",
    "\n",
    "First, we need to import datetime. Because I hate typing long names this will import datetime and rename it to \"dt\"."
   ]
  },
  {
   "cell_type": "code",
   "execution_count": null,
   "id": "1d5f05e4",
   "metadata": {},
   "outputs": [],
   "source": [
    "import datetime as dt"
   ]
  },
  {
   "cell_type": "markdown",
   "id": "bd3c52bc",
   "metadata": {},
   "source": [
    "First, let's create two datetime objects that we can play with."
   ]
  },
  {
   "cell_type": "code",
   "execution_count": null,
   "id": "8e49f7c0",
   "metadata": {},
   "outputs": [],
   "source": [
    "present = dt.datetime.now()\n",
    "print(present)\n",
    "past = dt.datetime(year=1997, month=2, day=18, hour=2, minute=17, second=39)\n",
    "print(past)"
   ]
  },
  {
   "cell_type": "markdown",
   "id": "af0df26e",
   "metadata": {},
   "source": [
    "Above, we created a variable `present` that grabbed the time the moment you ran that cell. If you run it again `present` will change because it will be reset to that time. We also created a variable `past` that we set to 2:17:39 am on February 18th, 1997. (We could easily set it to 2 pm by setting the time to 14. Or, if you don't love 24-hour time, setting it equal to 2 + 12.)\n",
    "\n",
    "You can also now see another reason I like to rename datetime: datetime the library has another object in it called datetime! When we ran `dt.datetime.now()` we asked for the now function in the datetime object in the datetime library, which is under the alias dt. It can be easier to read if one of these datetimes is dt and the other datetime.\n",
    "\n",
    "Let's do some simple math now to determine how long it has been since 2:17:39 am on February 18th, 1997."
   ]
  },
  {
   "cell_type": "code",
   "execution_count": null,
   "id": "65376a27",
   "metadata": {},
   "outputs": [],
   "source": [
    "diff = present - past\n",
    "print(diff)"
   ]
  },
  {
   "cell_type": "markdown",
   "id": "f3c2cc4b",
   "metadata": {},
   "source": [
    "`diff` is a `timedelta` object, a datetime object that stores the differences between other datetime objects. It has three attributes we can access: days, seconds, and microseconds. For instance, if we just want the days since `past` we can write:"
   ]
  },
  {
   "cell_type": "code",
   "execution_count": null,
   "id": "7ddaf499",
   "metadata": {},
   "outputs": [],
   "source": [
    "diff.days"
   ]
  },
  {
   "cell_type": "markdown",
   "id": "b81702ee",
   "metadata": {},
   "source": [
    "If we want seconds this will work:"
   ]
  },
  {
   "cell_type": "code",
   "execution_count": null,
   "id": "44187c78",
   "metadata": {},
   "outputs": [],
   "source": [
    "diff.seconds"
   ]
  },
  {
   "cell_type": "markdown",
   "id": "47557a5c",
   "metadata": {},
   "source": [
    "Note, however, that diff.seconds only gave us the seconds that were NOT included as days! If we actually wanted to measure the total number of seconds since `past` we would need to write this:"
   ]
  },
  {
   "cell_type": "code",
   "execution_count": null,
   "id": "ca611b89",
   "metadata": {},
   "outputs": [],
   "source": [
    "seconds = diff.seconds + (diff.days * 24 * 60 * 60)\n",
    "print(seconds)"
   ]
  },
  {
   "cell_type": "markdown",
   "id": "ea6e5658",
   "metadata": {},
   "source": [
    "#### Quickly, just for practice, make another variable that uses dt.datetime.now() to set a time to the current runtime, and print how many seconds since the variable called present."
   ]
  },
  {
   "cell_type": "code",
   "execution_count": null,
   "id": "2635d856",
   "metadata": {},
   "outputs": [],
   "source": [
    "# your code goes here\n"
   ]
  },
  {
   "cell_type": "markdown",
   "id": "ad2cdab2",
   "metadata": {},
   "source": [
    "### Datetimes in Pandas\n",
    "Let's now work with some datetime objects in a pandas dataframe. The code below will create a dataframe with an intake date and a discharge date for 50 people, presumably at a hospital."
   ]
  },
  {
   "cell_type": "code",
   "execution_count": null,
   "id": "6944b38c",
   "metadata": {},
   "outputs": [],
   "source": [
    "import random\n",
    "import pandas as pd\n",
    "\n",
    "date_dict = {'Intake': [], 'Discharge': []}\n",
    "\n",
    "for x in range(0, 50):\n",
    "    year = random.randint(1990, 2020)\n",
    "    intake = dt.datetime(year=year, month=random.randint(1, 12), day=random.randint(1, 28), \n",
    "                         hour=random.randint(0, 23))\n",
    "    discharge = intake + dt.timedelta(days=random.randint(0, 30), seconds=random.randint(60 * 60, 23 * 60 * 60))\n",
    "    date_dict['Intake'].append(intake)\n",
    "    date_dict['Discharge'].append(discharge)\n",
    "    \n",
    "date_frame = pd.DataFrame(date_dict)\n",
    "date_frame.head()"
   ]
  },
  {
   "cell_type": "markdown",
   "id": "b8ef7ed2",
   "metadata": {},
   "source": [
    "Let's check the dtypes."
   ]
  },
  {
   "cell_type": "code",
   "execution_count": null,
   "id": "f156e262",
   "metadata": {},
   "outputs": [],
   "source": [
    "date_frame.dtypes"
   ]
  },
  {
   "cell_type": "markdown",
   "id": "4fe6c250",
   "metadata": {},
   "source": [
    "As you can see, the dtypes are `datetimes64[ns]`. They are pandas datetime objects, and you can do math with them and get timedelta objects. Technically, they are slightly different than datetime, but the concepts are very similar.\n",
    "\n",
    "One difference is how we access the year, month, day, etc. In the case of the pandas row we need to do `.dt.year` instead of just `.year` (or whatever time period). The code below prints the year for every intake."
   ]
  },
  {
   "cell_type": "code",
   "execution_count": null,
   "id": "df2db890",
   "metadata": {},
   "outputs": [],
   "source": [
    "date_frame['Intake'].dt.year"
   ]
  },
  {
   "cell_type": "markdown",
   "id": "38b760a3",
   "metadata": {},
   "source": [
    "However, the pandas version has some nice extra features. What if you suspected that the care patients got was different during weekdays versus weekends, or that certain sorts of patients were more likely to wait until a weekend to get care? You could do a lot of math, or you could do this:"
   ]
  },
  {
   "cell_type": "code",
   "execution_count": null,
   "id": "ca75e195",
   "metadata": {},
   "outputs": [],
   "source": [
    "date_frame['Intake'].dt.weekday"
   ]
  },
  {
   "cell_type": "markdown",
   "id": "e6879391",
   "metadata": {},
   "source": [
    "That's the day of the week, starting at Monday (0) and ending on Sunday (6). Now, we could start writing out a list of days and use this as a list index to pull the name of the day (`weekday_names[date_frame['Intake'].dt.weekday]`, roughly), but pandas has anticipated this need."
   ]
  },
  {
   "cell_type": "code",
   "execution_count": null,
   "id": "4af77065",
   "metadata": {},
   "outputs": [],
   "source": [
    "date_frame['Intake'].dt.day_name()"
   ]
  },
  {
   "cell_type": "markdown",
   "id": "cbb04e4e",
   "metadata": {},
   "source": [
    "Note that unlike `weekday`, which is an attribute, `day_name` is a method, and so it must be called as a function (`day_name()`).\n",
    "\n",
    "When dealing with timedelta objects in pandas we again use the `dt` notation. Like a regular timedelta this has days, seconds, and microseconds, but these will be accessed via `dt.days`, `dt.seconds`, and `dt.microseconds`.\n",
    "\n",
    "Below, we are creating a column that creates a new column of the seconds the person was in the hospital. Note that to use the dot notation on the calculated timedelta we need to enclose the calculation in parentheses, which makes it clear to Python that we finish that calculation and then get the `.dt.seconds` from that."
   ]
  },
  {
   "cell_type": "code",
   "execution_count": null,
   "id": "a56eb350",
   "metadata": {},
   "outputs": [],
   "source": [
    "date_frame['Seconds of Hospitalization'] = (date_frame['Discharge'] - date_frame['Intake']).dt.seconds\n",
    "date_frame.head()"
   ]
  },
  {
   "cell_type": "markdown",
   "id": "31f0f5e5",
   "metadata": {},
   "source": [
    "#### Below, create a new column that has the number of days the person was in the hospital. (Note the name of the dataframe, as well. Unlike last notebook it isn't df.)"
   ]
  },
  {
   "cell_type": "code",
   "execution_count": null,
   "id": "5564097d",
   "metadata": {},
   "outputs": [],
   "source": [
    "# your code goes here\n"
   ]
  },
  {
   "cell_type": "markdown",
   "id": "40d8403f",
   "metadata": {},
   "source": [
    "What about dates that come as text? The dataframe below has dates in three formats, all text: month-day-year, day-month-year, and year-month-day."
   ]
  },
  {
   "cell_type": "code",
   "execution_count": null,
   "id": "d39ef1d2",
   "metadata": {},
   "outputs": [],
   "source": [
    "text_dict = {'Month First': [], 'Day First': [], 'Year First': []}\n",
    "\n",
    "for x in range(0, 50):\n",
    "    year = str(random.randint(1990, 2020))\n",
    "    month = str(random.randint(1, 12))\n",
    "    day = str(random.randint(1, 28))\n",
    "    text_dict['Month First'].append(month + '-' + day + '-' + year)\n",
    "    text_dict['Day First'].append(day + '-' + month + '-' + year)\n",
    "    text_dict['Year First'].append(year + '-' + month + '-' + day)\n",
    "    \n",
    "text_frame = pd.DataFrame(text_dict)\n",
    "text_frame.head()"
   ]
  },
  {
   "cell_type": "markdown",
   "id": "80adcbe2",
   "metadata": {},
   "source": [
    "Pandas provides us with the `to_datetime` function. Let's run that on the month first data."
   ]
  },
  {
   "cell_type": "code",
   "execution_count": null,
   "id": "849eaf09",
   "metadata": {},
   "outputs": [],
   "source": [
    "pd.to_datetime(text_frame['Month First'])"
   ]
  },
  {
   "cell_type": "markdown",
   "id": "6628baed",
   "metadata": {},
   "source": [
    "To run a day-first column we only need to pass the keyword argument `dayfirst=True`."
   ]
  },
  {
   "cell_type": "code",
   "execution_count": null,
   "id": "71b53027",
   "metadata": {},
   "outputs": [],
   "source": [
    "pd.to_datetime(text_frame['Day First'], dayfirst=True)"
   ]
  },
  {
   "cell_type": "markdown",
   "id": "4ab1d69e",
   "metadata": {},
   "source": [
    "#### Now, write code that handles the year-first column and makes a new column, Date, that is the date in a datetime format. Year-first does not require any special arguments."
   ]
  },
  {
   "cell_type": "code",
   "execution_count": null,
   "id": "76036e34",
   "metadata": {},
   "outputs": [],
   "source": [
    "# your code goes here\n"
   ]
  },
  {
   "cell_type": "markdown",
   "id": "eb140fe4",
   "metadata": {},
   "source": [
    "What abotu reassembling datetimes from components? The frame below (`separate_frame`) has three pieces of data that, together, could be the year, month, and day of a datetime object."
   ]
  },
  {
   "cell_type": "code",
   "execution_count": null,
   "id": "3830be3b",
   "metadata": {},
   "outputs": [],
   "source": [
    "separate_frame = pd.DataFrame()\n",
    "separate_frame['Intake Year'] = date_frame['Intake'].dt.year\n",
    "separate_frame['Intake Month'] = date_frame['Intake'].dt.month\n",
    "separate_frame['Intake Day'] = date_frame['Intake'].dt.day\n",
    "separate_frame['Intake Hour'] = date_frame['Intake'].dt.hour\n",
    "separate_frame.head()"
   ]
  },
  {
   "cell_type": "markdown",
   "id": "20e95785",
   "metadata": {},
   "source": [
    "It turns out that `pd.to_datetime` can also convert a selection of columns into a pandas Series of datetime objects if the column names match keyword arguments, like \"year\", or \"Month\". (Capitalization, in this particular case, does not matter.) Minimally, you need a year, a month, and a day.\n",
    "\n",
    "The code below asks for Intake Year, Intake Month, and Intake Day and renames them \"year\", \"month\", and \"day\". This is NOT an in-place operation, because this new object is meant to be temporary."
   ]
  },
  {
   "cell_type": "code",
   "execution_count": null,
   "id": "1d015878",
   "metadata": {},
   "outputs": [],
   "source": [
    "separate_frame[['Intake Year', 'Intake Month', 'Intake Day']].rename(columns={'Intake Year': 'year',\n",
    "                                                                              'Intake Month': 'month',\n",
    "                                                                             'Intake Day': 'day'})"
   ]
  },
  {
   "cell_type": "markdown",
   "id": "983693d4",
   "metadata": {},
   "source": [
    "Below, we take the whole operation above and enclose it in the parentheses of `pd.to_datetime`."
   ]
  },
  {
   "cell_type": "code",
   "execution_count": null,
   "id": "31a431c9",
   "metadata": {},
   "outputs": [],
   "source": [
    "pd.to_datetime(separate_frame[['Intake Year', 'Intake Month', 'Intake Day']].rename(columns={'Intake Year': 'year',\n",
    "                                                                              'Intake Month': 'month',\n",
    "                                                                             'Intake Day': 'day'}))"
   ]
  },
  {
   "cell_type": "markdown",
   "id": "13eb7240",
   "metadata": {},
   "source": [
    "If that were assigned to a column we would have a new, assembled, datetime column.\n",
    "\n",
    "#### Below, make a new column in the separate_frame dataframe that is the datetime object that represents all the columns together."
   ]
  },
  {
   "cell_type": "code",
   "execution_count": null,
   "id": "c1aadd46",
   "metadata": {},
   "outputs": [],
   "source": [
    "# your code goes here\n"
   ]
  },
  {
   "cell_type": "markdown",
   "id": "fe94e7ac",
   "metadata": {},
   "source": [
    "And that's it. While dates and times can be very tricky if you treat them like numbers converting them to datetime objects can make them easy to deal with."
   ]
  }
 ],
 "metadata": {
  "kernelspec": {
   "display_name": "Python 3 (ipykernel)",
   "language": "python",
   "name": "python3"
  },
  "language_info": {
   "codemirror_mode": {
    "name": "ipython",
    "version": 3
   },
   "file_extension": ".py",
   "mimetype": "text/x-python",
   "name": "python",
   "nbconvert_exporter": "python",
   "pygments_lexer": "ipython3",
   "version": "3.11.2"
  }
 },
 "nbformat": 4,
 "nbformat_minor": 5
}
