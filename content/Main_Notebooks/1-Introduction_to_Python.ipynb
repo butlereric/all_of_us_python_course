{
 "cells": [
  {
   "cell_type": "markdown",
   "id": "cc1c80f8-07f2-4748-9bc8-4b997777494c",
   "metadata": {
    "tags": []
   },
   "source": [
    "# Introduction to Python"
   ]
  },
  {
   "cell_type": "markdown",
   "id": "2a8ac0b7-4a50-4e3d-970d-a2f5d9ad717a",
   "metadata": {},
   "source": [
    "Python is a programming language. If you have come from the world of point-and-click interfaces for data analysis the programming aspect alone can be challenging, but by writing your own code you will ultimately have more flexibility available to you. This section aims to introduce you to the main programmatic concepts of Python that you will need.\n",
    "\n",
    "If you are not new to programming or Python but are new to Pandas then you can skip this section and start at the next section, Pandas Data Structures, without an issue."
   ]
  },
  {
   "cell_type": "markdown",
   "id": "1e77fe88",
   "metadata": {},
   "source": [
    "### Variables\n",
    "The two most fundamental aspects of programming in Python are variables and functions. In very simple terms variables are things and functions do things. We will start with a simple example.\n",
    "\n",
    "To run this example click on the cell with the code and then click Run. The Run symbol is the solid triangle pointing right, that looks like the \"Play\" symbol on most TV remotes, and will be located at the top of this notebook."
   ]
  },
  {
   "cell_type": "code",
   "execution_count": null,
   "id": "354ed1dc-690b-472a-9eee-56ca6dea13ba",
   "metadata": {},
   "outputs": [],
   "source": [
    "first_variable = 'hello world!'\n",
    "second_variable = 20\n",
    "\n",
    "print(first_variable)\n",
    "print(second_variable)"
   ]
  },
  {
   "cell_type": "markdown",
   "id": "9f656fda-875c-4d39-9a74-1e5abc9e2dc3",
   "metadata": {},
   "source": [
    "first_variable and second_variable are both variables. first_variable is a word and second_variable is a number but both are declared the same way: you write the name of the variable, an equals sign, and the value you want to assign to the variable. You have now essentially named those values with the variable names.\n",
    "\n",
    "(Legal names for variables are anything that is not already in use and doesn't contain special characters, like spaces, quotation marks, or the # used to mark a comment.)\n",
    "\n",
    "\n",
    "In some programming languages we would need to specify the type in advance, but in Python we don't. However, these variables do have types, and this limits what can be done with them. Run the example below."
   ]
  },
  {
   "cell_type": "code",
   "execution_count": null,
   "id": "2d726c41-7ece-4bfb-bea9-b293d2d71f59",
   "metadata": {},
   "outputs": [],
   "source": [
    "third_variable = 'chicken'\n",
    "fourth_variable = 4\n",
    "\n",
    "result_1 = first_variable + third_variable  \n",
    "print(result_1)\n",
    "result_2 = second_variable + fourth_variable\n",
    "print(result_2)"
   ]
  },
  {
   "cell_type": "markdown",
   "id": "2645f2ab-07fe-41c8-b4d6-f31ac052e10e",
   "metadata": {},
   "source": [
    "These run correctly because the variable is now just a name for the value it contains. Since we can add numbers adding two numeric variables works fine, and two text variables added together concatenates them (chains them together). These are exactly the same results you would get from writing `'hello world!' = 'chicken'` and `20 + 4`.\n",
    "\n",
    "What happens when we mix variable types? Below, we are adding a text variable to a numer. When this runs it will give an error."
   ]
  },
  {
   "cell_type": "code",
   "execution_count": null,
   "id": "d72c7ca6-cefe-4a62-bf33-96667a552459",
   "metadata": {},
   "outputs": [],
   "source": [
    "first_variable + second_variable"
   ]
  },
  {
   "cell_type": "markdown",
   "id": "a6d4a418-d223-45d0-b0df-79b2da008344",
   "metadata": {},
   "source": [
    "Every operation on a variable requires that the variable be of the right type or types. (And, again, if you simply wrote something like `'a' + 3` you would get this sort of error as well.) You can check what a variable is using the type() function."
   ]
  },
  {
   "cell_type": "code",
   "execution_count": null,
   "id": "943bc6ba-58ec-4784-915c-1c25b9aaeb0d",
   "metadata": {},
   "outputs": [],
   "source": [
    "type(first_variable)"
   ]
  },
  {
   "cell_type": "markdown",
   "id": "64902dab-22b2-4759-8c19-d88feb4b34b2",
   "metadata": {},
   "source": [
    "Numbers are a bit tricky, because numbers can be a numeric type (`int` or `float`) or a text type (`str`). If you put the number in quotes Python knows you want the symbol for the number (`str` type), not a numeric type. What's tricky about this is that you can have things that look like numbers but are actually text. We'll discuss changing the types of data later.\n",
    "\n",
    "A brief, but important note about text: if you want a variable to be some text enclose the text with either double or single quotes. For example:"
   ]
  },
  {
   "cell_type": "code",
   "execution_count": null,
   "id": "05057851-7042-4b1c-b320-cf335162b269",
   "metadata": {},
   "outputs": [],
   "source": [
    "a = 'table'\n",
    "b = \"table\""
   ]
  },
  {
   "cell_type": "markdown",
   "id": "880e5c79-9517-4b63-ad16-cd27eea97ada",
   "metadata": {},
   "source": [
    "If you skip these quotes you will run into trouble. For example:"
   ]
  },
  {
   "cell_type": "code",
   "execution_count": null,
   "id": "a632fb4b-adc2-417c-86ee-0d7902c032d8",
   "metadata": {},
   "outputs": [],
   "source": [
    "c = table"
   ]
  },
  {
   "cell_type": "markdown",
   "id": "e7c5de43-209d-4410-9e6e-efd6471d1b40",
   "metadata": {},
   "source": [
    "What happened? Since `table` wasn't in quotes Python went looking for the variable named table, rather than setting the variable c equal to the word \"table\". You'll note that because this is important text in quotes gets a special color in the Jupyter notebook, and that this happens automatically.\n",
    "\n",
    "Another way to break code is to change the capitalization of variables. Python cares about capitalization. By convention, variables are lowercase with underscores between words, like test_variable. Other formats will work (although conventions keep code readable for other people) but you can't change the case of a variable and expect it to be recognized. The code below will try exactly this and produce an error."
   ]
  },
  {
   "cell_type": "code",
   "execution_count": null,
   "id": "d8be6d07",
   "metadata": {},
   "outputs": [],
   "source": [
    "capitalization_test = \"This is a test\"\n",
    "capitalization_Test = \"THIS IS ALSO A TEST\"\n",
    "\n",
    "print(capitalization_test)\n",
    "print(capitalization_Test)\n",
    "print(Capitalization_Test)"
   ]
  },
  {
   "cell_type": "markdown",
   "id": "1be85da7",
   "metadata": {},
   "source": [
    "As you can see, both the lowercase capitalization_test and the one with a single uppercase letter worked, but when we tried to retrieve the value of one of them using Capitalization_Test with a capital C Python had no idea what we wanted.\n",
    "\n",
    "There isn't much we can do with variables before we get to functions, so I'll hold off having you write your own code until then."
   ]
  },
  {
   "cell_type": "markdown",
   "id": "0cbc8477-01dd-4036-a013-70d780d23b76",
   "metadata": {},
   "source": [
    "### Functions\n",
    "We have already used the functions print() and type(), but let's discuss functions more. When we have used print and type we have used them with things printed inside the parentheses. Run the examples below and we will explain why."
   ]
  },
  {
   "cell_type": "code",
   "execution_count": null,
   "id": "dcb38e8e-63bb-4aa3-b788-a78cd7a3a157",
   "metadata": {},
   "outputs": [],
   "source": [
    "print"
   ]
  },
  {
   "cell_type": "code",
   "execution_count": null,
   "id": "44c53534-ae40-4037-9641-fc6be014effe",
   "metadata": {},
   "outputs": [],
   "source": [
    "print()"
   ]
  },
  {
   "cell_type": "code",
   "execution_count": null,
   "id": "82fe373e-908b-43e1-91e3-a633b9ceedcb",
   "metadata": {},
   "outputs": [],
   "source": [
    "print(\"hello\")"
   ]
  },
  {
   "cell_type": "markdown",
   "id": "4a6037fe-5626-41c7-b5fb-e884a2bb6ecd",
   "metadata": {},
   "source": [
    "When we simply run \"print\" we get the text \"\\<function print>\". This is just telling us that yes, print is a function. We didn't run it, though. print() runs the print function, but prints nothing because we didn't give the function anything to print. print(\"hello\") prints \"hello\". We would call \"hello\" an argument, which is something we give a function to do something with.\n",
    "\n",
    "Arguments are separated with commas. I will also use spaces, but this is for readability only. The code will still run with just commas. \n",
    "\n",
    "Print is an unusual function in that it takes any number of arguments. If you run the code below you will see what print does with five arguments."
   ]
  },
  {
   "cell_type": "code",
   "execution_count": null,
   "id": "46af2801-24b7-4704-b758-7fa6a5243de2",
   "metadata": {},
   "outputs": [],
   "source": [
    "print('These', 'are', 'my', 'five', 'arguments')"
   ]
  },
  {
   "cell_type": "markdown",
   "id": "7bddd03e-d0b0-4363-b58a-14ac39914da3",
   "metadata": {},
   "source": [
    "Most other functions take a set number of arguments and break if you give them the wrong number. len() is a function that tells us the length of whatever argument we give it."
   ]
  },
  {
   "cell_type": "code",
   "execution_count": null,
   "id": "4f2119ab-306c-4b58-ade9-f21b16603f0c",
   "metadata": {},
   "outputs": [],
   "source": [
    "len('This is a short sentence')"
   ]
  },
  {
   "cell_type": "markdown",
   "id": "876772e6-5c6d-45cf-bf3b-6467f31cd22f",
   "metadata": {},
   "source": [
    "You should see that len() has told you that \"This is a short sentence\" has 24 characters in it. Below, try using len with the wrong number of arguments."
   ]
  },
  {
   "cell_type": "code",
   "execution_count": null,
   "id": "a8767ca8-469d-4b51-9de2-7a93f192dc7b",
   "metadata": {},
   "outputs": [],
   "source": [
    "# type your code here\n"
   ]
  },
  {
   "cell_type": "markdown",
   "id": "b3024b71-470a-47a7-ac66-a65ab1d3f5f7",
   "metadata": {},
   "source": [
    "To get deeper into functions we need to start writing our own functions. This is the real power of using Python instead of a point-and-click interface. We can define custom functions that do exactly what we want. Below I have written out a simple function that uses the Pythagorean theorem. I am also using comments, which begin with #, to explain what is happening. Comments are ignored by Python, so you can write yourself (or others) notes with them."
   ]
  },
  {
   "cell_type": "code",
   "execution_count": null,
   "id": "fdcf9a9f-c555-4c24-b7dd-b5cf57ad5f11",
   "metadata": {},
   "outputs": [],
   "source": [
    "# name the function and the arguments it gets\n",
    "def pythagorean(a, b):\n",
    "    # do the math\n",
    "    c_squared = (a ** 2) + (b ** 2)\n",
    "    c = c_squared ** 0.5\n",
    "    # return sends the result back. We'll discuss this more in a moment.\n",
    "    return c"
   ]
  },
  {
   "cell_type": "markdown",
   "id": "2759da5c-25b6-4445-8621-8b02882b28e4",
   "metadata": {},
   "source": [
    "When we run this nothing happens. Why? Well, we only defined the function. We haven't used it yet. (Using a function is often referred to as \"calling\" it.) We just said to Python, \"When I ask you for the pythagorean function this is what you should do.\" Let's use it below."
   ]
  },
  {
   "cell_type": "code",
   "execution_count": null,
   "id": "529925a7-7b30-44a6-875f-35d695a239b3",
   "metadata": {},
   "outputs": [],
   "source": [
    "pythagorean(2, 3)"
   ]
  },
  {
   "cell_type": "markdown",
   "id": "06bf938f-de92-4da6-a43b-0fed18c10f34",
   "metadata": {},
   "source": [
    "If we attempted to use pythagorean() before defining it this call would fail. Always define your functions first, then use them!  \n",
    "\n",
    "To define a function we always use the keyword def. You can remember this as being short for define, but always use def, not define! Directly after def comes the name of the function, and then parentheses with arguments, and then a colon. Forgetting the colon is a pretty common beginner mistake!\n",
    "\n",
    "An important note about arguments: you can name the arguments whatever you want. In this example our arguments are what are called positional arguments, which means that Python determines the names of the arguments by position. In this case whatever argument comes first is `a` and whichever is second is now `b`. I'm renaming whatever gets passed to the functions, not trying to guess what they are already called.\n",
    "\n",
    "The next lines are the meat of the function. They are all indented (one tab or four spaces). This indentation means that these lines \"belong\" to the less indented line above them that ends with a colon. If you don't indent the function won't work correctly. Another common beginner mistake is to \"fix\" the weird indenting, breaking the function. Incidentally, if you typed the colon on the end of the line that starts with `def` the notebook will automatically indent your next line. If it doesn't you probably forgot the colon!\n",
    "\n",
    "#### If you wish to, take this copy of the function (under a new name) and change some of these things to see what happens. I suggest trying the following, minimally:\n",
    "1) Rename the arguments\n",
    "2) Change the indentation"
   ]
  },
  {
   "cell_type": "code",
   "execution_count": null,
   "id": "4da0016f-e48b-4840-837b-9e2433f3f564",
   "metadata": {},
   "outputs": [],
   "source": [
    "# you can break this one\n",
    "def pythagorean_2(a, b):\n",
    "    c_squared = (a ** 2) + (b ** 2)\n",
    "    c = c_squared ** 0.5\n",
    "    return c\n",
    "\n",
    "pythagorean_2(2, 3)"
   ]
  },
  {
   "cell_type": "markdown",
   "id": "b26ad38c-9594-40ee-9661-cf86a1d4f6a7",
   "metadata": {},
   "source": [
    "The last line is the return statement. To see how this works let's run a version of the function without it."
   ]
  },
  {
   "cell_type": "code",
   "execution_count": null,
   "id": "df5f5444-500e-4acc-adca-64bb27e9ad9d",
   "metadata": {},
   "outputs": [],
   "source": [
    "def pythagorean_no_return(a, b):\n",
    "    c_squared = (a ** 2) + (b ** 2)\n",
    "    c = c_squared ** 0.5\n",
    "\n",
    "pythagorean_no_return(2, 3)"
   ]
  },
  {
   "cell_type": "markdown",
   "id": "7dc8220a-7619-4665-a574-4048fb9e72e6",
   "metadata": {},
   "source": [
    "It appears that nothing happened. This is because of the return statement. In the first version of the function running the function produced a result which was then returned to the main Python program. In the second version the result is calculated but it doesn't get sent back. (Instead, a \"None\" is sent back to indicate that there's nothing returned.)\n",
    "\n",
    "Another way to think of this is that a function call \"becomes\" the return value. Below I have added two len() calls together. Run this and see what happens."
   ]
  },
  {
   "cell_type": "code",
   "execution_count": null,
   "id": "ce474df7-0a68-4de5-b8b1-60ca3e230b75",
   "metadata": {},
   "outputs": [],
   "source": [
    "len('cat') + len('bat')"
   ]
  },
  {
   "cell_type": "markdown",
   "id": "2b24027b-46d4-482a-9369-e13114de86ef",
   "metadata": {},
   "source": [
    "You should see that each len() call becomes a number (3, in both cases) and then Python can add those two numbers together. This is also useful when we chain functions together."
   ]
  },
  {
   "cell_type": "code",
   "execution_count": null,
   "id": "c648d876-5d21-4b2d-8a49-13809cfda983",
   "metadata": {},
   "outputs": [],
   "source": [
    "print(pythagorean(len('bat'), len('chiroptera')))"
   ]
  },
  {
   "cell_type": "markdown",
   "id": "80c6b44e-4152-415e-8adf-d33ad6683c28",
   "metadata": {},
   "source": [
    "Here instead of passing pythagorean two numbers as arguments we passed it two len() calls that became numbers. It is possible to chain functions in very deeply-nested ways, but this can be hard to read. Often, for readibility, you will want to save some intermediate steps as variables and then pass those variables on to the next functions.\n",
    "\n",
    "Now it is time to write your own functions. \n",
    "#### Below, write a simple function that takes three arguments and adds the first two together and then divides that sum by the third argument. Make sure to return the result! And, of course, call your function and check that it works."
   ]
  },
  {
   "cell_type": "code",
   "execution_count": null,
   "id": "f0b363bc-8711-4995-b9b7-838a9257822a",
   "metadata": {},
   "outputs": [],
   "source": [
    "# Your code goes here\n"
   ]
  },
  {
   "cell_type": "markdown",
   "id": "78ffe71b-7e18-4d5e-8730-68ac6e7a4391",
   "metadata": {},
   "source": [
    "Some functions have optional arguments, called keyword arguments. A simple example is below:"
   ]
  },
  {
   "cell_type": "code",
   "execution_count": null,
   "id": "a90bfc6a-fd98-41b9-ad47-29bcbbf857be",
   "metadata": {},
   "outputs": [],
   "source": [
    "def keyword_add(a, b=3, c=2):\n",
    "    return a + b + c"
   ]
  },
  {
   "cell_type": "markdown",
   "id": "5d7672be-3718-46a9-ae73-74ff6f32e8de",
   "metadata": {},
   "source": [
    "b and c are keyword arguments, that take default values. If no argument is passed to the function the default is used. Keyword arguments always go after positional arguments. To pass a keyword argument you use the name (hence keyword) as shown in several different ways below."
   ]
  },
  {
   "cell_type": "code",
   "execution_count": null,
   "id": "321734d9-0d3c-40a4-abab-dbbc1491a3de",
   "metadata": {},
   "outputs": [],
   "source": [
    "keyword_add(2)"
   ]
  },
  {
   "cell_type": "code",
   "execution_count": null,
   "id": "ef040761-7bb5-4db9-a25f-8aafb4242f16",
   "metadata": {},
   "outputs": [],
   "source": [
    "keyword_add(2, b=4)"
   ]
  },
  {
   "cell_type": "code",
   "execution_count": null,
   "id": "3fb56c61-00bc-439d-acad-2bbd3c462907",
   "metadata": {},
   "outputs": [],
   "source": [
    "keyword_add(2, b=5, c=10)"
   ]
  },
  {
   "cell_type": "code",
   "execution_count": null,
   "id": "0dc8523b-97d6-48b2-b019-f4ad4ed59cb7",
   "metadata": {},
   "outputs": [],
   "source": [
    "keyword_add(2, c=8)"
   ]
  },
  {
   "cell_type": "markdown",
   "id": "d547b46e-2a3c-4c52-9a66-9700aa15a4bc",
   "metadata": {},
   "source": [
    "The big advantage of keyword arguments is that you don't have to mention them if you are fine with the default\n",
    "\n",
    "Take your earlier function and modify it so that the third argument, the one that you divide the sum of the other two with, is a keyword argument defaulting to 2."
   ]
  },
  {
   "cell_type": "code",
   "execution_count": null,
   "id": "5f6ce301-14fa-4d49-bf9b-e2d0caecba5c",
   "metadata": {},
   "outputs": [],
   "source": [
    "# your code goes here\n"
   ]
  },
  {
   "cell_type": "markdown",
   "id": "88723fd5-6076-4989-9f91-6f319b9f56dc",
   "metadata": {},
   "source": [
    "It is also possible to write a function that takes no arguments. These must still be called using parentheses, but there are no arguments in the parentheses."
   ]
  },
  {
   "cell_type": "markdown",
   "id": "53f30891-d7fd-44ee-a9ee-86d736a5b8b5",
   "metadata": {},
   "source": [
    "### Scope\n",
    "Python has two scopes for variables that you will encounter frequently: global and local. Variables in the global scope are accessible to anyone, but can't be modified without special permission by anything working in local scope. Local variables are accessible only to their functions. Run the example below (which includes two functions without either arguments or a return statement)."
   ]
  },
  {
   "cell_type": "code",
   "execution_count": null,
   "id": "86ae6b74-eb5c-41b0-9572-9013879f4ab8",
   "metadata": {},
   "outputs": [],
   "source": [
    "test_var = 1\n",
    "\n",
    "def local_test_var():\n",
    "    test_var = 100\n",
    "    print('local_test_var test_var is', test_var)\n",
    "    \n",
    "def other_local_test_var():\n",
    "    test_var = 50\n",
    "    print('other_local_test_var test_var is', test_var)\n",
    "    \n",
    "print(test_var)\n",
    "local_test_var()\n",
    "other_local_test_var()\n",
    "print(test_var)\n",
    "test_var = 14\n",
    "print(test_var)"
   ]
  },
  {
   "cell_type": "markdown",
   "id": "9506a441-d918-4cf3-b096-5ae2127bf506",
   "metadata": {},
   "source": [
    "In this case scoping worked as it should, although maybe not as you expected. While there appears to be one variable, test_var, there are three: a global test_var, a test_var that belongs to local_test_var, and a test_var that belongs to other_local_test_var.\n",
    "\n",
    "Python treats global variables as \"read only\" without special permission, and so when we set test_var to 100 inside a function Python says, effectively, \"You don't have permission to alter global test_var, so we're making you a local test_var instead.\"\n",
    "\n",
    "We could, however, read the value of test_var inside a function, as shown below."
   ]
  },
  {
   "cell_type": "code",
   "execution_count": null,
   "id": "095da507-097b-45b7-84b2-902e22c96b12",
   "metadata": {},
   "outputs": [],
   "source": [
    "test_var = 1\n",
    "\n",
    "def local_test_var():\n",
    "    print('test_var is', test_var)\n",
    "    \n",
    "print(test_var)\n",
    "local_test_var()\n",
    "print(test_var)"
   ]
  },
  {
   "cell_type": "markdown",
   "id": "a2469806-2cbe-443d-8786-c83509bb6fca",
   "metadata": {},
   "source": [
    "How do we give ourselves permission to alter a global variable? With the keyword \"global\", as shown below."
   ]
  },
  {
   "cell_type": "code",
   "execution_count": null,
   "id": "819b37fd-5dd6-40ec-9251-1644d693f852",
   "metadata": {},
   "outputs": [],
   "source": [
    "test_var = 1\n",
    "\n",
    "def modify_global_test_var():\n",
    "    global test_var\n",
    "    test_var = 100\n",
    "    print(\"test_var is\", test_var)\n",
    "    \n",
    "print(test_var)\n",
    "modify_global_test_var()\n",
    "print(test_var)"
   ]
  },
  {
   "cell_type": "markdown",
   "id": "4b631c12-a1ce-4cb5-bdb5-298b5468b3fa",
   "metadata": {},
   "source": [
    "By adding the line `global test_var` before modifying `test_var` we told the function that `test_var` is not a local variable but the global one and gave it permission to modify it, which it did.\n",
    "\n",
    "#### Try this yourself! I have provided a skeleton of a function below which you should fix so that it prints the total number of times it has been called. (E.g., calling it once should print 1, the second time it should print 2, and so on.)\n",
    "\n",
    "You will need to add two lines of code, minimum."
   ]
  },
  {
   "cell_type": "code",
   "execution_count": null,
   "id": "a9fd1a9a-f24b-430e-8308-78466b9ca016",
   "metadata": {},
   "outputs": [],
   "source": [
    "# this is a global variable\n",
    "counter = 0\n",
    "\n",
    "def count():\n",
    "    # because print doesn't alter counter we can print the global counter without special permission\n",
    "    print(counter)\n",
    "    \n",
    "count()\n",
    "count()\n",
    "count()\n",
    "count()"
   ]
  },
  {
   "cell_type": "markdown",
   "id": "12a81ed6-581d-49cb-8820-add7753e4547",
   "metadata": {},
   "source": [
    "### Lists\n",
    "Storing single variables is nice, but for data analysis we need data structures that hold lots of variables. We will ultimately use Pandas data structures, but these are based on lists and dictionaries, and you will probably want to use lists and/or dictionaries to hold data in mid-analysis. We will start with lists.\n",
    "\n",
    "Lists are exactly what they sound like. They are ordered collections of data. Ordered means items are always in the same order, which isn't true of dictionaries. Lists are created with square brackets []. They can either be created empty or full, and there are methods to add and subtract items from them. The code below demonstrates all of these features.\n"
   ]
  },
  {
   "cell_type": "code",
   "execution_count": null,
   "id": "709c4321-42f9-4391-a53d-97255fa4d7f7",
   "metadata": {},
   "outputs": [],
   "source": [
    "# create a full list\n",
    "a_list = [1, 2, 3]\n",
    "\n",
    "# create an empty list\n",
    "b_list = []\n",
    "\n",
    "print(a_list)\n",
    "print(b_list)\n",
    "\n",
    "# add to an empty list\n",
    "b_list.append('Boston')\n",
    "\n",
    "print(b_list)\n",
    "\n",
    "# add more places to this list\n",
    "b_list.append('New York')\n",
    "b_list.append('Khazad-Dum')\n",
    "b_list.append('Los Angeles')\n",
    "b_list.append('Baton Rouge')\n",
    "\n",
    "print(b_list)\n",
    "\n",
    "# remove a place from the list\n",
    "b_list.remove('Khazad-Dum')\n",
    "\n",
    "print(b_list)"
   ]
  },
  {
   "cell_type": "markdown",
   "id": "5fe493b6-6b29-463f-8911-3b05d72a87fa",
   "metadata": {},
   "source": [
    "Note that the append and remove functions have slightly different notation than the functions we have seen before. \n",
    "This is because these are technically methods, a distinction that isn't very easy to understand when you are starting out. However, methods are \"attached\" to their objects and so they always know about their own object. This is how the append in `b_list.append('New York')` knows to append 'New York' to `b_list`. Calling `b_list.append` or `b_list.remove` will always append or remove its argument from `b_list`.\n",
    "\n",
    "This means of referencing a method is called dot notation, and we'll use it quite a lot later. You write the name of the owner object, then a period (hence dot notation), then the name of the method.\n",
    "\n",
    "We also need to be able to read items from lists. To read an item from a list we use its index, which is its position in the list. Python, like many programming languages, indexes from zero, which means that the first item in the list is at index 0, not index 1, and the second is at index 1, not index 2, and so forth. The general form to read an item from a list is `list_name[item_index]`. E.g, to access 'Boston' from `b_list` above you would write `b_list[0]`.\n",
    "\n",
    "#### In the block below, write a line that will retrieve \"h\" from the list under the comment."
   ]
  },
  {
   "cell_type": "code",
   "execution_count": null,
   "id": "28524610-37be-42d1-b55e-f81292338ce5",
   "metadata": {},
   "outputs": [],
   "source": [
    "alphabet_list = ['a', 'b', 'c', 'd', 'e', 'f', 'g', 'h', 'i', 'j', 'k', 'l', 'm', 'n', 'o', 'p', 'q', 'r', 's', 't', 'u', 'v', 'w', 'x', 'y', 'z']\n",
    "\n",
    "# write your code here\n"
   ]
  },
  {
   "cell_type": "markdown",
   "id": "d90d32e2-eade-48a4-88df-1065ea88efcf",
   "metadata": {},
   "source": [
    "It's not uncommon that we want the end of a list. Python takes negative indices, which helps with this. The code below will retrieve \"z\"."
   ]
  },
  {
   "cell_type": "code",
   "execution_count": null,
   "id": "df5ac29f-5573-4d0a-b98c-9d06cc8bec38",
   "metadata": {},
   "outputs": [],
   "source": [
    "alphabet_list[-1]"
   ]
  },
  {
   "cell_type": "markdown",
   "id": "c3a84a45-d308-4e59-b719-5a9fa8819e58",
   "metadata": {},
   "source": [
    "You can also take pieces of a list. These are called slices, and are of the form `list_name[start:stop]`. E.g., `alphabet_list[0:3]` will return `['a', 'b', 'c']`.\n",
    "\n",
    "A blank represents the start or end of the whole list. `alphabet_list[:3]` will also return `['a', 'b', 'c']` because 0 is the start of the list. `alphabet_list[3:]` will return the whole alphabet except for a, b, and c.\n",
    "\n",
    "#### In the blank below write a slice that gives you x, y, z."
   ]
  },
  {
   "cell_type": "code",
   "execution_count": null,
   "id": "7df1ee1e-865d-4e53-9e9d-2ff3105cf95b",
   "metadata": {},
   "outputs": [],
   "source": [
    "# write your code here\n"
   ]
  },
  {
   "cell_type": "markdown",
   "id": "2322167f-7346-4cde-b586-8ee209306fc9",
   "metadata": {},
   "source": [
    "## Dictionaries\n",
    "While lists \"remember\" items by position, dictionaries remember items by keys. This is often called a key-value pair, where a key is used to look up a value. The dictionary below has a set of key-value pairs where the key is the name of a city and the value is the country the city is in."
   ]
  },
  {
   "cell_type": "code",
   "execution_count": null,
   "id": "5700d3ef-2d85-4145-8b40-847d767406b4",
   "metadata": {},
   "outputs": [],
   "source": [
    "city_dict = {'Lagos': 'Nigeria',\n",
    "             'Canberra': 'Australia',\n",
    "             'Washington DC': 'USA',\n",
    "             'Kuala Lumpur': 'Malaysia'}"
   ]
  },
  {
   "cell_type": "markdown",
   "id": "33b60585-bafb-4b45-98bc-bef3e87f8182",
   "metadata": {},
   "source": [
    "We can look up a value by using the form `dictionary_name[key]`. Run the code below to see."
   ]
  },
  {
   "cell_type": "code",
   "execution_count": null,
   "id": "bab36d7e-b3ee-4085-b4a9-c867490b5ab2",
   "metadata": {},
   "outputs": [],
   "source": [
    "city_dict['Kuala Lumpur']"
   ]
  },
  {
   "cell_type": "markdown",
   "id": "9c58c43b-c30c-4b36-abf0-572eb947f156",
   "metadata": {},
   "source": [
    "We cannot do the reverse. The code below will throw an error, because we are trying to look up the value, not the key."
   ]
  },
  {
   "cell_type": "code",
   "execution_count": null,
   "id": "b3031d35-76b7-4faa-aacb-ee343fcd8de7",
   "metadata": {},
   "outputs": [],
   "source": [
    "city_dict['Australia']"
   ]
  },
  {
   "cell_type": "markdown",
   "id": "f009ffa2-feec-455d-9042-e46c229d4f68",
   "metadata": {},
   "source": [
    "Creating and adding to dictionaries is shown below. Note the use of {} instead of \\[]."
   ]
  },
  {
   "cell_type": "code",
   "execution_count": null,
   "id": "d2618a6f-b70b-4a32-a580-56589fd65084",
   "metadata": {},
   "outputs": [],
   "source": [
    "# create an empty dictionary\n",
    "empty_dict = {}\n",
    "\n",
    "# create a dictionary with things in it\n",
    "other_dict = {'Cat': 'Felis catus', 'Rat': 'Rattus norvegicus'}\n",
    "\n",
    "# add a key: value pair to the empty dictionary\n",
    "empty_dict[1] = 'A'\n",
    "\n",
    "print(empty_dict)\n",
    "print(other_dict)"
   ]
  },
  {
   "cell_type": "markdown",
   "id": "9697685f-e44c-4156-abce-6f613e3f22a4",
   "metadata": {},
   "source": [
    "#### Create a dictionary with a few famous people in it. Set it up so that we can look up their first names using their last names. Test it, of course!\n",
    "\n",
    "A quick warning: don't name the dictionary `dict` (or a list `list`). These are both functions that make dictionaries or lists, and so these names are already in use."
   ]
  },
  {
   "cell_type": "code",
   "execution_count": null,
   "id": "d8b281e0-ff70-435d-82b1-695772a0be19",
   "metadata": {},
   "outputs": [],
   "source": [
    "# put your code here\n"
   ]
  },
  {
   "cell_type": "markdown",
   "id": "499bae40-18d6-4275-be93-de5aa9d40c8d",
   "metadata": {},
   "source": [
    "Add someone else to the dictionary of famous people. Print the dictionary to make sure it worked."
   ]
  },
  {
   "cell_type": "code",
   "execution_count": null,
   "id": "0c92c216-8199-4f30-a17e-1ebdd14e03ac",
   "metadata": {},
   "outputs": [],
   "source": [
    "# put your code here\n"
   ]
  },
  {
   "cell_type": "markdown",
   "id": "ab504d90-1e86-43d5-b2ab-e2779213c090",
   "metadata": {},
   "source": [
    "We can get fancy and make a dictionary of lists. Let's revisit our city dictionary and try to get both country and whether the city is the current capital of the country in the same value. (Kuala Lumpur is the seat of some branches of government but not others, so we will code this as a partial capital.)"
   ]
  },
  {
   "cell_type": "code",
   "execution_count": null,
   "id": "6123ddb9-945b-4d65-854b-a0596d773e85",
   "metadata": {},
   "outputs": [],
   "source": [
    "city_dict = {'Lagos': ['Nigeria', 'No'],\n",
    "             'Canberra': ['Australia', 'Yes'],\n",
    "             'Washington DC': ['USA', 'Yes'],\n",
    "             'Kuala Lumpur': ['Malaysia', 'Partly']}"
   ]
  },
  {
   "cell_type": "markdown",
   "id": "599f479c-1bad-4aa0-b7f5-e908093f0757",
   "metadata": {},
   "source": [
    "We can now access the list by using the key and a particular item in the list using an index. For instance, if we wanted to know if Canberra is the capital of its country we could access that information using the code below:"
   ]
  },
  {
   "cell_type": "code",
   "execution_count": null,
   "id": "948b6e06-048f-45dd-a110-c04a95288282",
   "metadata": {},
   "outputs": [],
   "source": [
    "city_dict['Canberra'][1]"
   ]
  },
  {
   "cell_type": "markdown",
   "id": "70eeebee-3d35-428a-9375-83a6804ee03b",
   "metadata": {},
   "source": [
    "`city_dict['Canberra']` gives us the list `['Australia', 'Yes']`. Is/is not capital is the second item (index 1), so we just ask for the index 1 item in `city_dict['Canberra']`.\n",
    "\n",
    "#### Below, write a line of code that retrieves what country Washington DC is in."
   ]
  },
  {
   "cell_type": "code",
   "execution_count": null,
   "id": "629f95d5-e869-4b17-9f3f-7a83e945a48a",
   "metadata": {},
   "outputs": [],
   "source": [
    "# you code goes here\n"
   ]
  },
  {
   "cell_type": "markdown",
   "id": "d7a41635-bb3c-489e-8154-c33902e30991",
   "metadata": {},
   "source": [
    "### For Loops\n",
    "Now that we have introduced lists we can discuss for loops. One common pattern is that you want to perform the same operation on every item in a list. A for loop will do this. An example will be helpful to explain this, so we'll start with this code."
   ]
  },
  {
   "cell_type": "code",
   "execution_count": null,
   "id": "8b396135-f42c-42d1-b23a-cbc186da3d69",
   "metadata": {},
   "outputs": [],
   "source": [
    "num_list = [2, 56, 17, 278]\n",
    "\n",
    "for x in num_list:\n",
    "    print(x + 1)"
   ]
  },
  {
   "cell_type": "markdown",
   "id": "bbd94d7f-420d-424c-816c-613cc2dd25de",
   "metadata": {},
   "source": [
    "In this for loop we simply print a number 1 higher than the number in the list. This isn't particularly useful, but the point is to demonstrate the loop.\n",
    "\n",
    "The for loop is created in the line `for x in num_list:`. Note that this line ends with a colon and that the next section is indented below it. We saw this in defining functions and will see it for if statements. This pattern means that the indented text belongs to the for loop.\n",
    "\n",
    "`for x in num_list:` itself follows a general pattern \"for variable_name in iterable:\" Anything with elements that can be pulled up in order one at a time is an iterable. A list is an iterable, where we iterate over items. A word is an iterable, where we iterate over letters. (See below.)"
   ]
  },
  {
   "cell_type": "code",
   "execution_count": null,
   "id": "53a41b8a-c362-4d9b-a394-d73e786dc4df",
   "metadata": {},
   "outputs": [],
   "source": [
    "for x in 'platyhelminth':\n",
    "    print(x)"
   ]
  },
  {
   "cell_type": "markdown",
   "id": "c105fcc1-f383-4251-bb12-4f716485e1c7",
   "metadata": {},
   "source": [
    "A dictionary is only sort of iterable. If we attempt to iterate over this dictionary we will just get the keys."
   ]
  },
  {
   "cell_type": "code",
   "execution_count": null,
   "id": "6f70cbf9-ef26-4b48-877a-e21f6f1feac3",
   "metadata": {},
   "outputs": [],
   "source": [
    "for x in {1: 'a', 2: 'b', 3: 'c'}:\n",
    "    print(x)"
   ]
  },
  {
   "cell_type": "markdown",
   "id": "c6921b71-f475-4a37-833b-c8b5ad87800b",
   "metadata": {},
   "source": [
    "The for loop also names the things that are iterated over. The statement `for x in num_list:` means, effectively, \"Take the first item from num_list, name it x, do the code below on it. Take the next item from num_list, name it x, do the code below on it.\" This means we keep resetting what x is. See below. \n",
    "\n",
    "(\"x += 1\" is a compact way to write \"x = x + 1\".)"
   ]
  },
  {
   "cell_type": "code",
   "execution_count": null,
   "id": "eeb9b6be-458a-4db2-a08d-96bb6b2b0e3e",
   "metadata": {},
   "outputs": [],
   "source": [
    "for x in num_list:\n",
    "    x += 1\n",
    "    \n",
    "print(x)"
   ]
  },
  {
   "cell_type": "markdown",
   "id": "9f15ce82-ef63-4446-956e-30cbc6b8ecfe",
   "metadata": {},
   "source": [
    "Only the last variable was retained! This is what we expect. If we wanted to save these variables we would need to put them somewhere, like this:"
   ]
  },
  {
   "cell_type": "code",
   "execution_count": null,
   "id": "de676717-0bab-4d0c-9b36-0dcc8de0b0f3",
   "metadata": {},
   "outputs": [],
   "source": [
    "new_nums = []\n",
    "\n",
    "for x in num_list:\n",
    "    new_nums.append(x + 1)\n",
    "    \n",
    "print(new_nums)"
   ]
  },
  {
   "cell_type": "markdown",
   "id": "8a90a47d-e027-41ad-8a0f-a4ed111ed53d",
   "metadata": {},
   "source": [
    "#### It's time to try this yourself. In the first block of code below, make a for loop that doubles the original number and stores it in a new list.\n",
    "\n",
    "#### In the second block of code make a function that prints every item in the list the first block of code made."
   ]
  },
  {
   "cell_type": "code",
   "execution_count": null,
   "id": "1aa61625-ea23-48f8-a587-714b1b721ecd",
   "metadata": {},
   "outputs": [],
   "source": [
    "# put your first loop here\n"
   ]
  },
  {
   "cell_type": "code",
   "execution_count": null,
   "id": "2e244747-09d3-4d76-bdce-0f6403cbc8f0",
   "metadata": {},
   "outputs": [],
   "source": [
    "# put your second loop here\n"
   ]
  },
  {
   "cell_type": "markdown",
   "id": "8cb42678-a217-453e-b67e-34a1954777a8",
   "metadata": {},
   "source": [
    "Another important thing to know in for loops: the `range()` function. The `range()` function is set up with these arguments: `range(start, stop, step)`. It produces an iterable of numbers starting at start and ending just before stop. If no step is provided the numbers count up normally, if a step is provided they go up by that step number.\n",
    "\n",
    "Technically, stop is the number at which range says \"Oh, I'm done now\" so the stop value will not be part of the range.\n",
    "\n",
    "Run the examples below."
   ]
  },
  {
   "cell_type": "code",
   "execution_count": null,
   "id": "d2b9f4db-6a27-477e-9db4-4cfee2f2cbec",
   "metadata": {},
   "outputs": [],
   "source": [
    "# print every number between 0 and 9\n",
    "for x in range(0, 10):\n",
    "    print(x)"
   ]
  },
  {
   "cell_type": "code",
   "execution_count": null,
   "id": "047add73-f5ec-4612-896c-9c4d51b9d7d0",
   "metadata": {},
   "outputs": [],
   "source": [
    "# print every even number between 0 and 9\n",
    "for x in range(0, 10, 2):\n",
    "    print(x)"
   ]
  },
  {
   "cell_type": "code",
   "execution_count": null,
   "id": "73639caa-f48b-48ba-9e33-2515da884033",
   "metadata": {},
   "outputs": [],
   "source": [
    "# print every number from 9 to 0. Note that I have to fix step to count down or this will fail!\n",
    "for x in range(9, -1, -1):\n",
    "    print(x)"
   ]
  },
  {
   "cell_type": "markdown",
   "id": "91a4ad09-6c6b-41dd-b811-06fd2d382913",
   "metadata": {},
   "source": [
    "One of the most common uses for range() is to do something a certain number of times. Let's go back to num_list. What if we wanted every entry to be triplicated? We could use range(0, 3) to do something three times. The example below shows this and also how to nest for loops."
   ]
  },
  {
   "cell_type": "code",
   "execution_count": null,
   "id": "6b049cfe-8f3c-46e6-a7f6-b482df28dd7c",
   "metadata": {},
   "outputs": [],
   "source": [
    "triplicated_list = []\n",
    "for x in num_list:\n",
    "    for y in range(0, 3):\n",
    "        triplicated_list.append(x)\n",
    "        \n",
    "print(triplicated_list)"
   ]
  },
  {
   "cell_type": "markdown",
   "id": "3d7df273-bde4-4022-837c-c7d3cc5bfc3c",
   "metadata": {},
   "source": [
    "Here the for loop with the `range()` call is nested inside the first for loop. We signal this with indentation. Everything that is indented one tab/four spaces occurs inside one iteration of `for x in num_list`. This includes `for y in range(0, 3)`. Everything indented with two tabs or eight spaces occurs inside a loop of `for y in range(0, 3)`.\n",
    "\n",
    "Note, also, that we use different variables in each loop. I have said that variable names in loops don't matter, but we wouldn't want to set x equal to the first element of num_list and then immediately set it to 0 (the first element of range(0, 3)). That could easily cause issues.\n",
    "\n",
    "The loop below shows how to use the indenting rules to operate code inside the first for loop, but not the second, after the second for loop runs."
   ]
  },
  {
   "cell_type": "code",
   "execution_count": null,
   "id": "08f66770-7c8d-4e64-a945-6a26b2683fd6",
   "metadata": {},
   "outputs": [],
   "source": [
    "triplicated_list = []\n",
    "for x in num_list:\n",
    "    for y in range(0, 3):\n",
    "        triplicated_list.append(x)\n",
    "    print(triplicated_list)\n",
    "        \n",
    "print('Final list:', triplicated_list)"
   ]
  },
  {
   "cell_type": "markdown",
   "id": "494a0e3a-b7df-4782-8ad4-fd3d90d7a58f",
   "metadata": {},
   "source": [
    "#### Use the space below to write a loop that takes each element from num_list and then succesively adds 1, 2, and then 3 to it, saving it to a new list each time."
   ]
  },
  {
   "cell_type": "code",
   "execution_count": null,
   "id": "cb1fdc3f-13d7-45bb-877f-a4ab306af91a",
   "metadata": {},
   "outputs": [],
   "source": [
    "# put your code here\n"
   ]
  },
  {
   "cell_type": "markdown",
   "id": "a883bb78-eb81-43aa-ab95-a3bfbc1e6578",
   "metadata": {},
   "source": [
    "### If statements\n",
    "One reason to introduce nested loops is so that we can discuss if statements. You frequently want code that does one thing in one condition and something different in another. If statements (sometimes called if-else statements) provide this functionality. Run the example below:"
   ]
  },
  {
   "cell_type": "code",
   "execution_count": null,
   "id": "d1388c95-be3c-446d-8e8a-121a1a091cac",
   "metadata": {},
   "outputs": [],
   "source": [
    "for num in range(1, 11):\n",
    "    if num < 5:\n",
    "        print(num, 'is small')\n",
    "    else:\n",
    "        print(num, 'is large')"
   ]
  },
  {
   "cell_type": "markdown",
   "id": "a7987617-6d70-49b3-9114-2efbd246770a",
   "metadata": {},
   "source": [
    "num < 5 is our condition. The condition must evaluate to either True or False. Run the code below to see how this works."
   ]
  },
  {
   "cell_type": "code",
   "execution_count": null,
   "id": "640705df-9008-4fd8-ac02-cf75d1b9cc27",
   "metadata": {},
   "outputs": [],
   "source": [
    "1 < 5"
   ]
  },
  {
   "cell_type": "code",
   "execution_count": null,
   "id": "bc9a2e30-adea-4d4f-b2de-1f9b9b65b697",
   "metadata": {},
   "outputs": [],
   "source": [
    "56839 < 9"
   ]
  },
  {
   "cell_type": "markdown",
   "id": "fbe36262-f430-420a-9837-f24b6fc376af",
   "metadata": {},
   "source": [
    "The line `if num < 5:` tests num < 5 and if it is true the code indented below it runs. This is a familiar pattern by now: a line that ends in a colon and has an indented block under it. In this example if is also paired with an `else`. The else block (the code indented under `else:`) runs if the if statement is False.\n",
    "\n",
    "In Python it is not necessary to write an else. Imagine that we want to check a list of systolic blood pressures and flag any over 300, perhaps because we think that this is impossibly high and is an indicator of data entry error. No else statement is needed because we don't need anything to happen if the pressure is lower."
   ]
  },
  {
   "cell_type": "code",
   "execution_count": null,
   "id": "f437cb90-e463-4aa8-9988-41e0b9e98435",
   "metadata": {},
   "outputs": [],
   "source": [
    "systolic_pressure = [140, 210, 378, 97, 163, 550]\n",
    "\n",
    "for p in systolic_pressure:\n",
    "    if p > 300:\n",
    "        print('Very high pressure detected')"
   ]
  },
  {
   "cell_type": "markdown",
   "id": "cbd799ac-8e07-462f-b01a-93c6e829b22f",
   "metadata": {},
   "source": [
    "Let's now imagine that we want to take a continuous scale and split it into categories. Our scale will run 0-100 and we want to split every third, roughly, into a category. The code below will do this:"
   ]
  },
  {
   "cell_type": "code",
   "execution_count": null,
   "id": "baf2f68e-e41a-4a10-b67e-d5c9a25f6d6d",
   "metadata": {},
   "outputs": [],
   "source": [
    "for num in range(0, 100, 10):\n",
    "    if num > 66:\n",
    "        print(num, 'is large')\n",
    "    if 66 >= num > 33:\n",
    "        print(num, 'is medium')\n",
    "    if num <= 33:\n",
    "        print(num, 'is small')"
   ]
  },
  {
   "cell_type": "markdown",
   "id": "1b2d475c-15a5-45f1-b30c-39d50e96497b",
   "metadata": {},
   "source": [
    "In the middle if statement we introduce a compound condition. `num` must be less than or equal to 66 and also greater than 33. These can be very useful.  \n",
    "\n",
    "Another way to do this same task is below:"
   ]
  },
  {
   "cell_type": "code",
   "execution_count": null,
   "id": "19b49ebe-cb5c-4892-8203-7880f8db67c9",
   "metadata": {},
   "outputs": [],
   "source": [
    "for num in range(0, 100, 10):\n",
    "    if num > 66:\n",
    "        print(num, 'is large')\n",
    "    else:\n",
    "        if num > 33:\n",
    "            print(num, 'is medium')\n",
    "        else:\n",
    "            print(num, 'is small')"
   ]
  },
  {
   "cell_type": "markdown",
   "id": "610059de-feb8-4769-89b0-7d2d6b7a495f",
   "metadata": {},
   "source": [
    "In this case we first check if the number is large. If it isn't, and only if it isn't, we check if it is medium or small. Python provides a more compact way to do this, the `elif`, which means \"else (previous ifs/elifs), if (new condition)\". The code below is the same as the code above, but rewritten using elif."
   ]
  },
  {
   "cell_type": "code",
   "execution_count": null,
   "id": "1fdc1ed5-761b-4428-9027-f95789156eec",
   "metadata": {},
   "outputs": [],
   "source": [
    "for num in range(0, 100, 10):\n",
    "    if num > 66:\n",
    "        print(num, 'is large')\n",
    "    elif num > 33:\n",
    "        print(num, 'is medium')\n",
    "    else:\n",
    "        print(num, 'is small')"
   ]
  },
  {
   "cell_type": "markdown",
   "id": "346a9b9e-b393-4012-90e9-1ebce4840bf3",
   "metadata": {},
   "source": [
    "#### Now try some if statements yourself. We'll start simple: write an if statement that prints \"Good\" if you give it a number between 80-100 and \"Bad\" otherwise. You may want to put it inside a for loop that feeds it some numbers to test it."
   ]
  },
  {
   "cell_type": "code",
   "execution_count": null,
   "id": "0674ac10-c1d1-4ab8-8b18-3c5f6b922527",
   "metadata": {},
   "outputs": [],
   "source": [
    "# your code goes here\n"
   ]
  },
  {
   "cell_type": "markdown",
   "id": "d44a4cde-7f0f-413b-8844-1d72b39d9b35",
   "metadata": {},
   "source": [
    "#### Now try a more complex one, where you probably want elifs. Write a block of code that takes a numeric grade and prints the letter grade. If you really want to test your skills, make this a function you can call using the numeric grade as an argument."
   ]
  },
  {
   "cell_type": "code",
   "execution_count": null,
   "id": "6cf3c8aa-21eb-42ca-9396-1fafc3e1ac67",
   "metadata": {},
   "outputs": [],
   "source": [
    "# your code goes here\n"
   ]
  },
  {
   "cell_type": "markdown",
   "id": "1535c7f8-481b-41f4-bd63-1dc3ca134db9",
   "metadata": {},
   "source": [
    "### Errors\n",
    "The last general Python topic to cover before we jump into Pandas and data analysis is error codes (which are often called \"exceptions\"). The reality is that any coder will make mistakes, and the way you find and fix these mistakes is by looking at error codes. First, let's make an error."
   ]
  },
  {
   "cell_type": "code",
   "execution_count": null,
   "id": "09d6af47-5ecc-4e3a-9c12-35a7fdc88231",
   "metadata": {},
   "outputs": [],
   "source": [
    "for x in range(0, 10):\n",
    "    y = x + 'a'\n",
    "    if y > 3:\n",
    "        print('Yes')"
   ]
  },
  {
   "cell_type": "markdown",
   "id": "972a3eb6-8ff7-4a2d-8a64-b96bed9ee2c0",
   "metadata": {},
   "source": [
    "This code is atrocious, with at least two problems, but let's look at the error message. The first thing to note is that the error message tells us that the error occured in line 2 of the code, `y = x + 'a'`. Now, maybe that error occured because of something you did earlier, but the Python interpreter isn't having an issue running your code until line 2.  \n",
    "\n",
    "The second thing to see is that this is a TypeError. This means you are trying to do something with your variables that can't be done because of their type. In this case, as the error message explains, you can't add an integer (x is an integer) to a string ('a'). We could fix this error by making x a string. Let's try that."
   ]
  },
  {
   "cell_type": "code",
   "execution_count": null,
   "id": "3427e92a-008a-459d-b5a6-dd752a61832c",
   "metadata": {},
   "outputs": [],
   "source": [
    "for x in range(0, 10):\n",
    "    y = str(x) + 'a'\n",
    "    if y > 3:\n",
    "        print('Yes')"
   ]
  },
  {
   "cell_type": "markdown",
   "id": "bf709362-749e-46e3-937f-cb0b61bd48fa",
   "metadata": {},
   "source": [
    "As you can see, we now get a new TypeError. On line three we are asking whether y, which will be '0a' the first time the loop runs, is greater than 3. This doesn't mean anything, so we get an error.\n",
    "\n",
    "Why didn't we get both errors up front? Because the code broke on line 2, so the interpreter never got to 3.\n",
    "\n",
    "Four classes of errors are common enough to review them here. You can always look one up if it is not familiar, but I want to introduce you to the `TypeError`, `IndexError`, `KeyError`, and `NameError`.  \n",
    "\n",
    "We have already covered `TypeError`s.\n",
    "\n",
    "`IndexError` and `KeyError` are similiar. Both involve trying to retrieve items from iterables and failing. In the case of `IndexError` you are trying to retrieve an item by its index but no item exists at that index. The code below demonstrates this."
   ]
  },
  {
   "cell_type": "code",
   "execution_count": null,
   "id": "886fee1b-295a-4237-9435-909754a6b2a0",
   "metadata": {},
   "outputs": [],
   "source": [
    "q = [1, 2, 3]\n",
    "q[12]"
   ]
  },
  {
   "cell_type": "markdown",
   "id": "34fe493a-7a7b-4616-b8bb-6ad97faeee0e",
   "metadata": {},
   "source": [
    "KeyError works similarly, but in cases where you are retrieving an item by its key. See below."
   ]
  },
  {
   "cell_type": "code",
   "execution_count": null,
   "id": "db8ca5ab-3035-4e8d-96a0-e67fe05b33ec",
   "metadata": {},
   "outputs": [],
   "source": [
    "example_dict = {'Apples': 20, 'Oranges': 13, 'Mangos': 34}\n",
    "example_dict['Pears']"
   ]
  },
  {
   "cell_type": "markdown",
   "id": "52a199e7-7a0d-440e-b0d3-2edea237ebd4",
   "metadata": {},
   "source": [
    "Finally, NameError means that you are trying to do something with a variable that doesn't exist. This often means that you misspelled something or forgot to capitalize correctly. Example below:"
   ]
  },
  {
   "cell_type": "code",
   "execution_count": null,
   "id": "609df4f4-9b2d-456d-a71a-6133857b5613",
   "metadata": {},
   "outputs": [],
   "source": [
    "Loop_Counter = 0\n",
    "for x in range(0, 10):\n",
    "    loop_counter += 1"
   ]
  },
  {
   "cell_type": "markdown",
   "id": "5986e498-0860-4388-87b7-df7a0bc692cd",
   "metadata": {},
   "source": [
    "Below is a longer example. This is where recognizing errors and reading the output really helps. We'll assume that I have data coming in from a source where numbers are being treated as strings (i.e., 100 is the symbol 100, not the number 100). I will use the `float()` function to turn the third item in each line into a number and then save the resulting line in a new list. (`float()`, unlike `int()`, will leave decimals intact.)"
   ]
  },
  {
   "cell_type": "code",
   "execution_count": null,
   "id": "d67b28d5-1d54-49cf-9439-05a7299d94e3",
   "metadata": {},
   "outputs": [],
   "source": [
    "input_data = [['June', 'B47', '123.8', 'Dehydration'],\n",
    "              ['April', 'B22', '145.2', 'UTI'],\n",
    "              ['September', 'B15', '211.9', 'Hallucinations'],\n",
    "              ['January', 'B12', '156.9', 'Memory loss'],\n",
    "              ['October', '132.0', 'B11', 'Fall injury'],\n",
    "              ['November', 'B19', '101.3', 'Vampire bite']]\n",
    "\n",
    "fixed_data = []\n",
    "\n",
    "for data in input_data:\n",
    "    for n in range(0, 5):\n",
    "        if n == 3:\n",
    "            d = float(data[n])\n",
    "        else:\n",
    "            d = data[n]\n",
    "        fixed_data.append(d)\n",
    "        \n",
    "print(fixed_data)"
   ]
  },
  {
   "cell_type": "markdown",
   "id": "cffd713e-5c65-4557-8574-6b670e288c2d",
   "metadata": {},
   "source": [
    "We immediately get a ValueError on the line `d = float(data[n])`. Why? Because Python can't turn 'Dehydration' into a float value. However, we wanted '123.8' to be passed to float() on that line. This is a classical case of forgetting to index from zero. The third item, 123.8, isn't index 3, it's index 2. Below I have fixed the code. (There's no need to re-create input_data, so I haven't.)"
   ]
  },
  {
   "cell_type": "code",
   "execution_count": null,
   "id": "2caff091-385f-4be7-a889-28fea152d8aa",
   "metadata": {},
   "outputs": [],
   "source": [
    "fixed_data = []\n",
    "\n",
    "for data in input_data:\n",
    "    for n in range(0, 5):\n",
    "        if n == 2:\n",
    "            d = float(data[n])\n",
    "        else:\n",
    "            d = data[n]\n",
    "        fixed_data.append(d)\n",
    "        \n",
    "print(fixed_data)"
   ]
  },
  {
   "cell_type": "markdown",
   "id": "351d6300-2276-4ee3-815f-680e2fcafc6e",
   "metadata": {},
   "source": [
    "This is also a case of indexing incorrectly, but instead of just solving this I want to show you how to approach debugging this. In this case we know that `data[n]` is failing with an IndexError, but what is n when `data[n]` fails? Let's just print n on every pass to see. "
   ]
  },
  {
   "cell_type": "code",
   "execution_count": null,
   "id": "f3d386e7-eff7-4b63-b12d-9384d1ef5921",
   "metadata": {},
   "outputs": [],
   "source": [
    "fixed_data = []\n",
    "\n",
    "for data in input_data:\n",
    "    for n in range(0, 5):\n",
    "        print(n)\n",
    "        if n == 2:\n",
    "            d = float(data[n])\n",
    "        else:\n",
    "            d = data[n]\n",
    "        fixed_data.append(d)\n",
    "        \n",
    "print(fixed_data)"
   ]
  },
  {
   "cell_type": "markdown",
   "id": "c3bc3177-7f01-44f1-b1eb-288ff0db08de",
   "metadata": {},
   "source": [
    "We can see that the `data[n]` failure occurs when n is 4. This is another case of indexing from zero error, probably. While `range(0, 5)` only outputs 0-4 (5 is the stop point, not the last point) a four-item list only has indices 0-3. So let's fix that. (I am also removing the print statement.)"
   ]
  },
  {
   "cell_type": "code",
   "execution_count": null,
   "id": "d730f30c-2935-4406-85b1-1bf4eed2fb00",
   "metadata": {},
   "outputs": [],
   "source": [
    "fixed_data = []\n",
    "\n",
    "for data in input_data:\n",
    "    for n in range(0, 4):\n",
    "        if n == 2:\n",
    "            d = float(data[n])\n",
    "        else:\n",
    "            d = data[n]\n",
    "        fixed_data.append(d)\n",
    "        \n",
    "print(fixed_data)"
   ]
  },
  {
   "cell_type": "markdown",
   "id": "27990837-74c1-4a24-ac28-17d16774d2a7",
   "metadata": {},
   "source": [
    "Now we have a value error again. Somehow, the wrong data is still being passed. In this case I want to print the whole data line to see what's happening."
   ]
  },
  {
   "cell_type": "code",
   "execution_count": null,
   "id": "2f06ba7c-9a1e-48af-a0fa-922a2bed7976",
   "metadata": {},
   "outputs": [],
   "source": [
    "fixed_data = []\n",
    "\n",
    "for data in input_data:\n",
    "    print(data)\n",
    "    for n in range(0, 4):\n",
    "        if n == 2:\n",
    "            d = float(data[n])\n",
    "        else:\n",
    "            d = data[n]\n",
    "        fixed_data.append(d)\n",
    "        \n",
    "print(fixed_data)"
   ]
  },
  {
   "cell_type": "markdown",
   "id": "b3938990-5ad9-4b2e-98a5-e6fd3b4fd164",
   "metadata": {},
   "source": [
    "We can see here that one of the lines has mis-entered data, with our number swapped with some other code. In these cases I simply want to skip these lines.\n",
    "\n",
    "The easiest way to handle this is the try-except pair. This looks a bit like an if-else in format, but instructs Python to try something and then what to do if there is an error."
   ]
  },
  {
   "cell_type": "code",
   "execution_count": null,
   "id": "fb7711a1-724f-4bf5-8cf3-18034046c167",
   "metadata": {},
   "outputs": [],
   "source": [
    "fixed_data = []\n",
    "\n",
    "for data in input_data:\n",
    "    for n in range(0, 4):\n",
    "        if n == 2:\n",
    "            try:\n",
    "                d = float(data[n])\n",
    "            except ValueError:\n",
    "                pass\n",
    "        else:\n",
    "            d = data[n]\n",
    "        fixed_data.append(d)\n",
    "        \n",
    "print(fixed_data)"
   ]
  },
  {
   "cell_type": "markdown",
   "id": "9aa6d2ab-33cb-42c2-b72c-ac0db3fe9ab4",
   "metadata": {},
   "source": [
    "The `except` portion takes an error message, which specifies which error messages to use the `except` for. It is possible to skip this specifier, but I don't recommend it. If `d = float(data[n])` throws an error that isn't a ValueError we might want to know this.\n",
    "\n",
    "The `pass` after `except ValueError:` means \"do nothing\". You have to put something there, and `pass` is a way to have an instruction that doesn't do anything.\n",
    "\n",
    "This isn't a key pattern to know right off the bat, but you may eventually want to use this to \"keep moving\" despite some errors.\n",
    "\n",
    "#### Below are some blocks of code with issues. Use the error messages to figure out how to fix the code."
   ]
  },
  {
   "cell_type": "code",
   "execution_count": null,
   "id": "2e931916-c733-4ea9-9fc7-aebd9628cd63",
   "metadata": {},
   "outputs": [],
   "source": [
    "# this block of code is meant to produce a dictionary that reads {1: 'a', 2: 'b'} and so forth\n",
    "# one fix will prevent the error from occuring, but will be one off in the mapping\n",
    "\n",
    "alphabet_list = ['a', 'b', 'c', 'd', 'e', 'f', 'g', 'h', 'i', 'j', 'k', 'l', 'm', 'n', 'o', 'p', 'q', 'r', 's', 't', 'u', 'v', 'w', 'x', 'y', 'z']\n",
    "alphabet_positions = {}\n",
    "\n",
    "for n in range(0, 27):\n",
    "    alphabet_positions[n] = alphabet_list[n]\n",
    "    \n",
    "print(alphabet_positions)"
   ]
  },
  {
   "cell_type": "code",
   "execution_count": null,
   "id": "b48677ae-3795-42ae-9ef8-519bcc95095c",
   "metadata": {},
   "outputs": [],
   "source": [
    "# this is supposed to print \"combined codes\", which are things like 1a, 2b, 3c, using the previously-defined dictionary\n",
    "\n",
    "for x in alphabet_positions:\n",
    "    combined = x + alphabet_positions[x]\n",
    "    print(combined)"
   ]
  },
  {
   "cell_type": "markdown",
   "id": "28063e7e-5470-4cbb-b9d4-eb929f49b7e0",
   "metadata": {},
   "source": [
    "### Putting it all together\n",
    "That's it! We're ready to start using Pandas.\n",
    "\n",
    "Or, rather, as soon as you feel comfortable with these skills and putting them together we're ready to start using Pandas. To check your skills I have included some advanced problems below that require putting together all the different things we have learned in this worksheet.\n",
    "\n",
    "I have also provided some hints in the collapsible format below, where you can click to expand the hint but it is, by default, hidden.\n",
    "<details>\n",
    "<summary>Click this to see a hint (which you will need!).</summary>\n",
    "\n",
    "The method `.lower()` makes any letter lowercase. So if `a = \"M\"` then `a.lower()` will be \"m\". If you don't use this hint you'll need to only write lowercase in your sentences! (Also, running `a.lower()` doesn't make `a` lowercase forever. It just gives you a lowercase version of `a` now.)\n",
    "</details>"
   ]
  },
  {
   "cell_type": "code",
   "execution_count": null,
   "id": "9b205c6a-d2e9-4e20-a4fb-9808722ab8cd",
   "metadata": {},
   "outputs": [],
   "source": [
    "# write a function in this space that takes a sentence as input, \n",
    "# changes all letters to numbers (a = 1, b = 2, and so forth)\n",
    "# and then adds these numbers together. If the sentence already \n",
    "# contains numbers leave them alone, but sum them with the others.\n",
    "\n",
    "# here's your alphabet again. You will want it.\n",
    "alphabet_list = ['a', 'b', 'c', 'd', 'e', 'f', 'g', 'h', 'i', 'j', 'k', 'l', 'm', 'n', 'o', 'p', 'q', 'r', 's', 't', 'u', 'v', 'w', 'x', 'y', 'z']\n",
    "\n"
   ]
  },
  {
   "cell_type": "markdown",
   "id": "db8b4394-acad-4be9-ae66-63105892f42b",
   "metadata": {},
   "source": [
    "<details>\n",
    "<summary>Click this to see a second hint.</summary>\n",
    "\n",
    "The first thing you need to do is create a \"code dictionary\" where you set the key to be the letter and the value to be the positional index of the letter.\n",
    "</details>"
   ]
  },
  {
   "cell_type": "markdown",
   "id": "f3db4bca",
   "metadata": {},
   "source": [
    "<details>\n",
    "<summary>Click this to see a third hint.</summary>\n",
    "\n",
    "A `for` loop will create your dictionary. Loop over the numbers, and use the numbers to look up the letter, then insert them into an empty dictionary.\n",
    "</details>"
   ]
  },
  {
   "cell_type": "markdown",
   "id": "3a861039",
   "metadata": {},
   "source": [
    "<details>\n",
    "<summary>Click this to see a solution to the parts referenced in the second and third hints.</summary>\n",
    "\n",
    "    encoding_dict = {}\n",
    "    for n in range(0, len(alphabet_list)):\n",
    "        encoding_dict[alphabet_list[n]] = n\n",
    "</details>"
   ]
  },
  {
   "cell_type": "markdown",
   "id": "14652d8b",
   "metadata": {},
   "source": [
    "<details>\n",
    "<summary>Click this to see a hint about the next sub-topic.</summary>\n",
    "\n",
    "Once you have your code dictionary make a variable to hold the sum, and use `+=` to add values to it as you loop through the sentence.\n",
    "</details>"
   ]
  },
  {
   "cell_type": "markdown",
   "id": "3b948ed6",
   "metadata": {},
   "source": [
    "<details>\n",
    "<summary>Click this to see a hint if you're having issues with the letters.</summary>\n",
    "    \n",
    "If a letter can't be looked up it must not be lowercase. Make sure you're using `.lower()` correctly. If `letter` is the variable with the letter you need to write `letter.lower()` everywhere you want a lowercase letter.\n",
    "</details>"
   ]
  },
  {
   "cell_type": "markdown",
   "id": "36a55075",
   "metadata": {},
   "source": [
    "<details>\n",
    "<summary>Click this to see a hint if you're having issues with the numbers.</summary>\n",
    "\n",
    "`int()` and `float()` will turn your string numbers (like \"3\") into real numbers. `int()` handles integers (no decimals), `float()` handles decimals. E.g., `int(\"3.1\")` breaks, `float(\"3.1\")` is 3.1.\n",
    "</details>"
   ]
  },
  {
   "cell_type": "markdown",
   "id": "dbfe4d96",
   "metadata": {},
   "source": [
    "<details>\n",
    "<summary>Click this to see a hint if you're having issues with other characters.</summary>\n",
    "\n",
    "Try-except is magic! We can just skip spaces, commas, periods, exclamation marks, and so on. Look what error you're getting. Use `try` on your current line and then `except` your error and just `pass` if you get it.\n",
    "</details>"
   ]
  },
  {
   "cell_type": "markdown",
   "id": "0a486a4d",
   "metadata": {},
   "source": [
    "<details>\n",
    "<summary>Click this to see a full solution.</summary>\n",
    "\n",
    "\n",
    "    def encode_and_sum(sentence):\n",
    "        encoding_dict = {}\n",
    "        for n in range(0, len(alphabet_list)):\n",
    "            encoding_dict[alphabet_list[n]] = n\n",
    "        summed_sentence = 0\n",
    "        for letter in sentence:\n",
    "            if letter.lower() in alphabet_list:\n",
    "                summed_sentence += encoding_dict[letter.lower()]\n",
    "            else:\n",
    "                try:\n",
    "                    summed_sentence += int(letter)\n",
    "                except ValueError:\n",
    "                    pass\n",
    "        print(summed_sentence)\n",
    "\n",
    "    encode_and_sum('Hello world 3!')\n",
    "    \n",
    "</details>"
   ]
  }
 ],
 "metadata": {
  "kernelspec": {
   "display_name": "Python 3 (ipykernel)",
   "language": "python",
   "name": "python3"
  },
  "language_info": {
   "codemirror_mode": {
    "name": "ipython",
    "version": 3
   },
   "file_extension": ".py",
   "mimetype": "text/x-python",
   "name": "python",
   "nbconvert_exporter": "python",
   "pygments_lexer": "ipython3",
   "version": "3.11.2"
  }
 },
 "nbformat": 4,
 "nbformat_minor": 5
}
