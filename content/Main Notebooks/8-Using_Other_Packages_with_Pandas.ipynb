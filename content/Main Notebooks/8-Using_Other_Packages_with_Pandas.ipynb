{
 "cells": [
  {
   "cell_type": "markdown",
   "id": "aba1fd71-2177-4114-9c65-617f867d903e",
   "metadata": {},
   "source": [
    "# Using Other Packages with Python"
   ]
  },
  {
   "cell_type": "markdown",
   "id": "656c57a0-8591-492d-a7bb-cbb9ee1fb3bf",
   "metadata": {},
   "source": [
    "The power of Python comes in part from its extensive selection of libraries (often called packages). Pandas is one of these, but for many applications you will want to use additional packages such as numpy or scikit-learn for statistical testing or machine learning. This section will not cover all possibilities (which would make this section longer than the rest of the course) but will start assuming that you have looked up your target analysis and the word \"Python\" and found a package to use. At this point you will know something like \"I want to use the function called 'LinearRegression' in the package scikit-learn\". This module will walk you through how to figure out how to use a function, and, specifically, how to use it with Pandas.\n",
    "\n",
    "A brief note: additional, importable code in Python may be a module, a package, or a library. These are technically different, but this difference doesn't matter to you. I will refer to these as packages in this notebook because that's a fairly standard way to refer to all of the importable code you can download off the internet from the official Python package repository."
   ]
  },
  {
   "cell_type": "markdown",
   "id": "774214e0",
   "metadata": {},
   "source": [
    "### Importing Packages\n",
    "We have already imported a number of packages in our other notebooks. `random`, `numpy`, and `pandas` itself are all examples. To use a function in a package you need to import it, first. Importing the package effectively adds it to your code, and so Python doesn't import every available package by default, because that would make it slow and bulky. Instead, you tell Python which additional utilities you want. Let's start with `random`."
   ]
  },
  {
   "cell_type": "code",
   "execution_count": null,
   "id": "36e14d00",
   "metadata": {},
   "outputs": [],
   "source": [
    "import random"
   ]
  },
  {
   "cell_type": "markdown",
   "id": "39358d6e",
   "metadata": {},
   "source": [
    "Now we have all the functions of `random` available to us by writing `random`, a period, and the name of the function. `randint` takes a start and a stop and returns a random integer in that range. Let's use it."
   ]
  },
  {
   "cell_type": "code",
   "execution_count": null,
   "id": "f02879a7",
   "metadata": {},
   "outputs": [],
   "source": [
    "random.randint(1, 10)"
   ]
  },
  {
   "cell_type": "markdown",
   "id": "c8fb3636",
   "metadata": {},
   "source": [
    "There are two other import patterns you will want to recognize: `from x import y` and `import x as z`. Importing from allows us to dispense with writing the package name first. Below, we'll import `randint`."
   ]
  },
  {
   "cell_type": "code",
   "execution_count": null,
   "id": "66c6b94d",
   "metadata": {},
   "outputs": [],
   "source": [
    "from random import randint"
   ]
  },
  {
   "cell_type": "markdown",
   "id": "38c0bb64",
   "metadata": {},
   "source": [
    "We can now just use `randint` as is."
   ]
  },
  {
   "cell_type": "code",
   "execution_count": null,
   "id": "8f7ef2ab",
   "metadata": {},
   "outputs": [],
   "source": [
    "randint(1, 10)"
   ]
  },
  {
   "cell_type": "markdown",
   "id": "271f2a9a",
   "metadata": {},
   "source": [
    "However, ONLY `randint` is accessible this way. `from random import randint` did not import the whole random package, just `randint`, and so functions like `gauss` are inaccessible. (Technically, since we ran `import random` earlier, we could use `gauss` by calling `random.gauss`, but the most recent import isn't responsible for that.)\n",
    "\n",
    "You could pull in everything from `random` using `from random import *`. Don't do this.\n",
    "\n",
    "Here's why: when you run `from random import *` you get everything in random, not just the functions you want. Now imagine you also did this for numpy (`from numpy import *`). Unfortunately, numpy and random both have a function called random. So when you write `random()` do you get the behavior from `random.random()` or `numpy.random()`? The answer is that it depends what order the import statements were written in. So don't import everything. If you use the \"from x import y\" pattern to only import the specific things you want, so you can make sure you don't import two things with the same name this way.\n",
    "\n",
    "For completeness, here's how to import multiple things this way:"
   ]
  },
  {
   "cell_type": "code",
   "execution_count": null,
   "id": "ee3976a0",
   "metadata": {},
   "outputs": [],
   "source": [
    "from random import randint, gauss, random"
   ]
  },
  {
   "cell_type": "markdown",
   "id": "8eb59eaa",
   "metadata": {},
   "source": [
    "You can now use any of these functions without dot notation.\n",
    "\n",
    "#### Below, write code to use gauss to generate a random number from a gaussian distribution. The function takes two arguments, a mean and a standard deviation, in that order."
   ]
  },
  {
   "cell_type": "code",
   "execution_count": null,
   "id": "0dc9919b",
   "metadata": {},
   "outputs": [],
   "source": [
    "# your code goes here\n"
   ]
  },
  {
   "cell_type": "markdown",
   "id": "211828f0",
   "metadata": {},
   "source": [
    "The nice thing about \"from x import y\" is that it saves some typing. The \"import x as z\" can also do this. We frequently run `import pandas as pd` in our notebooks, which imports pandas but renames it to pd. It's very common to see two-letter aliases for packages. `datetime` ends up as `dt` a lot, `numpy` is almost always `np`. While there's a possibility to mess things up and choose the same two letters twice you are the one writing this, and so you can catch that error. (I recommend writing all your import statements in one code block so you can easily see these issues, and easily run them all together when you re-open a notebook.)\n",
    "\n",
    "The `zeros` function in numpy makes an array of zeros if you give it an array size argument. \n",
    "\n",
    "#### Below, write the import statement necessary to make `np.zeros((2, 1))` run, and then try it."
   ]
  },
  {
   "cell_type": "code",
   "execution_count": null,
   "id": "3cd2b627",
   "metadata": {},
   "outputs": [],
   "source": [
    "# your code goes here\n"
   ]
  },
  {
   "cell_type": "markdown",
   "id": "f65cbfcb",
   "metadata": {},
   "source": [
    "`datetime` is another useful package. Inside `datetime` we have a `datetime` class (e.g., `datetime.datetime`) with a `now` function. Calling `now` with no arguments (`now()`) prints the date and time right now. \n",
    "\n",
    "#### Below, write the code required to import the datetime library and then call the `now` function from within datetime's datetime class."
   ]
  },
  {
   "cell_type": "code",
   "execution_count": null,
   "id": "82c1d916",
   "metadata": {},
   "outputs": [],
   "source": [
    "# your code goes here\n"
   ]
  },
  {
   "cell_type": "markdown",
   "id": "0dbf1fb9",
   "metadata": {},
   "source": [
    "### Using Functions from Packages\n",
    "It's not very useful to know how to import packages if you don't know how to use the functions within. Python packages usually have a website where there will be a description of the package contents. This will sometimes be labeled as the API.\n",
    "\n",
    "Normally, a function (or function-like object) is described by describing what arguments it takes in order, then the arguments in detail, and then an example or two is given. Let's look at performing a linear regression using scikit-learn.\n",
    "\n",
    "As of the time of writing, the page describing this function is here: https://scikit-learn.org/stable/modules/generated/sklearn.linear_model.LinearRegression.html\n",
    "\n",
    "At the bottom is an example. A few lines should stick out. The first is below."
   ]
  },
  {
   "cell_type": "code",
   "execution_count": null,
   "id": "bb597ed5",
   "metadata": {},
   "outputs": [],
   "source": [
    "from sklearn.linear_model import LinearRegression"
   ]
  },
  {
   "cell_type": "markdown",
   "id": "fad2b15b",
   "metadata": {},
   "source": [
    "That is the import statement that gets the LinearRegression class into our notebook.\n",
    "\n",
    "The next lines show creating an x and a y that are, hopefully, just pandas Series for us. The next line reads:"
   ]
  },
  {
   "cell_type": "code",
   "execution_count": null,
   "id": "b92450b7",
   "metadata": {},
   "outputs": [],
   "source": [
    "reg = LinearRegression().fit(X, y)"
   ]
  },
  {
   "cell_type": "markdown",
   "id": "8dde005f",
   "metadata": {},
   "source": [
    "We haven't talked much about classes (although we have used lots of them) but LinearRegression is a class. The line above is equivalent to running `reg = LinearRegression()` (which would create the regression object) and then ` reg.fit(X, y)` which would fit the data.\n",
    "\n",
    "You can see later that `reg` (an instance of LinearRegression) has lots of methods, including `coef_`, `score`, `intercept_`, and `predict`. So we probably want to make a regression object, fit it to some data from our dataframe, and then use these methods to look at the equation.\n",
    "\n",
    "Let's try this. First, we'll need our data back."
   ]
  },
  {
   "cell_type": "code",
   "execution_count": null,
   "id": "332ed0d9",
   "metadata": {},
   "outputs": [],
   "source": [
    "import pandas as pd\n",
    "import random\n",
    "\n",
    "workout_dict = {'ID': [], 'Measurement Device': [], 'Heart Rate Max': [], 'Heart Rate Min': [], 'Heart Rate Avg': [],\n",
    "              'Duration of exercise (min)': [], 'Exercise Type': []}\n",
    "used_ids = []\n",
    "\n",
    "for x in range(0, 500):\n",
    "    id = random.randint(100000000, 999999999)\n",
    "    while id in used_ids:\n",
    "        id = random.randint(100000000, 999999999)\n",
    "    used_ids.append(id)\n",
    "    device = random.choice(['Skykandal', 'B-Wolf'])\n",
    "    mu = random.randint(65, 85)\n",
    "    min_rate = int(random.gauss(mu, 10))\n",
    "    max_rate = int(random.gauss(mu + 55, 25))\n",
    "    while max_rate <= min_rate:\n",
    "        max_rate = int(random.gauss(mu + 55, 25))\n",
    "    avg = random.gauss((max_rate + min_rate) / 2, (max_rate - min_rate) / 5)\n",
    "    duration = random.randint(10, 90)\n",
    "    exercise = random.choice(['Running', 'Running', 'Running', 'Bicycling', 'Swimming', 'Swimming',\n",
    "                              'Weight training'])\n",
    "    row = [device, min_rate, max_rate, avg, duration, exercise]\n",
    "    workout_dict['ID'].append(id)\n",
    "    workout_dict['Measurement Device'].append(row[0])\n",
    "    workout_dict['Heart Rate Min'].append(row[1])\n",
    "    workout_dict['Heart Rate Max'].append(row[2])\n",
    "    workout_dict['Heart Rate Avg'].append(row[3])\n",
    "    workout_dict['Duration of exercise (min)'].append(row[4])\n",
    "    workout_dict['Exercise Type'].append(row[5])\n",
    "\n",
    "df = pd.DataFrame(workout_dict)\n",
    "df.head(10)"
   ]
  },
  {
   "cell_type": "markdown",
   "id": "60f181c9",
   "metadata": {},
   "source": [
    "Let's try to make a regression linking Heart Rate Max and Heart Rate Avg. Those should be related.\n",
    "\n",
    "What I'm going to do is copy all the lines up through the line that fits the regression, but change the X and y variable to be columns from out dataframe. (I also dropped their comment line out, but added one of my own.)"
   ]
  },
  {
   "cell_type": "code",
   "execution_count": null,
   "id": "6a3f01e2",
   "metadata": {},
   "outputs": [],
   "source": [
    "import numpy as np\n",
    "from sklearn.linear_model import LinearRegression\n",
    "# the next two lines are where I replace the text they had so that X and y become my columns\n",
    "X = df['Heart Rate Max']\n",
    "y = df['Heart Rate Avg']\n",
    "reg = LinearRegression().fit(X, y)"
   ]
  },
  {
   "cell_type": "markdown",
   "id": "7c80b469",
   "metadata": {},
   "source": [
    "If you run that it doesn't work. The last line of the error output says \"Reshape your data either using array.reshape(-1, 1)...\" so let's try that."
   ]
  },
  {
   "cell_type": "code",
   "execution_count": null,
   "id": "f377d0fd",
   "metadata": {},
   "outputs": [],
   "source": [
    "# these lines are where we think the problem began\n",
    "X = df['Heart Rate Max'].reshape(-1, 1)\n",
    "y = df['Heart Rate Avg'].reshape(-1, 1)\n",
    "reg = LinearRegression().fit(X, y)"
   ]
  },
  {
   "cell_type": "markdown",
   "id": "37eec2e2",
   "metadata": {},
   "source": [
    "This fails with `'Series' object has no attribute 'reshape'`. (There are a lot of errors. This is not unusual when you are figuring things out from scratch.)\n",
    "\n",
    "However, this seems straighforward: `reshape` is an array method, and these are Series. A quick internet search for turning things into numpy arrays reveals that there's a numpy function called `asarray` that does exactly this. Since we have already imported numpy as np we can try this as well."
   ]
  },
  {
   "cell_type": "code",
   "execution_count": null,
   "id": "a6c9dcf2",
   "metadata": {},
   "outputs": [],
   "source": [
    "X = np.asarray(df['Heart Rate Max']).reshape(-1, 1)\n",
    "y = np.asarray(df['Heart Rate Avg']).reshape(-1, 1)\n",
    "reg = LinearRegression().fit(X, y)"
   ]
  },
  {
   "cell_type": "markdown",
   "id": "483d288a",
   "metadata": {},
   "source": [
    "This works, although what it does is unclear since nothing prints.\n",
    "\n",
    "However, it doesn't take much imagination (or scrolling around on the documentation page) to see that `coef_` gives us the fitted coefficients and `intercept_` gives us the y-intercept."
   ]
  },
  {
   "cell_type": "code",
   "execution_count": null,
   "id": "08861b6d",
   "metadata": {},
   "outputs": [],
   "source": [
    "reg.coef_"
   ]
  },
  {
   "cell_type": "code",
   "execution_count": null,
   "id": "18bccd84",
   "metadata": {},
   "outputs": [],
   "source": [
    "reg.intercept_"
   ]
  },
  {
   "cell_type": "markdown",
   "id": "0033cf41",
   "metadata": {},
   "source": [
    "We can also get an R<sup>2</sup> value using `score`, which is a method requiring the X and y variables again."
   ]
  },
  {
   "cell_type": "code",
   "execution_count": null,
   "id": "6d222aaf",
   "metadata": {},
   "outputs": [],
   "source": [
    "reg.score(X, y)"
   ]
  },
  {
   "cell_type": "markdown",
   "id": "4f0b0e19",
   "metadata": {},
   "source": [
    "#### Below, run a regression linking Heart Rate Min to Heart Rate Max."
   ]
  },
  {
   "cell_type": "code",
   "execution_count": null,
   "id": "c64d76e9",
   "metadata": {},
   "outputs": [],
   "source": [
    "# your code goes here\n"
   ]
  },
  {
   "cell_type": "markdown",
   "id": "8f8b1954",
   "metadata": {},
   "source": [
    "Let's try to graph our regression line from scikit-learn. We can do this in matplotlib. One advantage of matplotlib is that we can overlay multiple elements, so we can graph the regression line and the scatterplot data on the same graph. Let's try to use matplotlib.pyplot.scatter, which [appears](https://matplotlib.org/stable/api/_as_gen/matplotlib.pyplot.scatter.html) to take only two required arguments (x and y data) to make a scatterplot. I'll be importing matplotlib.pyplot as plt, because I think we'll need more than just scatter from that package."
   ]
  },
  {
   "cell_type": "code",
   "execution_count": null,
   "id": "1cb36c76",
   "metadata": {},
   "outputs": [],
   "source": [
    "import matplotlib.pyplot as plt\n",
    "\n",
    "plt.scatter(df['Heart Rate Max'], df['Heart Rate Avg'])"
   ]
  },
  {
   "cell_type": "markdown",
   "id": "e295a507",
   "metadata": {},
   "source": [
    "Great! That was pretty easy. Can we graph the regression line?\n",
    "\n",
    "If you click around enough on the side menu, or use a search engine (recommended) you'll find that matplotlib.pyplot.plot makes lines. Let's try to graph the predicted line from our regression model (named reg).\n",
    "\n",
    "`matplotlib.pyplot.plot` takes two required arguments, and X and a Y variable."
   ]
  },
  {
   "cell_type": "code",
   "execution_count": null,
   "id": "2ffdcc94",
   "metadata": {},
   "outputs": [],
   "source": [
    "plt.plot(X, reg.predict(X))"
   ]
  },
  {
   "cell_type": "markdown",
   "id": "eb292127",
   "metadata": {},
   "source": [
    "This works, but how do we get them on the same plot?\n",
    "\n",
    "Partway through the page about `plot` there's a question about plotting multiple data sets. The answer begins, \"The most straight forward way is just to call plot multiple times\".\n",
    "\n",
    "Since the worst that will happen is that it doesn't work let's try that. We'll just write both our graph-generating lines in the same code cell."
   ]
  },
  {
   "cell_type": "code",
   "execution_count": null,
   "id": "f16f0f9f",
   "metadata": {},
   "outputs": [],
   "source": [
    "plt.scatter(df['Heart Rate Max'], df['Heart Rate Avg'])\n",
    "plt.plot(X, reg.predict(X))"
   ]
  },
  {
   "cell_type": "markdown",
   "id": "a1f673f5",
   "metadata": {},
   "source": [
    "And it works! With minimal effort!\n",
    "\n",
    "#### Unfortunately, the color of the line is hard to see. Change it."
   ]
  },
  {
   "cell_type": "code",
   "execution_count": null,
   "id": "070705b0",
   "metadata": {},
   "outputs": [],
   "source": [
    "# your code goes here\n"
   ]
  },
  {
   "cell_type": "markdown",
   "id": "4941ea28",
   "metadata": {},
   "source": [
    "#### Additionally, the graph starts somewhere near (60, 60), not (0, 0). Fix that, too."
   ]
  },
  {
   "cell_type": "code",
   "execution_count": null,
   "id": "d54c3754",
   "metadata": {},
   "outputs": [],
   "source": [
    "# your code goes here\n"
   ]
  },
  {
   "cell_type": "markdown",
   "id": "a34cf806",
   "metadata": {},
   "source": [
    "Our original regression didn't give us a p-value. It's not present for the scikit-learn. That is a function one can get from scipy.stats.linregress.\n",
    "\n",
    "#### Below, replicate our regression using scipy.stats.linregress and get a p-value."
   ]
  },
  {
   "cell_type": "code",
   "execution_count": null,
   "id": "36164dc3",
   "metadata": {},
   "outputs": [],
   "source": [
    "# your code goes here\n"
   ]
  },
  {
   "cell_type": "markdown",
   "id": "0832df30",
   "metadata": {},
   "source": [
    "And that's it! The last unit will be inside All of Us."
   ]
  }
 ],
 "metadata": {
  "kernelspec": {
   "display_name": "Python 3 (ipykernel)",
   "language": "python",
   "name": "python3"
  },
  "language_info": {
   "codemirror_mode": {
    "name": "ipython",
    "version": 3
   },
   "file_extension": ".py",
   "mimetype": "text/x-python",
   "name": "python",
   "nbconvert_exporter": "python",
   "pygments_lexer": "ipython3",
   "version": "3.11.2"
  }
 },
 "nbformat": 4,
 "nbformat_minor": 5
}
