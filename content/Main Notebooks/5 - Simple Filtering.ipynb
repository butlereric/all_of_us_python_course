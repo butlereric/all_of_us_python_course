{
 "cells": [
  {
   "cell_type": "markdown",
   "id": "9cfc7798-7a76-4e2f-832a-e392922f72a7",
   "metadata": {},
   "source": [
    "# Simple Filtering"
   ]
  },
  {
   "cell_type": "markdown",
   "id": "2dcf59d1-7cb6-455f-a523-f4465feb78e7",
   "metadata": {},
   "source": [
    "In this section we will discuss filtering data. Filtering data is important, as All of Us will not always do this for you initially, and often in analysis you need to filter by subsets anyway. Filtering can get complex, so this section is split into two notebooks. This one covers simple filters, while the next one covers creating new data labels that one can then filter on."
   ]
  },
  {
   "cell_type": "markdown",
   "id": "1f4ab0eb",
   "metadata": {},
   "source": [
    "### Filtering Using Mathematical Operators\n",
    "To get started with filtering we need a dataset. The code below will make a dataframe for us. In fact, it will be the same dataframe as last notebook, but without random blank cells."
   ]
  },
  {
   "cell_type": "code",
   "execution_count": null,
   "id": "646c5023",
   "metadata": {},
   "outputs": [],
   "source": [
    "import pandas as pd\n",
    "import random\n",
    "\n",
    "workout_dict = {'ID': [], 'Measurement Device': [], 'Heart Rate Max': [], 'Heart Rate Min': [], 'Heart Rate Avg': [],\n",
    "              'Duration of exercise (min)': [], 'Exercise Type': []}\n",
    "used_ids = []\n",
    "\n",
    "for x in range(0, 500):\n",
    "    id = random.randint(100000000, 999999999)\n",
    "    while id in used_ids:\n",
    "        id = random.randint(100000000, 999999999)\n",
    "    used_ids.append(id)\n",
    "    device = random.choice(['Skykandal', 'B-Wolf'])\n",
    "    mu = random.randint(65, 85)\n",
    "    min_rate = int(random.gauss(mu, 10))\n",
    "    max_rate = int(random.gauss(mu + 55, 25))\n",
    "    while max_rate <= min_rate:\n",
    "        max_rate = int(random.gauss(mu + 55, 25))\n",
    "    avg = random.gauss((max_rate + min_rate) / 2, (max_rate - min_rate) / 5)\n",
    "    duration = random.randint(10, 90)\n",
    "    exercise = random.choice(['Running', 'Running', 'Running', 'Bicycling', 'Swimming', 'Swimming',\n",
    "                              'Weight training'])\n",
    "    row = [device, min_rate, max_rate, avg, duration, exercise]\n",
    "    workout_dict['ID'].append(id)\n",
    "    workout_dict['Measurement Device'].append(row[0])\n",
    "    workout_dict['Heart Rate Min'].append(row[1])\n",
    "    workout_dict['Heart Rate Max'].append(row[2])\n",
    "    workout_dict['Heart Rate Avg'].append(row[3])\n",
    "    workout_dict['Duration of exercise (min)'].append(row[4])\n",
    "    workout_dict['Exercise Type'].append(row[5])\n",
    "\n",
    "df = pd.DataFrame(workout_dict)\n",
    "df.head(10)"
   ]
  },
  {
   "cell_type": "markdown",
   "id": "ea5c5888",
   "metadata": {},
   "source": [
    "Let's start with a simple filter: we'll filter out everyone whose minimum heart rate is under 70. (We could also say that we'll filter for everyone whose heart rate is above 69.)"
   ]
  },
  {
   "cell_type": "code",
   "execution_count": null,
   "id": "fb45fc7d",
   "metadata": {},
   "outputs": [],
   "source": [
    "df[df['Heart Rate Min'] > 69]"
   ]
  },
  {
   "cell_type": "markdown",
   "id": "2013974c",
   "metadata": {},
   "source": [
    "How does this work? Well, we start with `df[]` which is a common way to get something out of dataframe `df` using keywords. Except, instead of passing something like a column name, we passed an expression into the brackets. The expression was `df['Heart Rate Min'] > 69'`. In other words, from df give me every row where Heart Rate Min (in df) is greater than 69.\n",
    "\n",
    "Now, let's get one of the most annoying features of pandas out of the way. We're going to store our filtered data in df_filtered and then, for no good reason, change a column."
   ]
  },
  {
   "cell_type": "code",
   "execution_count": null,
   "id": "efb67427",
   "metadata": {},
   "outputs": [],
   "source": [
    "df_filtered = df[df['Heart Rate Min'] > 69]\n",
    "df_filtered['Heart Rate Avg'] = 200\n",
    "df_filtered.head()"
   ]
  },
  {
   "cell_type": "markdown",
   "id": "45e3f9fc",
   "metadata": {},
   "source": [
    "Above you should have gotten a `SettingWithCopyWarning`. You might have assumed that when you assigned `df[df['Age'] > 29]` to `df_filtered` you created an entirely new dataframe, named df_filtered. You didn't. You created a \"view\" of the old dataframe (df) that only saw the parts of df that you wanted, but wasn't actually a new dataframe. This means that attempting to set a value in df_filtered may also alter values in df. And so we get a warning.\n",
    "\n",
    "When you get a view and when you get a new pandas object is fairly complicated. However, there is a simple fix: `copy` can turn a view into a copy. Copy is a dataframe method, and takes no arguments.\n",
    "\n",
    "Below, the code has added `copy()` and what previously gave us a warning now won't."
   ]
  },
  {
   "cell_type": "code",
   "execution_count": null,
   "id": "8358aa8b",
   "metadata": {},
   "outputs": [],
   "source": [
    "df_filtered = df[df['Heart Rate Min'] > 69].copy()\n",
    "df_filtered['Heart Rate Avg'] = 200\n",
    "df_filtered.head()"
   ]
  },
  {
   "cell_type": "markdown",
   "id": "e9e8c640",
   "metadata": {},
   "source": [
    "Filtering expressions recognize a number of comparison operators: >, <, <=, >=, ==, and !=. Remember that in Python = means \"set the thing on the left side of the = equal to the thing on the right side of the =\", whereas == asks if they are equal. != means \"not equal\".\n",
    "\n",
    "These are fairly straightforward when we are dealing with numbers. \n",
    "#### Below, write some code that filters df so that only individuals with a maximum heart rate of 110 or under remain."
   ]
  },
  {
   "cell_type": "code",
   "execution_count": null,
   "id": "8775c6c4",
   "metadata": {},
   "outputs": [],
   "source": [
    "# your code goes here\n"
   ]
  },
  {
   "cell_type": "markdown",
   "id": "7cdc268d",
   "metadata": {},
   "source": [
    "You can also use some of these, like == and != to filter on text columns. Below, we'll just select the individuals who went running."
   ]
  },
  {
   "cell_type": "code",
   "execution_count": null,
   "id": "678b6cc2",
   "metadata": {},
   "outputs": [],
   "source": [
    "df[df['Exercise Type'] == 'Running']"
   ]
  },
  {
   "cell_type": "markdown",
   "id": "ba683504",
   "metadata": {},
   "source": [
    "We could also exclude people who went running using ~. This means \"not\", and it's generally good practice (i.e., it will sometimes break if you don't do this) to wrap the expression you are negating in parentheses, as below."
   ]
  },
  {
   "cell_type": "code",
   "execution_count": null,
   "id": "87fd595a",
   "metadata": {},
   "outputs": [],
   "source": [
    "df[~(df['Exercise Type'] == 'Running')]"
   ]
  },
  {
   "cell_type": "markdown",
   "id": "2255ede9",
   "metadata": {},
   "source": [
    "What happens if we use a > or < symbol?"
   ]
  },
  {
   "cell_type": "code",
   "execution_count": null,
   "id": "15faae3c",
   "metadata": {},
   "outputs": [],
   "source": [
    "df[df['Exercise Type'] < 'Running']"
   ]
  },
  {
   "cell_type": "markdown",
   "id": "f3bb60dc",
   "metadata": {},
   "source": [
    "`< 'Running'` gives us only bicyclists, because > and < on text check alphabetization. < 'Running' gave us every label that is, when alphabetized, earlier than \"Running\". This behavior is rarely useful, and this is mostly a warning that these operators will do something if used, but probably not what you want.\n",
    "\n",
    "#### Below, write code that returns only people using the B-Wolf measuring device. Do this two different ways. To make it easier to see that each way worked there are separate cells for each way."
   ]
  },
  {
   "cell_type": "code",
   "execution_count": null,
   "id": "d3fda898",
   "metadata": {},
   "outputs": [],
   "source": [
    "# your code goes here for the first way\n"
   ]
  },
  {
   "cell_type": "code",
   "execution_count": null,
   "id": "04bda6c0",
   "metadata": {},
   "outputs": [],
   "source": [
    "# the second way goes here\n"
   ]
  },
  {
   "cell_type": "markdown",
   "id": "ac8b6833",
   "metadata": {},
   "source": [
    "What if we wanted to filter based on the relationship between two columns? We can pass more complex expressions to the filter as well. The filter below will only return individuals whose maximum heart rate is within 20 beats of their minimum heart rate."
   ]
  },
  {
   "cell_type": "code",
   "execution_count": null,
   "id": "07d5a8d4",
   "metadata": {},
   "outputs": [],
   "source": [
    "df[(df['Heart Rate Max'] - df['Heart Rate Min']) <= 20]"
   ]
  },
  {
   "cell_type": "markdown",
   "id": "af22f95b",
   "metadata": {},
   "source": [
    "#### Below, write code that returns everyone whose average heart rate was less than the number you would get by averaging the maximum and minimum heart rates. It's easy to miss parentheses and brackets when writing something this long, so I suggest that you write in your parentheses/brackets first, and then fill them in."
   ]
  },
  {
   "cell_type": "code",
   "execution_count": null,
   "id": "b072e106",
   "metadata": {},
   "outputs": [],
   "source": [
    "# your code goes here\n"
   ]
  },
  {
   "cell_type": "markdown",
   "id": "f724dd98",
   "metadata": {},
   "source": [
    "### Filtering Using isin()\n",
    "The filtering tools above work fine for text columns where we want only one value, but what if we want more than one value? The `isin` method is our answer."
   ]
  },
  {
   "cell_type": "code",
   "execution_count": null,
   "id": "aaf4a23a",
   "metadata": {},
   "outputs": [],
   "source": [
    "df[df['Exercise Type'].isin(['Running', 'Swimming'])]"
   ]
  },
  {
   "cell_type": "markdown",
   "id": "f25c2cd4",
   "metadata": {},
   "source": [
    "The `isin` method is very similar to the basic Python `in`. It simply checks to see if something is in an iterable that you provide. In this case we simply passed the list `['Running', 'Swimming']` to `isin` and got back every row where the value in the Condition column was in the list.\n",
    "\n",
    "If we had a lot of categories and we wanted to get most, but not all, of them we could in theory use `isin` and write a long list of categories to be included. However, it would be nicer to exclude the small list. Thankfully, ~ works for `isin` just like it did for mathematical expressions\n",
    "\n",
    "See below for usage."
   ]
  },
  {
   "cell_type": "code",
   "execution_count": null,
   "id": "6208b0d4",
   "metadata": {},
   "outputs": [],
   "source": [
    "df[~df['Exercise Type'].isin(['Running', 'Swimming'])]"
   ]
  },
  {
   "cell_type": "markdown",
   "id": "ef312662",
   "metadata": {},
   "source": [
    "While you might be tempted to try and write `df.~isin` Python interprets that as nonsense. In reality. `df.isin` is creating a dataframe full of `True` and `False`, and we're asking for that frame to be flipped, so every `True` is a `False` and vice-versa.\n",
    "\n",
    "#### For a bit of quick practice, make a filter that returns everyone who wasn't bicycling or running."
   ]
  },
  {
   "cell_type": "code",
   "execution_count": null,
   "id": "29347649",
   "metadata": {},
   "outputs": [],
   "source": [
    "# your code goes here\n"
   ]
  },
  {
   "cell_type": "markdown",
   "id": "8162886c",
   "metadata": {},
   "source": [
    "### Chaining Filters\n",
    "Now, we could combine filters by chaining filters together in the following manner:"
   ]
  },
  {
   "cell_type": "code",
   "execution_count": null,
   "id": "9e75df86",
   "metadata": {},
   "outputs": [],
   "source": [
    "temp_df = df[df['Heart Rate Min'] > 80]\n",
    "temp_df[temp_df['Measurement Device'] == 'Skykandal']"
   ]
  },
  {
   "cell_type": "markdown",
   "id": "a5f87365",
   "metadata": {},
   "source": [
    "However, this is ugly and requires the creation of potentially a large number of temporary dataframes that exist only to hold intermediate steps. We could do the same thing a different way: write each expression in parentheses and then connect them together.\n",
    "\n",
    "Below is the same result as above but in one line."
   ]
  },
  {
   "cell_type": "code",
   "execution_count": null,
   "id": "2d7d8d7f",
   "metadata": {},
   "outputs": [],
   "source": [
    "df[(df['Heart Rate Min'] > 80) & (df['Measurement Device'] == 'Skykandal')]"
   ]
  },
  {
   "cell_type": "markdown",
   "id": "f5ba8823",
   "metadata": {},
   "source": [
    "All we've done here is connect two expressions we already understand with &. Python evaluates each expression (`df['Heart Rate Min'] > 80` and `df['Measurement Device'] == 'Skykandal'`) separately. If they both evaluate to True then the whole statement evaluates to True.\n",
    "\n",
    "#### Write some code below that filters for all people who were swimming and spent more than 60 minutes doing so."
   ]
  },
  {
   "cell_type": "code",
   "execution_count": null,
   "id": "987665b1",
   "metadata": {},
   "outputs": [],
   "source": [
    "# your code goes here\n"
   ]
  },
  {
   "cell_type": "markdown",
   "id": "b4706e46",
   "metadata": {},
   "source": [
    "There are other ways to connect expressions. & handles \"and\", meaning both parts have to be true. | (which you can generally type as Shift+\\) means \"or\", meaning at least one of the parts has to be true.\n",
    "\n",
    "We could express this like so:\n",
    "True & True = True\n",
    "False & True = False\n",
    "False | True = True\n",
    "True | True = True\n",
    "\n",
    "Between &, |, and ~ you can build some fairly complex expressions, especially since you can connect blocks inside parentheses with other blocks.\n",
    "\n",
    "The code block below filters for everyone with an average heart rate of 120-130 or 140-150. Visually, the line is broken at the | so you can more easily see the two halves."
   ]
  },
  {
   "cell_type": "code",
   "execution_count": null,
   "id": "c55e6a77",
   "metadata": {},
   "outputs": [],
   "source": [
    "df[((df['Heart Rate Avg']>= 120) & (df['Heart Rate Avg'] <= 130)) | \n",
    "   ((df['Heart Rate Avg'] >= 140) & (df['Heart Rate Avg'] <= 150))]"
   ]
  },
  {
   "cell_type": "markdown",
   "id": "5a9946f6",
   "metadata": {},
   "source": [
    "There's more than one way to do this. The code block below will give the same results as the one above. Spend a minute looking at it until you can tell why. It may help to think about both filters in chunks in pieces (both filters are two sets of two linked expressions)."
   ]
  },
  {
   "cell_type": "code",
   "execution_count": null,
   "id": "04af82f1",
   "metadata": {},
   "outputs": [],
   "source": [
    "df[~((df['Heart Rate Avg'] < 120) | (df['Heart Rate Avg'] > 150)) &\n",
    "   ~((df['Heart Rate Avg'] > 130) & (df['Heart Rate Avg'] < 140))]"
   ]
  },
  {
   "cell_type": "markdown",
   "id": "e41d620e",
   "metadata": {},
   "source": [
    "Remember how I said that making intermediate data frames is bad practice? When the expression gets complicated enough you sometimes need to do so for debugging purposes. However, you can potentially build extremely powerful filters this way.\n",
    "\n",
    "#### Below, write code that filters for people who went running or swimming while using the B-Wolf device OR who went bicycling using Starkandal, and have an average heart rate below the number you get by averaging their maximum and minimum heart rates together."
   ]
  },
  {
   "cell_type": "code",
   "execution_count": null,
   "id": "621e9a1b",
   "metadata": {},
   "outputs": [],
   "source": [
    "# your code goes here\n"
   ]
  },
  {
   "cell_type": "markdown",
   "id": "1c553223",
   "metadata": {},
   "source": [
    "At this point you may be thinking, \"Wow, I wish I could write a function, pass all of these rows to that function, evaluate the row there, and then just return a True/False label I could filter against.\"\n",
    "\n",
    "That's a great idea! We'll cover it in the next notebook."
   ]
  }
 ],
 "metadata": {
  "kernelspec": {
   "display_name": "Python 3 (ipykernel)",
   "language": "python",
   "name": "python3"
  },
  "language_info": {
   "codemirror_mode": {
    "name": "ipython",
    "version": 3
   },
   "file_extension": ".py",
   "mimetype": "text/x-python",
   "name": "python",
   "nbconvert_exporter": "python",
   "pygments_lexer": "ipython3",
   "version": "3.11.2"
  }
 },
 "nbformat": 4,
 "nbformat_minor": 5
}
