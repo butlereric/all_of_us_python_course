{
 "cells": [
  {
   "cell_type": "markdown",
   "id": "faf2df04-dd54-4be0-9da0-dc36435e70a4",
   "metadata": {},
   "source": [
    "# Summary Statistics"
   ]
  },
  {
   "cell_type": "markdown",
   "id": "74d3f00a-5177-4b38-8795-15a7ea143b86",
   "metadata": {},
   "source": [
    "In any data set some of the earliest questions are about summary statistics. What is the mean of these data? What is the range? This section will walk you through obtaining these basic summaries.\n",
    "\n",
    "As always, let's start by getting our dataframe loaded. For reasons that will become clear later, this version of our dataframe does have blank cells in it."
   ]
  },
  {
   "cell_type": "code",
   "execution_count": null,
   "id": "499756be",
   "metadata": {},
   "outputs": [],
   "source": [
    "import pandas as pd\n",
    "import numpy as np\n",
    "import random\n",
    "\n",
    "workout_dict = {'ID': [], 'Measurement Device': [], 'Heart Rate Max': [], 'Heart Rate Min': [], 'Heart Rate Avg': [],\n",
    "              'Duration of exercise (min)': [], 'Exercise Type': []}\n",
    "used_ids = []\n",
    "\n",
    "for x in range(0, 500):\n",
    "    id = str(random.randint(100000000, 999999999))\n",
    "    while id in used_ids:\n",
    "        id = random.randint(100000000, 999999999)\n",
    "    used_ids.append(id)\n",
    "    device = random.choice(['Skykandal', 'B-Wolf'])\n",
    "    exercise = random.choice(['Running', 'Running', 'Running', 'Bicycling', 'Swimming', 'Swimming',\n",
    "                              'Weight training'])\n",
    "    mu = random.randint(65, 85)\n",
    "    if device == 'Skykandal':\n",
    "        mu += 2\n",
    "    if exercise == 'Weight training':\n",
    "        mu -= 5\n",
    "    elif exercise == 'Running':\n",
    "        mu += 10\n",
    "    min_rate = int(random.gauss(mu, 10))\n",
    "    max_rate = int(random.gauss(mu + 55, 25))\n",
    "    while max_rate <= min_rate:\n",
    "        max_rate = int(random.gauss(mu + 55, 25))\n",
    "    avg = random.gauss((max_rate + min_rate) / 2, (max_rate - min_rate) / 5)\n",
    "    duration = random.randint(10, 90)\n",
    "    row = [device, min_rate, max_rate, avg, duration, exercise]\n",
    "    # make blank cells, always make a blank on row 3 where we can see it\n",
    "    if x == 2 or random.randint(0, 5) == 0:\n",
    "        i = random.randint(0, 5)\n",
    "        row.pop(i)\n",
    "        row.insert(i, np.nan)\n",
    "        # chance that more cells will be blank\n",
    "        additional_blank = random.randint(0, 5)\n",
    "        while additional_blank == 0:\n",
    "            i = random.randint(0, 5)\n",
    "            row.pop(i)\n",
    "            row.insert(i, np.nan)\n",
    "            additional_blank = random.randint(0, 3)\n",
    "    workout_dict['ID'].append(str(id))\n",
    "    workout_dict['Measurement Device'].append(row[0])\n",
    "    workout_dict['Heart Rate Min'].append(row[1])\n",
    "    workout_dict['Heart Rate Max'].append(row[2])\n",
    "    workout_dict['Heart Rate Avg'].append(row[3])\n",
    "    workout_dict['Duration of exercise (min)'].append(row[4])\n",
    "    workout_dict['Exercise Type'].append(row[5])\n",
    "\n",
    "df = pd.DataFrame(workout_dict)\n",
    "df.head()"
   ]
  },
  {
   "cell_type": "markdown",
   "id": "2a70ab57",
   "metadata": {},
   "source": [
    "### Averages\n",
    "One of the simplest summary statistics we could ask for is an average. Pandas supports means, medians, and modes, all with pretty much the same format. Below is code that gets, and then prints, the mean, median, and mode for Heart Rate Min. (Mode can have more than one average.)"
   ]
  },
  {
   "cell_type": "code",
   "execution_count": null,
   "id": "cc8808cd",
   "metadata": {},
   "outputs": [],
   "source": [
    "min_mean = df['Heart Rate Min'].mean()\n",
    "min_median = df['Heart Rate Min'].median()\n",
    "min_mode = df['Heart Rate Min'].mode()\n",
    "\n",
    "print('Mean', min_mean)\n",
    "print('Median', min_median)\n",
    "print('Mode', min_mode)"
   ]
  },
  {
   "cell_type": "markdown",
   "id": "7dccf1a6",
   "metadata": {},
   "source": [
    "As you can see, each method is just the name of the average type.\n",
    "\n",
    "These can also be applied across entire dataframes. In this case we should specify the argument numeric_only to True if we want to only get averages from numeric columns. In the case of `mode` one could get an average from a text column, but generally we don't want to try."
   ]
  },
  {
   "cell_type": "code",
   "execution_count": null,
   "id": "4a9f8eb5",
   "metadata": {},
   "outputs": [],
   "source": [
    "df.median(numeric_only=True)"
   ]
  },
  {
   "cell_type": "markdown",
   "id": "c97e0a56",
   "metadata": {},
   "source": [
    "#### In the cell below, write code that calculates the mean average of the columns Heart Rate Max and Heart Rate Avg."
   ]
  },
  {
   "cell_type": "code",
   "execution_count": null,
   "id": "a2da476b",
   "metadata": {},
   "outputs": [],
   "source": [
    "# your code goes here\n"
   ]
  },
  {
   "cell_type": "markdown",
   "id": "3f789b7f",
   "metadata": {},
   "source": [
    "### Grouping with Groupby\n",
    "Averages are nice, but they become a lot more powerful when we can take subgroup averages easily. We could, of course, filter our sets repeatedly and get averages that way. Below is code that prints out the average (mean) Heart Rate Max for each device."
   ]
  },
  {
   "cell_type": "code",
   "execution_count": null,
   "id": "e522cac3",
   "metadata": {},
   "outputs": [],
   "source": [
    "print('Device: B-Wolf', df[df['Measurement Device'] == 'B-Wolf']['Heart Rate Max'].mean())\n",
    "print('Device: Skykandal', df[df['Measurement Device'] == 'Skykandal']['Heart Rate Max'].mean())"
   ]
  },
  {
   "cell_type": "markdown",
   "id": "bbae1641",
   "metadata": {},
   "source": [
    "This isn't ideal. We need two lines of code, one for each group, which means we would need four lines of code to handle Exercise Type, and potentially many more in a real data set. Each line is also a large, nested composite of things which could be fairly hard to read, and, therefore, debug.\n",
    "\n",
    "(The nested structure works like this, if you are having difficulty with it. First, there's a `print` which is printing the label text and an average. The average is, effectively, `something['Heart Rate Max'].mean()` which should be recognizable as the method to get the mean of a column. `something` in this case would be `df[df['Measurement Device'] == 'Skykandal']`, a filter that returns only rows in df where the measurement device was Skykandal.)\n",
    "\n",
    "Thankfully, pandas has a pattern to do this whole process better and more efficiently. This is `groupby`, a method of a dataframe. To get the means for Heart Rate Max for each device we can simply use the code below."
   ]
  },
  {
   "cell_type": "code",
   "execution_count": null,
   "id": "5911c35d",
   "metadata": {},
   "outputs": [],
   "source": [
    "df.groupby('Measurement Device')['Heart Rate Max'].mean()"
   ]
  },
  {
   "cell_type": "markdown",
   "id": "c91d9240",
   "metadata": {},
   "source": [
    "The order of things is important here. Starting on the left we first group df by our variable (Measurement Device). Then we ask for a column (Heart Rate Max) from that grouped object. Finally, we ask for a mean from that column. You may find yourself tempted to write something like `df['Heart Rate Max'].groupby('Measurement Device').mean()` but that won't work, because in that call you remove the column Measurement Device and then try to groupby off of it. So group first, then ask for columns (if you want specific ones), and then ask for an average.\n",
    "\n",
    "#### Below, write code that gives us the median for the Heart Rate Max for each group when grouped by exercise type."
   ]
  },
  {
   "cell_type": "code",
   "execution_count": null,
   "id": "0f1df041",
   "metadata": {},
   "outputs": [],
   "source": [
    "# your code goes here\n"
   ]
  },
  {
   "cell_type": "markdown",
   "id": "614fbc74",
   "metadata": {},
   "source": [
    "Of course, there's no reason you need to restrict yourself to a single column. Often you'll want something like the means of all numeric columns after grouping to help look for trends.\n",
    "\n",
    "#### Below, write code that gives us the mean of all numeric columns given after grouping by exercise type."
   ]
  },
  {
   "cell_type": "code",
   "execution_count": null,
   "id": "2c0ee0e6",
   "metadata": {},
   "outputs": [],
   "source": [
    "# your code goes here\n"
   ]
  },
  {
   "cell_type": "markdown",
   "id": "9c7b27f0",
   "metadata": {},
   "source": [
    "We can group by more than one variable as well. This is fairly simple: we just pass a list of columns to groupby. (This should look familiar, since it's very similar to how we filter for multiple columns or access multiple columns.)\n",
    "\n",
    "Below we have code that groups by both of our text variables and takes means for every numeric column."
   ]
  },
  {
   "cell_type": "code",
   "execution_count": null,
   "id": "e904f5d3",
   "metadata": {},
   "outputs": [],
   "source": [
    "df.groupby(['Measurement Device', 'Exercise Type']).mean(numeric_only=True)"
   ]
  },
  {
   "cell_type": "markdown",
   "id": "48339303",
   "metadata": {},
   "source": [
    "You will notice that as these outputs get more complicated they also print like dataframes, which is convenient.\n",
    "\n",
    "We can even pass filtering expressions to `groupby` and effectively create columns and filter on them all at once. Below, we are creating a True/False column based on whether the maximum heart rate is above or below 100, and then getting the mean of the average heart rate for those groups."
   ]
  },
  {
   "cell_type": "code",
   "execution_count": null,
   "id": "703a71e0",
   "metadata": {},
   "outputs": [],
   "source": [
    "df.groupby(df['Heart Rate Max'] > 100)['Heart Rate Avg'].mean()"
   ]
  },
  {
   "cell_type": "markdown",
   "id": "23de7498",
   "metadata": {},
   "source": [
    "#### Here's a nice bit of practice putting several pieces together. Write code that gives us the mean for Heart Rate Avg for data that has been grouped by two variables: the existing variable Exercise Type and a new, calculated, variable that compares Heart Rate Max and Heart Rate Min and categorizes them as being within 40 bpm of each other, between 40 and 60 bpm of each other, or more than 60 bpm apart.\n",
    "\n",
    "I would use an `apply` to make my second group, but there are other ways to do this. If you are struggling, use `print` or `head` to verify each piece so you can see where the issue is occuring."
   ]
  },
  {
   "cell_type": "code",
   "execution_count": null,
   "id": "279cbb82",
   "metadata": {},
   "outputs": [],
   "source": [
    "# your code goes here\n"
   ]
  },
  {
   "cell_type": "markdown",
   "id": "9d6e3cb3",
   "metadata": {},
   "source": [
    "### Determining sub-sample sizes\n",
    "If we are going to be grouping data we often need to see how many samples we have in these smaller groups. This is where `count` comes in. `count` is a dataframe method that can be run on whole frames or columns (or, less usefully, rows). Below, we'll print counts for all columns in df. ID should be 500, since no row is without an ID. However, you should see lower numbers elsewhere. That's because `count` doesn't count empty cells, so you are actually seeing how many values you really have to work with."
   ]
  },
  {
   "cell_type": "code",
   "execution_count": null,
   "id": "e5105135",
   "metadata": {},
   "outputs": [],
   "source": [
    "df.count()"
   ]
  },
  {
   "cell_type": "markdown",
   "id": "3bd595df",
   "metadata": {},
   "source": [
    "If we use a groupby on Exercise Type first we can detect that there are not equal numbers of people doing each exercise, or even particularly close. (While your specific data is random, the generator has a 3x higher chance of picking \"Running\" than \"Bicycling\" or \"Weight Training\", and a 2x higher chance of picking \"Swimming\" than \"Bicycling\" or \"Weight Training\".)"
   ]
  },
  {
   "cell_type": "code",
   "execution_count": null,
   "id": "cfaeb604",
   "metadata": {},
   "outputs": [],
   "source": [
    "df.groupby('Exercise Type').count()"
   ]
  },
  {
   "cell_type": "markdown",
   "id": "6c0f328a",
   "metadata": {},
   "source": [
    "#### Below, write code that counts the number of individuals in each sub-category after grouping by both Exercise Type and Measurement Device."
   ]
  },
  {
   "cell_type": "code",
   "execution_count": null,
   "id": "778c4d59",
   "metadata": {},
   "outputs": [],
   "source": [
    "# your code goes here\n"
   ]
  },
  {
   "cell_type": "markdown",
   "id": "2f1e2b60",
   "metadata": {},
   "source": [
    "You can count the number of filled cells in a row by passing `axis=1` to `count`. This can be useful if you are concerned with the completeness of rows."
   ]
  },
  {
   "cell_type": "code",
   "execution_count": null,
   "id": "74ed97e8",
   "metadata": {},
   "outputs": [],
   "source": [
    "df.count(axis=1)"
   ]
  },
  {
   "cell_type": "markdown",
   "id": "b9336c53",
   "metadata": {},
   "source": [
    "That's nice, but we can't see how many rows fall into each category. How about this:"
   ]
  },
  {
   "cell_type": "code",
   "execution_count": null,
   "id": "29ef2b26",
   "metadata": {},
   "outputs": [],
   "source": [
    "df[df.count(axis=1) == 7].count()"
   ]
  },
  {
   "cell_type": "markdown",
   "id": "2a88903a",
   "metadata": {},
   "source": [
    "The code above combines filtering with count to filter out any row whose count is less than 7 (a complete row). We then count that filtered frame, and now know how many complete rows we have.\n",
    "\n",
    "#### Below, write a count + filter that tells us how many rows have data for all three of the following columns: Measurement Device, Heart Rate Avg, and Duration of Exercise (min)."
   ]
  },
  {
   "cell_type": "code",
   "execution_count": null,
   "id": "c758e5a5",
   "metadata": {},
   "outputs": [],
   "source": [
    "# your code goes here\n"
   ]
  },
  {
   "cell_type": "markdown",
   "id": "27d34022",
   "metadata": {},
   "source": [
    "### Sum, Min, Max, and Std\n",
    "\n",
    "Pandas offers four more dataframe methods that can be applied just like `count` or the averages and offer basic summary statistics. (Pandas also offers many more not-so-basic methods.)\n",
    "\n",
    "- `sum` sums up a series or dataframe.\n",
    "- `min` and `max` return the minimum and maximum values, respectively.\n",
    "- `std` returns the standard deviation.\n",
    "\n",
    "\n",
    "Just like the averaging methods these are mathematical functions and so if you run them on a whole frame with both numerical and text columns use the keyword argument `numeric_only=True`.\n",
    "\n",
    "#### Calculate the total number of minutes of exercise represented in our dataframe below."
   ]
  },
  {
   "cell_type": "code",
   "execution_count": null,
   "id": "b73c4964",
   "metadata": {},
   "outputs": [],
   "source": [
    "# your code goes here\n"
   ]
  },
  {
   "cell_type": "markdown",
   "id": "d503f8cd",
   "metadata": {},
   "source": [
    "`sum` can seem like a very situational method, but one interesting use is summing over True/False columns. In these cases True is treated as a 1, and False as a 0. Remember that filters work by resolving a row to True (meets the filter conditions) or False.\n",
    "\n",
    "In the last notebook we made a simply True/False column \"Fast Heart Rate\". We'll replicate this column (on a new dataframe copy) and then use sum to count how many individuals have a fast heart rate."
   ]
  },
  {
   "cell_type": "code",
   "execution_count": null,
   "id": "5f8bf46f",
   "metadata": {},
   "outputs": [],
   "source": [
    "df2 = df.copy()\n",
    "df2['Fast Heart Rate'] = df2['Heart Rate Avg'] > 100\n",
    "df2['Fast Heart Rate'].sum()"
   ]
  },
  {
   "cell_type": "markdown",
   "id": "45f2133c",
   "metadata": {},
   "source": [
    "If you have already calculated a True/False column this can be a nice trick.\n",
    "\n",
    "We can also use these methods in more complex expressions. Below, we derive ranges for all numeric columns in our dataframe."
   ]
  },
  {
   "cell_type": "code",
   "execution_count": null,
   "id": "c5ebe80c",
   "metadata": {},
   "outputs": [],
   "source": [
    "df.max(numeric_only=True) - df.min(numeric_only=True)"
   ]
  },
  {
   "cell_type": "markdown",
   "id": "8cbd49de",
   "metadata": {},
   "source": [
    "#### Below, calculate how much higher the maximum value is than the median value for all numeric columns."
   ]
  },
  {
   "cell_type": "code",
   "execution_count": null,
   "id": "c3d8cb88",
   "metadata": {},
   "outputs": [],
   "source": [
    "# your code goes here\n"
   ]
  },
  {
   "cell_type": "markdown",
   "id": "db377811",
   "metadata": {},
   "source": [
    "### Describe combines multiple summary statistics\n",
    "One very useful method is `describe`, which prints many different summary statistics at once."
   ]
  },
  {
   "cell_type": "code",
   "execution_count": null,
   "id": "8c1748e1",
   "metadata": {},
   "outputs": [],
   "source": [
    "df.describe()"
   ]
  },
  {
   "cell_type": "markdown",
   "id": "78115a0b",
   "metadata": {},
   "source": [
    "### Aggregation\n",
    "Aggregation, the `agg` method, initially seems like a slow way to do basic things. Let's select the heart data columns from our dataframe, group by measurement device, and get some sums the usual way."
   ]
  },
  {
   "cell_type": "code",
   "execution_count": null,
   "id": "c1a80daa",
   "metadata": {},
   "outputs": [],
   "source": [
    "df.groupby('Measurement Device')[['Heart Rate Max', 'Heart Rate Min', 'Heart Rate Avg']].sum()"
   ]
  },
  {
   "cell_type": "markdown",
   "id": "d48ad4aa",
   "metadata": {},
   "source": [
    "Now, let's do this with `agg`. `agg` is a funny method. It takes the names of other methods as text arguments. Here we'll pass it the name 'sum'."
   ]
  },
  {
   "cell_type": "code",
   "execution_count": null,
   "id": "c0e47455",
   "metadata": {},
   "outputs": [],
   "source": [
    "df.groupby('Measurement Device')[['Heart Rate Max', 'Heart Rate Min', 'Heart Rate Avg']].agg('sum')"
   ]
  },
  {
   "cell_type": "markdown",
   "id": "9b618e5a",
   "metadata": {},
   "source": [
    "These seems like a more annoying way to do the same thing. However, what if we wanted to get the sums, the minimums, the medians, and the standard deviations? One way would be to write at least four lines of code, which would print out separately. The other way is to use `agg`."
   ]
  },
  {
   "cell_type": "code",
   "execution_count": null,
   "id": "1ad34ef5",
   "metadata": {},
   "outputs": [],
   "source": [
    "df.groupby('Measurement Device')[['Heart Rate Max', 'Heart Rate Min', 'Heart Rate Avg']].agg(['sum', 'min', 'median', 'std'])"
   ]
  },
  {
   "cell_type": "markdown",
   "id": "759c4e8c",
   "metadata": {},
   "source": [
    "As you can see, `agg` can take a list of method names (although not every pandas dataframe method works) and we can rapidly write our own summary statistics function.\n",
    "\n",
    "#### Below, use agg to apply max, min, and mean to Heart Rate Max and Heart Rate Min, after grouping by exercise type."
   ]
  },
  {
   "cell_type": "code",
   "execution_count": null,
   "id": "ed85f057",
   "metadata": {},
   "outputs": [],
   "source": [
    "# your code goes here\n"
   ]
  },
  {
   "cell_type": "markdown",
   "id": "0c0d1f65",
   "metadata": {},
   "source": [
    "Another useful thing about `agg` is that `agg` returns pandas series and dataframes. Imagine that I quickly want to describe the differences between how each device takes all heart rate measures. First, let's repeat creation of that frame and name it agg_frame."
   ]
  },
  {
   "cell_type": "code",
   "execution_count": null,
   "id": "93913f99",
   "metadata": {},
   "outputs": [],
   "source": [
    "agg_frame = df.groupby('Measurement Device')[['Heart Rate Max', 'Heart Rate Min', 'Heart Rate Avg']].agg(['sum', 'min', 'median', 'std'])\n",
    "agg_frame.head()"
   ]
  },
  {
   "cell_type": "markdown",
   "id": "63a9bfb1",
   "metadata": {},
   "source": [
    "The numbers I want are just the difference between the two rows."
   ]
  },
  {
   "cell_type": "code",
   "execution_count": null,
   "id": "ddb7359f",
   "metadata": {},
   "outputs": [],
   "source": [
    "agg_frame.loc['B-Wolf'] - agg_frame.loc['Skykandal']"
   ]
  },
  {
   "cell_type": "markdown",
   "id": "a05aae0b",
   "metadata": {},
   "source": [
    "The dataframe returned is a multi-indexed dataframe, which means we have \"levels\" of indexing to access items. This is more easily demonstrated that explained, so the next two cells of code will access first all data for Heart Rate Max and then just the minimums for that section."
   ]
  },
  {
   "cell_type": "code",
   "execution_count": null,
   "id": "c61bee2f",
   "metadata": {},
   "outputs": [],
   "source": [
    "agg_frame['Heart Rate Max']"
   ]
  },
  {
   "cell_type": "code",
   "execution_count": null,
   "id": "fb50e3ee",
   "metadata": {},
   "outputs": [],
   "source": [
    "agg_frame['Heart Rate Max']['min']"
   ]
  },
  {
   "cell_type": "markdown",
   "id": "b83428d0",
   "metadata": {},
   "source": [
    "As you can see, you can access the higher-level category like a column, but then treat it as if it were its own dataframe with columns named sum, min, median, and std. Or, to explain it another way, the cell directly above asks for column min from the subset of columns under the heading Heart Rate Max.\n",
    "\n",
    "Given this, it is also possibly to compare columns across categories.\n",
    "\n",
    "#### Below, write code that finds the differences between each summary statistic for Heart Rate Max and Heart Rate Min for each measurement device. Using agg_frame you can do this in a single line of code."
   ]
  },
  {
   "cell_type": "code",
   "execution_count": null,
   "id": "40e691f4",
   "metadata": {},
   "outputs": [],
   "source": [
    "# your code goes here\n"
   ]
  },
  {
   "cell_type": "markdown",
   "id": "bc0a3255",
   "metadata": {},
   "source": [
    "### Graphs\n",
    "Another common thing to do when investigating summary statistics is to graph data. Pandas comes with some dataframe methods that interface with the popular Python package matplotlib that provide basic graphs without much additional work. If you're interested in more complex graphs you'll want to use matplotlib directly.\n",
    "\n",
    "We will cover the methods `bar` (bar graphs), `hist` (histograms), `box` (boxplot), `density` (density plots), and `scatter` (scatter plots). These are not the only options, but they cover many of the basics and you should be able to easily figure out how to use the other graph types by looking at pandas documentation once we have discussed the syntax for these graphs.\n",
    "\n",
    "Let's start with an easy one: `hist`. To make a histogram of a column's values just run `hist` on the column. ALL graph types come from the `plot` method of the dataframe, which means we write `plot.hist`."
   ]
  },
  {
   "cell_type": "code",
   "execution_count": null,
   "id": "7ad77a03",
   "metadata": {},
   "outputs": [],
   "source": [
    "df['Heart Rate Avg'].plot.hist()"
   ]
  },
  {
   "cell_type": "markdown",
   "id": "2556ee85",
   "metadata": {},
   "source": [
    "We can graph multiple columns by running `plot.hist` on multiple columns."
   ]
  },
  {
   "cell_type": "code",
   "execution_count": null,
   "id": "945770c5",
   "metadata": {},
   "outputs": [],
   "source": [
    "df[['Heart Rate Max', 'Heart Rate Min']].plot.hist()"
   ]
  },
  {
   "cell_type": "markdown",
   "id": "88e340bc",
   "metadata": {},
   "source": [
    "As you can see, some of the columns hide others. Two useful keywords for `hist` are `alpha` and `bins`. `alpha` controls transparency. 1 is fully opaque, 0 is fully transparent. Below is the histogram above with a binwidth of 5 and partly-transparent columns.\n",
    "\n",
    "`bins` is NOT binwidth, but an indirect control of binwidth by controlling the total number of bins the data is split between. So reducing `bins` makes larger binwidths.\n",
    "\n",
    "Below is code for 5 bins and partly transparent columns."
   ]
  },
  {
   "cell_type": "code",
   "execution_count": null,
   "id": "ab2d0346",
   "metadata": {},
   "outputs": [],
   "source": [
    "df[['Heart Rate Max', 'Heart Rate Min']].plot.hist(bins=5, alpha=0.5)"
   ]
  },
  {
   "cell_type": "markdown",
   "id": "b71eed65",
   "metadata": {},
   "source": [
    "#### Below, write code that makes a 20-bin histogram for Heart Rate Avg."
   ]
  },
  {
   "cell_type": "code",
   "execution_count": null,
   "id": "5ebfa842",
   "metadata": {},
   "outputs": [],
   "source": [
    "# your code goes here\n"
   ]
  },
  {
   "cell_type": "markdown",
   "id": "a3ca971d",
   "metadata": {},
   "source": [
    "`density` is very similar, although without the same keywords."
   ]
  },
  {
   "cell_type": "code",
   "execution_count": null,
   "id": "05840ee8",
   "metadata": {},
   "outputs": [],
   "source": [
    "df['Heart Rate Avg'].plot.density()"
   ]
  },
  {
   "cell_type": "markdown",
   "id": "83c57751",
   "metadata": {},
   "source": [
    "#### Below, write code that makes a density plot for both Heart Rate Min and Heart Rate Max."
   ]
  },
  {
   "cell_type": "code",
   "execution_count": null,
   "id": "322db044",
   "metadata": {},
   "outputs": [],
   "source": [
    "# your code goes here\n"
   ]
  },
  {
   "cell_type": "markdown",
   "id": "3deabe89",
   "metadata": {},
   "source": [
    "Boxplots and scatterplots work similarly in that they operate on a dataframe and you use keywords to name the specific columns that you are going to use. These aren't the same keywords, unfortunately, but the syntax is pretty simple. In `box` you use a `column` to mark the column of values you want to graph, and `by` to run what amounts to an internal `groupby` that splits that data into categories.\n",
    "\n",
    "Below, we make a boxplot of heart rate averages split by exercise type."
   ]
  },
  {
   "cell_type": "code",
   "execution_count": null,
   "id": "8a7c5350",
   "metadata": {},
   "outputs": [],
   "source": [
    "df.plot.box(column='Heart Rate Avg', by='Exercise Type')"
   ]
  },
  {
   "cell_type": "markdown",
   "id": "122c5d7c",
   "metadata": {},
   "source": [
    "`scatter` uses `x` and `y` to mark variables."
   ]
  },
  {
   "cell_type": "code",
   "execution_count": null,
   "id": "006b4802",
   "metadata": {},
   "outputs": [],
   "source": [
    "df.plot.scatter(x='Heart Rate Avg', y='Heart Rate Max')"
   ]
  },
  {
   "cell_type": "markdown",
   "id": "5358f7ff",
   "metadata": {},
   "source": [
    "#### Below, make a boxplot of average heart rate split by measurement device."
   ]
  },
  {
   "cell_type": "code",
   "execution_count": null,
   "id": "d02a3e8f",
   "metadata": {},
   "outputs": [],
   "source": []
  },
  {
   "cell_type": "markdown",
   "id": "83f5e436",
   "metadata": {},
   "source": [
    "#### Now make a scatterplot of heart rate average by duration of exercise. There should be no visible trend."
   ]
  },
  {
   "cell_type": "code",
   "execution_count": null,
   "id": "659fa523",
   "metadata": {},
   "outputs": [],
   "source": []
  },
  {
   "cell_type": "markdown",
   "id": "5c2b085d",
   "metadata": {},
   "source": [
    "Bar charts are slightly trickier, but not because of the syntax. The syntax of `bar` is fairly straightforward, requiring only a `y` keyword, although an `x` can be used to specify groups. However, the results can be odd.\n",
    "\n",
    "Below, we will make a bar chart for average heart rate split by exercise type. This may take a minute to run."
   ]
  },
  {
   "cell_type": "code",
   "execution_count": null,
   "id": "9251b0ae",
   "metadata": {},
   "outputs": [],
   "source": [
    "df.plot.bar(x='Exercise Type', y='Heart Rate Avg')"
   ]
  },
  {
   "cell_type": "markdown",
   "id": "a2d31ec1",
   "metadata": {},
   "source": [
    "This is a mess. The tricky part about `bar` is it really only wants one value to graph for each bar. So let's use `groupby` to make that happen."
   ]
  },
  {
   "cell_type": "code",
   "execution_count": null,
   "id": "b88d8804",
   "metadata": {},
   "outputs": [],
   "source": [
    "graph_frame = df.groupby('Exercise Type').mean(numeric_only=True)\n",
    "graph_frame.head()"
   ]
  },
  {
   "cell_type": "markdown",
   "id": "e1de885f",
   "metadata": {},
   "source": [
    "Now we can simply use `y` to get our bar chart, with no need for `x`."
   ]
  },
  {
   "cell_type": "code",
   "execution_count": null,
   "id": "641ed076",
   "metadata": {},
   "outputs": [],
   "source": [
    "graph_frame.plot.bar(y='Heart Rate Avg')"
   ]
  },
  {
   "cell_type": "markdown",
   "id": "94d54a30",
   "metadata": {},
   "source": [
    "If we filtered graph_frame down to a single column we wouldn't even need `y`."
   ]
  },
  {
   "cell_type": "code",
   "execution_count": null,
   "id": "9ad34285",
   "metadata": {},
   "outputs": [],
   "source": [
    "graph_frame['Heart Rate Avg'].plot.bar()"
   ]
  },
  {
   "cell_type": "markdown",
   "id": "a5c463b1",
   "metadata": {},
   "source": [
    "We can also graph multiple columns next to each other using the same trick."
   ]
  },
  {
   "cell_type": "code",
   "execution_count": null,
   "id": "4bd2f482",
   "metadata": {},
   "outputs": [],
   "source": [
    "graph_frame[['Heart Rate Avg', 'Heart Rate Max']].plot.bar()"
   ]
  },
  {
   "cell_type": "markdown",
   "id": "b7be7e39",
   "metadata": {},
   "source": [
    "If we wanted these stacked we can pass `stacked=True` to `bar`."
   ]
  },
  {
   "cell_type": "code",
   "execution_count": null,
   "id": "ff8cdeaf",
   "metadata": {},
   "outputs": [],
   "source": [
    "graph_frame[['Heart Rate Avg', 'Heart Rate Max']].plot.bar(stacked=True)"
   ]
  },
  {
   "cell_type": "markdown",
   "id": "5649127a",
   "metadata": {},
   "source": [
    "#### Below, use groupby to group by measuring device and then make a bar chart that compares average heart rate across measuring devices."
   ]
  },
  {
   "cell_type": "code",
   "execution_count": null,
   "id": "bd68bebc",
   "metadata": {},
   "outputs": [],
   "source": [
    "# your code goes here\n"
   ]
  },
  {
   "cell_type": "markdown",
   "id": "fa185bab",
   "metadata": {},
   "source": [
    "This concludes summary statistics. If you want to go deeper into statistics (or matplotlib) you'll want to do the optional module Using Other Packages with Pandas."
   ]
  }
 ],
 "metadata": {
  "kernelspec": {
   "display_name": "Python 3 (ipykernel)",
   "language": "python",
   "name": "python3"
  },
  "language_info": {
   "codemirror_mode": {
    "name": "ipython",
    "version": 3
   },
   "file_extension": ".py",
   "mimetype": "text/x-python",
   "name": "python",
   "nbconvert_exporter": "python",
   "pygments_lexer": "ipython3",
   "version": "3.11.2"
  }
 },
 "nbformat": 4,
 "nbformat_minor": 5
}
