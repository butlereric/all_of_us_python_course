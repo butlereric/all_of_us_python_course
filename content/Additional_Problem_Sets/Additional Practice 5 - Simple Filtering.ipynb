{
 "cells": [
  {
   "cell_type": "markdown",
   "id": "c474ebf9",
   "metadata": {},
   "source": [
    "The block below will import pandas and your dataframe (naming it df), as well as showing you the first five rows. (This replicates what you'll get in All of Us, where all of this will be added to the notebook automatically.) Run this block or you can't do any of the other exercises.\n",
    "\n",
    "The dataframe you will get is one where a drug has been used to treat a variety of conditions. Questions are arising as to whether it causes issues with intraocular pressure. You will have the patient's intraocular pressure, the number of days they were treated with the drug, the per-day dosage, and the condition they were treated for as both a name and a numeric code."
   ]
  },
  {
   "cell_type": "code",
   "execution_count": null,
   "id": "1b02e8e1",
   "metadata": {},
   "outputs": [],
   "source": [
    "import random\n",
    "import pandas as pd\n",
    "\n",
    "drug_data = {'Intraocular Pressure': [], 'Days of Treatment': [], 'Dosage (mg)': [], 'Condition Treated': [],\n",
    "             'Condition Treated Code': []}\n",
    "for x in range(0, 1000):\n",
    "    # introcular pressure should be 10-20 mmHg\n",
    "    chooser = random.randint(0, 6)\n",
    "    iop = round(random.gauss(12, 2), 1)\n",
    "    days = int(random.gauss(6, 1) - chooser)\n",
    "    if days < 0:\n",
    "        days = 0\n",
    "    dosage = int(random.gauss(10 + chooser, 2))\n",
    "    condition = random.choice(['Corneal abrasion', 'Acid reflux', 'Animal bite', 'Anemia'])\n",
    "    condition_code = 0\n",
    "    if condition == 'Acid reflux':\n",
    "        condition_code = 1\n",
    "    elif condition == 'Animal bite':\n",
    "        condition_code = random.randint(2, 3)\n",
    "    elif condition == 'Anemia':\n",
    "        condition_code = 4\n",
    "    row = [iop, days, dosage, condition, condition_code]\n",
    "    num_times = 1\n",
    "    drug_data['Intraocular Pressure'].append(row[0])\n",
    "    drug_data['Days of Treatment'].append(row[1])\n",
    "    drug_data['Dosage (mg)'].append(row[2])\n",
    "    drug_data['Condition Treated'].append(row[3])\n",
    "    drug_data['Condition Treated Code'].append(row[4])\n",
    "    \n",
    "df = pd.DataFrame(drug_data)\n",
    "df.head()"
   ]
  },
  {
   "cell_type": "markdown",
   "id": "471b808f",
   "metadata": {},
   "source": [
    "### Filtering Using Mathematical Operators"
   ]
  },
  {
   "cell_type": "markdown",
   "id": "271435fc",
   "metadata": {},
   "source": [
    "Below, write a line of code to filter for all patients with intraocular pressures over 15."
   ]
  },
  {
   "cell_type": "code",
   "execution_count": null,
   "id": "ad411149",
   "metadata": {},
   "outputs": [],
   "source": [
    "# your code goes here\n"
   ]
  },
  {
   "cell_type": "markdown",
   "id": "25a1c03e",
   "metadata": {},
   "source": [
    "Below, write a line of code that returns all patients who were treated for Animal bite."
   ]
  },
  {
   "cell_type": "code",
   "execution_count": null,
   "id": "3c332583",
   "metadata": {},
   "outputs": [],
   "source": [
    "# your code goes here\n"
   ]
  },
  {
   "cell_type": "markdown",
   "id": "c86afb32",
   "metadata": {},
   "source": [
    "Write a line of code that returns everyone who was treated for something other than Anemia."
   ]
  },
  {
   "cell_type": "code",
   "execution_count": null,
   "id": "f3f11525",
   "metadata": {},
   "outputs": [],
   "source": [
    "# your code goes here\n"
   ]
  },
  {
   "cell_type": "markdown",
   "id": "c3cf2a82",
   "metadata": {},
   "source": [
    "Return every row where intraocular pressure is higher than Dosage (mg)."
   ]
  },
  {
   "cell_type": "code",
   "execution_count": null,
   "id": "769a94ed",
   "metadata": {},
   "outputs": [],
   "source": [
    "# your code goes here\n"
   ]
  },
  {
   "cell_type": "markdown",
   "id": "2c784477",
   "metadata": {},
   "source": [
    "Return every row where the total dosage the patient has been treated with (dosage times days) is higher than 40."
   ]
  },
  {
   "cell_type": "code",
   "execution_count": null,
   "id": "7a499cfc",
   "metadata": {},
   "outputs": [],
   "source": [
    "# your code goes here\n"
   ]
  },
  {
   "cell_type": "markdown",
   "id": "c726fb67",
   "metadata": {},
   "source": [
    "### Filtering Using isin()"
   ]
  },
  {
   "cell_type": "markdown",
   "id": "6d78221c",
   "metadata": {},
   "source": [
    "Write some code to filter for every patients treated for either Anemia or Corneal Abrasion."
   ]
  },
  {
   "cell_type": "code",
   "execution_count": null,
   "id": "e0682a46",
   "metadata": {},
   "outputs": [],
   "source": [
    "# your code goes here\n"
   ]
  },
  {
   "cell_type": "markdown",
   "id": "8f768bfd",
   "metadata": {},
   "source": [
    "Flip your line of code above using the negator so that you return only patients treated for Anemia or Corneal Abrasion."
   ]
  },
  {
   "cell_type": "code",
   "execution_count": null,
   "id": "fee00f5b",
   "metadata": {},
   "outputs": [],
   "source": [
    "# your code goes here\n"
   ]
  },
  {
   "cell_type": "markdown",
   "id": "7ea9c4f7",
   "metadata": {},
   "source": [
    "### Chaining Filters"
   ]
  },
  {
   "cell_type": "markdown",
   "id": "23fcf3d0",
   "metadata": {},
   "source": [
    "Filter for everyone who was treated for Animal bite for more than 4 days."
   ]
  },
  {
   "cell_type": "code",
   "execution_count": null,
   "id": "7cd20510",
   "metadata": {},
   "outputs": [],
   "source": [
    "# your code goes here\n"
   ]
  },
  {
   "cell_type": "markdown",
   "id": "b9e74412",
   "metadata": {},
   "source": [
    "Filter for everyone who was treated with more than 10 mg or for more than 5 days."
   ]
  },
  {
   "cell_type": "code",
   "execution_count": null,
   "id": "f3706a93",
   "metadata": {},
   "outputs": [],
   "source": [
    "# your code goes here\n"
   ]
  },
  {
   "cell_type": "markdown",
   "id": "7e09bd18",
   "metadata": {},
   "source": [
    "Filter for everyone who was treated with either 50 mg total (dosage times days) or was treated with more than 10 mg for something other than Animal bite."
   ]
  },
  {
   "cell_type": "code",
   "execution_count": null,
   "id": "efa0b902",
   "metadata": {},
   "outputs": [],
   "source": [
    "# your code goes here\n"
   ]
  },
  {
   "cell_type": "markdown",
   "id": "90fe1c86",
   "metadata": {},
   "source": [
    "Filter for all corneal abrasion patients treated for less than 4 days or acid reflux patients treated with less than 10 mg."
   ]
  },
  {
   "cell_type": "code",
   "execution_count": null,
   "id": "ed900215",
   "metadata": {},
   "outputs": [],
   "source": [
    "# your code goes here\n"
   ]
  },
  {
   "cell_type": "markdown",
   "id": "c92e29d9",
   "metadata": {},
   "source": [
    "### Advanced practice\n",
    "\n",
    "If you really want to test your skills, try this. In notebook 3, we discussed the isna method and then moved to using dropna to drop NaNs. Under the hood, isna works like isin. Both produce a dataframe full of True and False. Since we've now filtered using the dataframe isin produces you should be able to replicate the behavior of dropna with a filter. The code block below will generate a dataframe with NaNs in it. Use the block below that to write your dropna replicate that uses filtering instead of dropna."
   ]
  },
  {
   "cell_type": "code",
   "execution_count": null,
   "id": "891e5016",
   "metadata": {},
   "outputs": [],
   "source": [
    "ducks = [None, 3, 2, 6, 7]\n",
    "pigs = [12, 0, None, 6, 1]\n",
    "horses = [0, 0, 2, 1, 0]\n",
    "sheep = [23, 0, 14, 99, 8]\n",
    "\n",
    "na_df = pd.DataFrame({'ducks': ducks, 'pigs': pigs, 'horses': horses, 'sheep': sheep})\n",
    "na_df.head()"
   ]
  },
  {
   "cell_type": "code",
   "execution_count": null,
   "id": "38767f8b",
   "metadata": {},
   "outputs": [],
   "source": [
    "# your code goes here\n"
   ]
  }
 ],
 "metadata": {
  "kernelspec": {
   "display_name": "Python 3 (ipykernel)",
   "language": "python",
   "name": "python3"
  },
  "language_info": {
   "codemirror_mode": {
    "name": "ipython",
    "version": 3
   },
   "file_extension": ".py",
   "mimetype": "text/x-python",
   "name": "python",
   "nbconvert_exporter": "python",
   "pygments_lexer": "ipython3",
   "version": "3.11.2"
  }
 },
 "nbformat": 4,
 "nbformat_minor": 5
}
